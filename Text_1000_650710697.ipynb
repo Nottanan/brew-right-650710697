{
  "cells": [
    {
      "cell_type": "code",
      "execution_count": 1,
      "metadata": {
        "colab": {
          "base_uri": "https://localhost:8080/"
        },
        "id": "n_V18_J0UyXW",
        "outputId": "902007e4-ed68-41db-f3a8-12e8abeb202c"
      },
      "outputs": [
        {
          "output_type": "stream",
          "name": "stdout",
          "text": [
            "Requirement already satisfied: langchain-core in /usr/local/lib/python3.12/dist-packages (1.0.0)\n",
            "Requirement already satisfied: langchain-community in /usr/local/lib/python3.12/dist-packages (0.4)\n",
            "Requirement already satisfied: langchain-ollama in /usr/local/lib/python3.12/dist-packages (1.0.0)\n",
            "Requirement already satisfied: langchain-openai in /usr/local/lib/python3.12/dist-packages (1.0.0)\n",
            "Requirement already satisfied: jsonpatch<2.0.0,>=1.33.0 in /usr/local/lib/python3.12/dist-packages (from langchain-core) (1.33)\n",
            "Requirement already satisfied: langsmith<1.0.0,>=0.3.45 in /usr/local/lib/python3.12/dist-packages (from langchain-core) (0.4.35)\n",
            "Requirement already satisfied: packaging<26.0.0,>=23.2.0 in /usr/local/lib/python3.12/dist-packages (from langchain-core) (25.0)\n",
            "Requirement already satisfied: pydantic<3.0.0,>=2.7.4 in /usr/local/lib/python3.12/dist-packages (from langchain-core) (2.11.10)\n",
            "Requirement already satisfied: pyyaml<7.0.0,>=5.3.0 in /usr/local/lib/python3.12/dist-packages (from langchain-core) (6.0.3)\n",
            "Requirement already satisfied: tenacity!=8.4.0,<10.0.0,>=8.1.0 in /usr/local/lib/python3.12/dist-packages (from langchain-core) (8.5.0)\n",
            "Requirement already satisfied: typing-extensions<5.0.0,>=4.7.0 in /usr/local/lib/python3.12/dist-packages (from langchain-core) (4.15.0)\n",
            "Requirement already satisfied: langchain-classic<2.0.0,>=1.0.0 in /usr/local/lib/python3.12/dist-packages (from langchain-community) (1.0.0)\n",
            "Requirement already satisfied: SQLAlchemy<3.0.0,>=1.4.0 in /usr/local/lib/python3.12/dist-packages (from langchain-community) (2.0.44)\n",
            "Requirement already satisfied: requests<3.0.0,>=2.32.5 in /usr/local/lib/python3.12/dist-packages (from langchain-community) (2.32.5)\n",
            "Requirement already satisfied: aiohttp<4.0.0,>=3.8.3 in /usr/local/lib/python3.12/dist-packages (from langchain-community) (3.13.0)\n",
            "Requirement already satisfied: dataclasses-json<0.7.0,>=0.6.7 in /usr/local/lib/python3.12/dist-packages (from langchain-community) (0.6.7)\n",
            "Requirement already satisfied: pydantic-settings<3.0.0,>=2.10.1 in /usr/local/lib/python3.12/dist-packages (from langchain-community) (2.11.0)\n",
            "Requirement already satisfied: httpx-sse<1.0.0,>=0.4.0 in /usr/local/lib/python3.12/dist-packages (from langchain-community) (0.4.3)\n",
            "Requirement already satisfied: numpy>=1.26.2 in /usr/local/lib/python3.12/dist-packages (from langchain-community) (2.0.2)\n",
            "Requirement already satisfied: ollama<1.0.0,>=0.6.0 in /usr/local/lib/python3.12/dist-packages (from langchain-ollama) (0.6.0)\n",
            "Requirement already satisfied: openai<3.0.0,>=1.109.1 in /usr/local/lib/python3.12/dist-packages (from langchain-openai) (1.109.1)\n",
            "Requirement already satisfied: tiktoken<1.0.0,>=0.7.0 in /usr/local/lib/python3.12/dist-packages (from langchain-openai) (0.12.0)\n",
            "Requirement already satisfied: aiohappyeyeballs>=2.5.0 in /usr/local/lib/python3.12/dist-packages (from aiohttp<4.0.0,>=3.8.3->langchain-community) (2.6.1)\n",
            "Requirement already satisfied: aiosignal>=1.4.0 in /usr/local/lib/python3.12/dist-packages (from aiohttp<4.0.0,>=3.8.3->langchain-community) (1.4.0)\n",
            "Requirement already satisfied: attrs>=17.3.0 in /usr/local/lib/python3.12/dist-packages (from aiohttp<4.0.0,>=3.8.3->langchain-community) (25.4.0)\n",
            "Requirement already satisfied: frozenlist>=1.1.1 in /usr/local/lib/python3.12/dist-packages (from aiohttp<4.0.0,>=3.8.3->langchain-community) (1.8.0)\n",
            "Requirement already satisfied: multidict<7.0,>=4.5 in /usr/local/lib/python3.12/dist-packages (from aiohttp<4.0.0,>=3.8.3->langchain-community) (6.7.0)\n",
            "Requirement already satisfied: propcache>=0.2.0 in /usr/local/lib/python3.12/dist-packages (from aiohttp<4.0.0,>=3.8.3->langchain-community) (0.4.1)\n",
            "Requirement already satisfied: yarl<2.0,>=1.17.0 in /usr/local/lib/python3.12/dist-packages (from aiohttp<4.0.0,>=3.8.3->langchain-community) (1.22.0)\n",
            "Requirement already satisfied: marshmallow<4.0.0,>=3.18.0 in /usr/local/lib/python3.12/dist-packages (from dataclasses-json<0.7.0,>=0.6.7->langchain-community) (3.26.1)\n",
            "Requirement already satisfied: typing-inspect<1,>=0.4.0 in /usr/local/lib/python3.12/dist-packages (from dataclasses-json<0.7.0,>=0.6.7->langchain-community) (0.9.0)\n",
            "Requirement already satisfied: jsonpointer>=1.9 in /usr/local/lib/python3.12/dist-packages (from jsonpatch<2.0.0,>=1.33.0->langchain-core) (3.0.0)\n",
            "Requirement already satisfied: langchain-text-splitters<2.0.0,>=1.0.0 in /usr/local/lib/python3.12/dist-packages (from langchain-classic<2.0.0,>=1.0.0->langchain-community) (1.0.0)\n",
            "Requirement already satisfied: httpx<1,>=0.23.0 in /usr/local/lib/python3.12/dist-packages (from langsmith<1.0.0,>=0.3.45->langchain-core) (0.28.1)\n",
            "Requirement already satisfied: orjson>=3.9.14 in /usr/local/lib/python3.12/dist-packages (from langsmith<1.0.0,>=0.3.45->langchain-core) (3.11.3)\n",
            "Requirement already satisfied: requests-toolbelt>=1.0.0 in /usr/local/lib/python3.12/dist-packages (from langsmith<1.0.0,>=0.3.45->langchain-core) (1.0.0)\n",
            "Requirement already satisfied: zstandard>=0.23.0 in /usr/local/lib/python3.12/dist-packages (from langsmith<1.0.0,>=0.3.45->langchain-core) (0.25.0)\n",
            "Requirement already satisfied: anyio<5,>=3.5.0 in /usr/local/lib/python3.12/dist-packages (from openai<3.0.0,>=1.109.1->langchain-openai) (4.11.0)\n",
            "Requirement already satisfied: distro<2,>=1.7.0 in /usr/local/lib/python3.12/dist-packages (from openai<3.0.0,>=1.109.1->langchain-openai) (1.9.0)\n",
            "Requirement already satisfied: jiter<1,>=0.4.0 in /usr/local/lib/python3.12/dist-packages (from openai<3.0.0,>=1.109.1->langchain-openai) (0.11.0)\n",
            "Requirement already satisfied: sniffio in /usr/local/lib/python3.12/dist-packages (from openai<3.0.0,>=1.109.1->langchain-openai) (1.3.1)\n",
            "Requirement already satisfied: tqdm>4 in /usr/local/lib/python3.12/dist-packages (from openai<3.0.0,>=1.109.1->langchain-openai) (4.67.1)\n",
            "Requirement already satisfied: annotated-types>=0.6.0 in /usr/local/lib/python3.12/dist-packages (from pydantic<3.0.0,>=2.7.4->langchain-core) (0.7.0)\n",
            "Requirement already satisfied: pydantic-core==2.33.2 in /usr/local/lib/python3.12/dist-packages (from pydantic<3.0.0,>=2.7.4->langchain-core) (2.33.2)\n",
            "Requirement already satisfied: typing-inspection>=0.4.0 in /usr/local/lib/python3.12/dist-packages (from pydantic<3.0.0,>=2.7.4->langchain-core) (0.4.2)\n",
            "Requirement already satisfied: python-dotenv>=0.21.0 in /usr/local/lib/python3.12/dist-packages (from pydantic-settings<3.0.0,>=2.10.1->langchain-community) (1.1.1)\n",
            "Requirement already satisfied: charset_normalizer<4,>=2 in /usr/local/lib/python3.12/dist-packages (from requests<3.0.0,>=2.32.5->langchain-community) (3.4.4)\n",
            "Requirement already satisfied: idna<4,>=2.5 in /usr/local/lib/python3.12/dist-packages (from requests<3.0.0,>=2.32.5->langchain-community) (3.11)\n",
            "Requirement already satisfied: urllib3<3,>=1.21.1 in /usr/local/lib/python3.12/dist-packages (from requests<3.0.0,>=2.32.5->langchain-community) (2.5.0)\n",
            "Requirement already satisfied: certifi>=2017.4.17 in /usr/local/lib/python3.12/dist-packages (from requests<3.0.0,>=2.32.5->langchain-community) (2025.10.5)\n",
            "Requirement already satisfied: greenlet>=1 in /usr/local/lib/python3.12/dist-packages (from SQLAlchemy<3.0.0,>=1.4.0->langchain-community) (3.2.4)\n",
            "Requirement already satisfied: regex>=2022.1.18 in /usr/local/lib/python3.12/dist-packages (from tiktoken<1.0.0,>=0.7.0->langchain-openai) (2024.11.6)\n",
            "Requirement already satisfied: httpcore==1.* in /usr/local/lib/python3.12/dist-packages (from httpx<1,>=0.23.0->langsmith<1.0.0,>=0.3.45->langchain-core) (1.0.9)\n",
            "Requirement already satisfied: h11>=0.16 in /usr/local/lib/python3.12/dist-packages (from httpcore==1.*->httpx<1,>=0.23.0->langsmith<1.0.0,>=0.3.45->langchain-core) (0.16.0)\n",
            "Requirement already satisfied: mypy-extensions>=0.3.0 in /usr/local/lib/python3.12/dist-packages (from typing-inspect<1,>=0.4.0->dataclasses-json<0.7.0,>=0.6.7->langchain-community) (1.1.0)\n"
          ]
        }
      ],
      "source": [
        "!pip install -U langchain-core langchain-community langchain-ollama langchain-openai"
      ]
    },
    {
      "cell_type": "code",
      "execution_count": 2,
      "metadata": {
        "colab": {
          "base_uri": "https://localhost:8080/"
        },
        "id": "T7hE2rGVU4bt",
        "outputId": "c2729542-7afb-486a-facd-a3edb9896430"
      },
      "outputs": [
        {
          "output_type": "stream",
          "name": "stdout",
          "text": [
            "Drive already mounted at /content/drive; to attempt to forcibly remount, call drive.mount(\"/content/drive\", force_remount=True).\n"
          ]
        }
      ],
      "source": [
        "from google.colab import drive\n",
        "drive.mount('/content/drive')"
      ]
    },
    {
      "cell_type": "code",
      "execution_count": 3,
      "metadata": {
        "colab": {
          "base_uri": "https://localhost:8080/"
        },
        "id": "3ORM3-WmVFL8",
        "outputId": "092093ec-a525-415d-ba50-763d33284d7c"
      },
      "outputs": [
        {
          "output_type": "stream",
          "name": "stdout",
          "text": [
            "sample_reviews.csv  w_review_train.csv\tw_review_train.parquet\n"
          ]
        }
      ],
      "source": [
        "!ls /content/drive/MyDrive/DST/review_dataset"
      ]
    },
    {
      "cell_type": "code",
      "execution_count": 4,
      "metadata": {
        "id": "DCuRGKYiVK1p"
      },
      "outputs": [],
      "source": [
        "import duckdb\n",
        "\n",
        "con = duckdb.connect(database=':memory:', read_only=False)"
      ]
    },
    {
      "cell_type": "code",
      "execution_count": 5,
      "metadata": {
        "colab": {
          "base_uri": "https://localhost:8080/",
          "height": 206
        },
        "id": "OlxlNeuJVi6a",
        "outputId": "b70bb018-441d-4bfd-db1b-8ceae5feb140"
      },
      "outputs": [
        {
          "output_type": "execute_result",
          "data": {
            "text/plain": [
              "                                             column0  column1\n",
              "0  ร้านอาหารใหญ่มากกกกกกก \\nเลี้ยวเข้ามาเจอห้องน้...        3\n",
              "1  อาหารที่นี่เป็นอาหารจีนแคะที่หากินยากในบ้านเรา...        4\n",
              "2  ปอเปี๊ยะสด ทุกวันนี้รู้สึกว่าหากินยาก (ร้านที่...        3\n",
              "3  รัานคัพเค้กในเมืองไทยมีไม่มาก หลายๆคนอาจจะสงสั...        5\n",
              "4  อร่อย!!! เดินผ่านDigital gatewayทุกวัน ไม่ยักร...        5"
            ],
            "text/html": [
              "\n",
              "  <div id=\"df-ff602e72-9251-4147-a929-8226161df49a\" class=\"colab-df-container\">\n",
              "    <div>\n",
              "<style scoped>\n",
              "    .dataframe tbody tr th:only-of-type {\n",
              "        vertical-align: middle;\n",
              "    }\n",
              "\n",
              "    .dataframe tbody tr th {\n",
              "        vertical-align: top;\n",
              "    }\n",
              "\n",
              "    .dataframe thead th {\n",
              "        text-align: right;\n",
              "    }\n",
              "</style>\n",
              "<table border=\"1\" class=\"dataframe\">\n",
              "  <thead>\n",
              "    <tr style=\"text-align: right;\">\n",
              "      <th></th>\n",
              "      <th>column0</th>\n",
              "      <th>column1</th>\n",
              "    </tr>\n",
              "  </thead>\n",
              "  <tbody>\n",
              "    <tr>\n",
              "      <th>0</th>\n",
              "      <td>ร้านอาหารใหญ่มากกกกกกก \\nเลี้ยวเข้ามาเจอห้องน้...</td>\n",
              "      <td>3</td>\n",
              "    </tr>\n",
              "    <tr>\n",
              "      <th>1</th>\n",
              "      <td>อาหารที่นี่เป็นอาหารจีนแคะที่หากินยากในบ้านเรา...</td>\n",
              "      <td>4</td>\n",
              "    </tr>\n",
              "    <tr>\n",
              "      <th>2</th>\n",
              "      <td>ปอเปี๊ยะสด ทุกวันนี้รู้สึกว่าหากินยาก (ร้านที่...</td>\n",
              "      <td>3</td>\n",
              "    </tr>\n",
              "    <tr>\n",
              "      <th>3</th>\n",
              "      <td>รัานคัพเค้กในเมืองไทยมีไม่มาก หลายๆคนอาจจะสงสั...</td>\n",
              "      <td>5</td>\n",
              "    </tr>\n",
              "    <tr>\n",
              "      <th>4</th>\n",
              "      <td>อร่อย!!! เดินผ่านDigital gatewayทุกวัน ไม่ยักร...</td>\n",
              "      <td>5</td>\n",
              "    </tr>\n",
              "  </tbody>\n",
              "</table>\n",
              "</div>\n",
              "    <div class=\"colab-df-buttons\">\n",
              "\n",
              "  <div class=\"colab-df-container\">\n",
              "    <button class=\"colab-df-convert\" onclick=\"convertToInteractive('df-ff602e72-9251-4147-a929-8226161df49a')\"\n",
              "            title=\"Convert this dataframe to an interactive table.\"\n",
              "            style=\"display:none;\">\n",
              "\n",
              "  <svg xmlns=\"http://www.w3.org/2000/svg\" height=\"24px\" viewBox=\"0 -960 960 960\">\n",
              "    <path d=\"M120-120v-720h720v720H120Zm60-500h600v-160H180v160Zm220 220h160v-160H400v160Zm0 220h160v-160H400v160ZM180-400h160v-160H180v160Zm440 0h160v-160H620v160ZM180-180h160v-160H180v160Zm440 0h160v-160H620v160Z\"/>\n",
              "  </svg>\n",
              "    </button>\n",
              "\n",
              "  <style>\n",
              "    .colab-df-container {\n",
              "      display:flex;\n",
              "      gap: 12px;\n",
              "    }\n",
              "\n",
              "    .colab-df-convert {\n",
              "      background-color: #E8F0FE;\n",
              "      border: none;\n",
              "      border-radius: 50%;\n",
              "      cursor: pointer;\n",
              "      display: none;\n",
              "      fill: #1967D2;\n",
              "      height: 32px;\n",
              "      padding: 0 0 0 0;\n",
              "      width: 32px;\n",
              "    }\n",
              "\n",
              "    .colab-df-convert:hover {\n",
              "      background-color: #E2EBFA;\n",
              "      box-shadow: 0px 1px 2px rgba(60, 64, 67, 0.3), 0px 1px 3px 1px rgba(60, 64, 67, 0.15);\n",
              "      fill: #174EA6;\n",
              "    }\n",
              "\n",
              "    .colab-df-buttons div {\n",
              "      margin-bottom: 4px;\n",
              "    }\n",
              "\n",
              "    [theme=dark] .colab-df-convert {\n",
              "      background-color: #3B4455;\n",
              "      fill: #D2E3FC;\n",
              "    }\n",
              "\n",
              "    [theme=dark] .colab-df-convert:hover {\n",
              "      background-color: #434B5C;\n",
              "      box-shadow: 0px 1px 3px 1px rgba(0, 0, 0, 0.15);\n",
              "      filter: drop-shadow(0px 1px 2px rgba(0, 0, 0, 0.3));\n",
              "      fill: #FFFFFF;\n",
              "    }\n",
              "  </style>\n",
              "\n",
              "    <script>\n",
              "      const buttonEl =\n",
              "        document.querySelector('#df-ff602e72-9251-4147-a929-8226161df49a button.colab-df-convert');\n",
              "      buttonEl.style.display =\n",
              "        google.colab.kernel.accessAllowed ? 'block' : 'none';\n",
              "\n",
              "      async function convertToInteractive(key) {\n",
              "        const element = document.querySelector('#df-ff602e72-9251-4147-a929-8226161df49a');\n",
              "        const dataTable =\n",
              "          await google.colab.kernel.invokeFunction('convertToInteractive',\n",
              "                                                    [key], {});\n",
              "        if (!dataTable) return;\n",
              "\n",
              "        const docLinkHtml = 'Like what you see? Visit the ' +\n",
              "          '<a target=\"_blank\" href=https://colab.research.google.com/notebooks/data_table.ipynb>data table notebook</a>'\n",
              "          + ' to learn more about interactive tables.';\n",
              "        element.innerHTML = '';\n",
              "        dataTable['output_type'] = 'display_data';\n",
              "        await google.colab.output.renderOutput(dataTable, element);\n",
              "        const docLink = document.createElement('div');\n",
              "        docLink.innerHTML = docLinkHtml;\n",
              "        element.appendChild(docLink);\n",
              "      }\n",
              "    </script>\n",
              "  </div>\n",
              "\n",
              "\n",
              "    <div id=\"df-4f34ebe1-2827-43f6-98e2-139efd09fff9\">\n",
              "      <button class=\"colab-df-quickchart\" onclick=\"quickchart('df-4f34ebe1-2827-43f6-98e2-139efd09fff9')\"\n",
              "                title=\"Suggest charts\"\n",
              "                style=\"display:none;\">\n",
              "\n",
              "<svg xmlns=\"http://www.w3.org/2000/svg\" height=\"24px\"viewBox=\"0 0 24 24\"\n",
              "     width=\"24px\">\n",
              "    <g>\n",
              "        <path d=\"M19 3H5c-1.1 0-2 .9-2 2v14c0 1.1.9 2 2 2h14c1.1 0 2-.9 2-2V5c0-1.1-.9-2-2-2zM9 17H7v-7h2v7zm4 0h-2V7h2v10zm4 0h-2v-4h2v4z\"/>\n",
              "    </g>\n",
              "</svg>\n",
              "      </button>\n",
              "\n",
              "<style>\n",
              "  .colab-df-quickchart {\n",
              "      --bg-color: #E8F0FE;\n",
              "      --fill-color: #1967D2;\n",
              "      --hover-bg-color: #E2EBFA;\n",
              "      --hover-fill-color: #174EA6;\n",
              "      --disabled-fill-color: #AAA;\n",
              "      --disabled-bg-color: #DDD;\n",
              "  }\n",
              "\n",
              "  [theme=dark] .colab-df-quickchart {\n",
              "      --bg-color: #3B4455;\n",
              "      --fill-color: #D2E3FC;\n",
              "      --hover-bg-color: #434B5C;\n",
              "      --hover-fill-color: #FFFFFF;\n",
              "      --disabled-bg-color: #3B4455;\n",
              "      --disabled-fill-color: #666;\n",
              "  }\n",
              "\n",
              "  .colab-df-quickchart {\n",
              "    background-color: var(--bg-color);\n",
              "    border: none;\n",
              "    border-radius: 50%;\n",
              "    cursor: pointer;\n",
              "    display: none;\n",
              "    fill: var(--fill-color);\n",
              "    height: 32px;\n",
              "    padding: 0;\n",
              "    width: 32px;\n",
              "  }\n",
              "\n",
              "  .colab-df-quickchart:hover {\n",
              "    background-color: var(--hover-bg-color);\n",
              "    box-shadow: 0 1px 2px rgba(60, 64, 67, 0.3), 0 1px 3px 1px rgba(60, 64, 67, 0.15);\n",
              "    fill: var(--button-hover-fill-color);\n",
              "  }\n",
              "\n",
              "  .colab-df-quickchart-complete:disabled,\n",
              "  .colab-df-quickchart-complete:disabled:hover {\n",
              "    background-color: var(--disabled-bg-color);\n",
              "    fill: var(--disabled-fill-color);\n",
              "    box-shadow: none;\n",
              "  }\n",
              "\n",
              "  .colab-df-spinner {\n",
              "    border: 2px solid var(--fill-color);\n",
              "    border-color: transparent;\n",
              "    border-bottom-color: var(--fill-color);\n",
              "    animation:\n",
              "      spin 1s steps(1) infinite;\n",
              "  }\n",
              "\n",
              "  @keyframes spin {\n",
              "    0% {\n",
              "      border-color: transparent;\n",
              "      border-bottom-color: var(--fill-color);\n",
              "      border-left-color: var(--fill-color);\n",
              "    }\n",
              "    20% {\n",
              "      border-color: transparent;\n",
              "      border-left-color: var(--fill-color);\n",
              "      border-top-color: var(--fill-color);\n",
              "    }\n",
              "    30% {\n",
              "      border-color: transparent;\n",
              "      border-left-color: var(--fill-color);\n",
              "      border-top-color: var(--fill-color);\n",
              "      border-right-color: var(--fill-color);\n",
              "    }\n",
              "    40% {\n",
              "      border-color: transparent;\n",
              "      border-right-color: var(--fill-color);\n",
              "      border-top-color: var(--fill-color);\n",
              "    }\n",
              "    60% {\n",
              "      border-color: transparent;\n",
              "      border-right-color: var(--fill-color);\n",
              "    }\n",
              "    80% {\n",
              "      border-color: transparent;\n",
              "      border-right-color: var(--fill-color);\n",
              "      border-bottom-color: var(--fill-color);\n",
              "    }\n",
              "    90% {\n",
              "      border-color: transparent;\n",
              "      border-bottom-color: var(--fill-color);\n",
              "    }\n",
              "  }\n",
              "</style>\n",
              "\n",
              "      <script>\n",
              "        async function quickchart(key) {\n",
              "          const quickchartButtonEl =\n",
              "            document.querySelector('#' + key + ' button');\n",
              "          quickchartButtonEl.disabled = true;  // To prevent multiple clicks.\n",
              "          quickchartButtonEl.classList.add('colab-df-spinner');\n",
              "          try {\n",
              "            const charts = await google.colab.kernel.invokeFunction(\n",
              "                'suggestCharts', [key], {});\n",
              "          } catch (error) {\n",
              "            console.error('Error during call to suggestCharts:', error);\n",
              "          }\n",
              "          quickchartButtonEl.classList.remove('colab-df-spinner');\n",
              "          quickchartButtonEl.classList.add('colab-df-quickchart-complete');\n",
              "        }\n",
              "        (() => {\n",
              "          let quickchartButtonEl =\n",
              "            document.querySelector('#df-4f34ebe1-2827-43f6-98e2-139efd09fff9 button');\n",
              "          quickchartButtonEl.style.display =\n",
              "            google.colab.kernel.accessAllowed ? 'block' : 'none';\n",
              "        })();\n",
              "      </script>\n",
              "    </div>\n",
              "\n",
              "    </div>\n",
              "  </div>\n"
            ],
            "application/vnd.google.colaboratory.intrinsic+json": {
              "type": "dataframe",
              "variable_name": "df",
              "summary": "{\n  \"name\": \"df\",\n  \"rows\": 40000,\n  \"fields\": [\n    {\n      \"column\": \"column0\",\n      \"properties\": {\n        \"dtype\": \"string\",\n        \"num_unique_values\": 39993,\n        \"samples\": [\n          \"\\u0e40\\u0e04\\u0e22\\u0e21\\u0e32\\u0e23\\u0e49\\u0e32\\u0e19\\u0e19\\u0e35\\u0e492\\u0e04\\u0e23\\u0e31\\u0e49\\u0e07\\u0e41\\u0e23\\u0e30 \\u0e23\\u0e49\\u0e32\\u0e19\\u0e2d\\u0e22\\u0e39\\u0e48\\u0e1b\\u0e32\\u0e01\\u0e17\\u0e32\\u0e07\\u0e25\\u0e32\\u0e14\\u0e1e\\u0e23\\u0e49\\u0e32\\u0e27 \\u0e16\\u0e19\\u0e19\\u0e27\\u0e34\\u0e20\\u0e32\\u0e27\\u0e14\\u0e35\\u0e23\\u0e31\\u0e07\\u0e2a\\u0e34\\u0e15 \\u0e15\\u0e34\\u0e14\\u0e43\\u0e08\\u0e23\\u0e2a\\u0e0a\\u0e32\\u0e15\\u0e34\\u0e2d\\u0e32\\u0e2b\\u0e32\\u0e23\\u0e1a\\u0e23\\u0e23\\u0e22\\u0e32\\u0e01\\u0e32\\u0e28\\u0e22\\u0e49\\u0e2d\\u0e19\\u0e22\\u0e38\\u0e04 60s \\u0e23\\u0e49\\u0e32\\u0e19\\u0e08\\u0e30\\u0e40\\u0e15\\u0e47\\u0e21\\u0e44\\u0e1b\\u0e14\\u0e49\\u0e27\\u0e22\\u0e41\\u0e1c\\u0e48\\u0e19\\u0e40\\u0e2a\\u0e35\\u0e22\\u0e07\\u0e41\\u0e1b\\u0e30\\u0e46\\u0e23\\u0e2d\\u0e1a\\u0e23\\u0e49\\u0e32\\u0e19\\u0e41\\u0e25\\u0e30\\u0e40\\u0e04\\u0e23\\u0e37\\u0e48\\u0e2d\\u0e07\\u0e40\\u0e2a\\u0e35\\u0e22\\u0e07 \\u0e02\\u0e2d\\u0e07\\u0e40\\u0e01\\u0e48\\u0e32 \\u0e23\\u0e49\\u0e32\\u0e19\\u0e21\\u0e35\\u0e42\\u0e15\\u0e4a\\u0e30\\u0e17\\u0e35\\u0e48\\u0e0a\\u0e31\\u0e49\\u0e19\\u0e25\\u0e2d\\u0e22\\u0e14\\u0e49\\u0e27\\u0e22 \\u0e04\\u0e19\\u0e41\\u0e19\\u0e48\\u0e19\\u0e23\\u0e49\\u0e32\\u0e19\\u0e15\\u0e25\\u0e2d\\u0e14 \\u0e21\\u0e35\\u0e0a\\u0e32\\u0e27\\u0e15\\u0e48\\u0e32\\u0e07\\u0e0a\\u0e32\\u0e15\\u0e34\\u0e14\\u0e49\\u0e27\\u0e22\",\n          \"\\u0e2a\\u0e32\\u0e02\\u0e32\\u0e19\\u0e35\\u0e49\\u0e40\\u0e1b\\u0e47\\u0e19\\u0e41\\u0e1a\\u0e1a\\u0e19\\u0e35\\u0e49\\u0e17\\u0e38\\u0e01\\u0e17\\u0e35\\u0e44\\u0e21\\u0e48\\u0e40\\u0e02\\u0e49\\u0e32\\u0e43\\u0e08\\u0e40\\u0e25\\u0e22\\n\\u0e23\\u0e31\\u0e01\\u0e41\\u0e1a\\u0e23\\u0e19\\u0e14\\u0e4c\\u0e08\\u0e36\\u0e07\\u0e2d\\u0e14\\u0e15\\u0e33\\u0e2b\\u0e19\\u0e34\\u0e44\\u0e21\\u0e48\\u0e44\\u0e14\\u0e49\\n\\n\\u0e21\\u0e32\\u0e01\\u0e34\\u0e19 Zen \\u0e17\\u0e35\\u0e48\\u0e40\\u0e0b\\u0e47\\u0e19\\u0e17\\u0e23\\u0e31\\u0e25\\u0e25\\u0e32\\u0e14\\u0e1e\\u0e23\\u0e49\\u0e32\\u0e27\\u0e17\\u0e35\\u0e44\\u0e23\\u0e23\\u0e39\\u0e49\\u0e2a\\u0e36\\u0e01\\u0e02\\u0e2d\\u0e07\\u0e44\\u0e21\\u0e48\\u0e2a\\u0e14\\n\\u0e01\\u0e34\\u0e19\\u0e17\\u0e35\\u0e48\\u0e1f\\u0e34\\u0e27\\u0e40\\u0e08\\u0e2d\\u0e23\\u0e4c\\u0e23\\u0e31\\u0e07\\u0e2a\\u0e34\\u0e15\\u0e2a\\u0e14\\u0e01\\u0e27\\u0e48\\u0e32\\u0e21\\u0e32\\u0e01\\u0e46\\n\\n\\u0e2a\\u0e31\\u0e48\\u0e07\\u0e44\\u0e1b\\u0e2b\\u0e25\\u0e32\\u0e22\\u0e2d\\u0e22\\u0e48\\u0e32\\u0e07\\u0e04\\u0e48\\u0e30\\n\\u0e42\\u0e0b\\u0e30\\u0e1a\\u0e30\\u0e40\\u0e17\\u0e21\\u0e1b\\u0e38\\u0e23\\u0e30 \\u0e01\\u0e38\\u0e49\\u0e07\\u0e2a\\u0e2d\\u0e07\\u0e15\\u0e31\\u0e27 \\u0e19\\u0e49\\u0e33\\u0e0b\\u0e38\\u0e1b\\u0e23\\u0e49\\u0e2d\\u0e19 \\u0e2d\\u0e2d\\u0e01\\u0e2b\\u0e27\\u0e32\\u0e19 \\u0e01\\u0e34\\u0e19\\u0e44\\u0e14\\u0e49\\n\\u0e2b\\u0e21\\u0e36\\u0e01\\u0e22\\u0e33 \\u0e17\\u0e35\\u0e48\\u0e40\\u0e1b\\u0e47\\u0e19\\u0e40\\u0e04\\u0e23\\u0e37\\u0e48\\u0e2d\\u0e07\\u0e40\\u0e04\\u0e35\\u0e22\\u0e07 \\u0e2b\\u0e21\\u0e36\\u0e01\\u0e01\\u0e23\\u0e38\\u0e1a\\u0e46 \\u0e2d\\u0e2d\\u0e01\\u0e2b\\u0e27\\u0e32\\u0e19\\u0e19\\u0e34\\u0e14\\u0e46 \\u0e23\\u0e2a\\u0e0a\\u0e32\\u0e15\\u0e34\\u0e1e\\u0e2d\\u0e43\\u0e0a\\u0e49\\n\\u0e22\\u0e33\\u0e2a\\u0e32\\u0e2b\\u0e23\\u0e48\\u0e32\\u0e22 \\u0e21\\u0e32\\u0e15\\u0e23\\u0e10\\u0e32\\u0e19\\u0e17\\u0e31\\u0e48\\u0e27\\u0e44\\u0e1b\\n\\u0e41\\u0e0b\\u0e25\\u0e21\\u0e2d\\u0e19\\u0e22\\u0e33\\u0e44\\u0e17\\u0e22 \\u0e17\\u0e35\\u0e48\\u0e19\\u0e35\\u0e48\\u0e43\\u0e2b\\u0e49\\u0e2b\\u0e19\\u0e31\\u0e07\\u0e40\\u0e22\\u0e2d\\u0e30 \\u0e40\\u0e19\\u0e37\\u0e49\\u0e2d\\u0e1b\\u0e25\\u0e32\\u0e2b\\u0e31\\u0e32\\u0e19\\u0e40\\u0e15\\u0e4b\\u0e32\\u0e41\\u0e15\\u0e48\\u0e44\\u0e21\\u0e48\\u0e04\\u0e48\\u0e2d\\u0e22\\u0e2a\\u0e14 \\u0e15\\u0e34\\u0e14\\u0e2a\\u0e48\\u0e27\\u0e19\\u0e2b\\u0e19\\u0e31\\u0e07\\u0e21\\u0e32 \\u0e1b\\u0e23\\u0e34\\u0e21\\u0e32\\u0e13\\u0e1e\\u0e2d\\u0e2a\\u0e21\\u0e04\\u0e27\\u0e23 \\n\\u0e0b\\u0e32\\u0e0b\\u0e34\\u0e21\\u0e34\\u0e44\\u0e14\\u0e49\\u0e1f\\u0e23\\u0e35\\u0e08\\u0e32\\u0e01 gift voucher \\u0e40\\u0e1e\\u0e23\\u0e32\\u0e30\\u0e40\\u0e1b\\u0e47\\u0e19\\u0e2a\\u0e21\\u0e32\\u0e0a\\u0e34\\u0e01 \\u0e1b\\u0e25\\u0e32\\u0e0a\\u0e34\\u0e49\\u0e19\\u0e1a\\u0e32\\u0e07 \\u0e44\\u0e21\\u0e48\\u0e2a\\u0e14 \\u0e22\\u0e34\\u0e48\\u0e07\\u0e1b\\u0e25\\u0e32\\u0e2a\\u0e35\\u0e02\\u0e32\\u0e27\\u0e44\\u0e21\\u0e48\\u0e41\\u0e19\\u0e48\\u0e43\\u0e08\\u0e01\\u0e30\\u0e1e\\u0e07\\u0e2b\\u0e23\\u0e37\\u0e2d\\u0e2d\\u0e30\\u0e44\\u0e23 \\u0e44\\u0e21\\u0e48\\u0e2a\\u0e14\\u0e40\\u0e2d\\u0e32\\u0e21\\u0e32\\u0e01\\u0e46 \\u0e40\\u0e2d\\u0e47\\u0e19\\u0e40\\u0e22\\u0e2d\\u0e30 \\u0e40\\u0e2b\\u0e19\\u0e35\\u0e22\\u0e27\\u0e40\\u0e04\\u0e35\\u0e49\\u0e22\\u0e27\\u0e22\\u0e32\\u0e01 \\n\\u0e0a\\u0e38\\u0e14\\u0e02\\u0e49\\u0e32\\u0e27\\u0e1b\\u0e31\\u0e49\\u0e19 \\u0e44\\u0e21\\u0e48\\u0e2d\\u0e23\\u0e48\\u0e2d\\u0e22\\u0e2d\\u0e48\\u0e30 \\u0e1b\\u0e31\\u0e49\\u0e19\\u0e44\\u0e21\\u0e48\\u0e2d\\u0e23\\u0e48\\u0e2d\\u0e22 \\n\\u0e44\\u0e02\\u0e48\\u0e2b\\u0e27\\u0e32\\u0e19\\u0e2a\\u0e25\\u0e31\\u0e14\\u0e1b\\u0e39\\u0e2d\\u0e31\\u0e14\\u0e01\\u0e47\\u0e44\\u0e21\\u0e48\\u0e2d\\u0e23\\u0e48\\u0e2d\\u0e22 \\u0e44\\u0e02\\u0e48\\u0e2b\\u0e27\\u0e32\\u0e19\\u0e15\\u0e23\\u0e07\\u0e01\\u0e25\\u0e32\\u0e07\\u0e21\\u0e35\\u0e40\\u0e2a\\u0e35\\u0e22\\u0e27\\u0e40\\u0e02\\u0e35\\u0e22\\u0e27\\u0e04\\u0e25\\u0e49\\u0e33\\u0e46\\u0e19\\u0e34\\u0e14\\u0e46 \\u0e40\\u0e22\\u0e47\\u0e19\\u0e0a\\u0e37\\u0e14\\n\\n4\\u0e40\\u0e21\\u0e19\\u0e39\\u0e2b\\u0e25\\u0e31\\u0e07\\u0e44\\u0e21\\u0e48\\u0e42\\u0e2d\\u0e40\\u0e04\\u0e04\\u0e48\\u0e30 \\u0e17\\u0e35\\u0e48\\u0e1f\\u0e34\\u0e27\\u0e2d\\u0e23\\u0e48\\u0e2d\\u0e22\\u0e01\\u0e27\\u0e48\\u0e32\\u0e40\\u0e22\\u0e2d\\u0e30 \\u0e2a\\u0e23\\u0e38\\u0e1b\\u0e27\\u0e48\\u0e32\\u0e1e\\u0e19\\u0e31\\u0e01\\u0e07\\u0e32\\u0e19\\u0e1a\\u0e23\\u0e34\\u0e01\\u0e32\\u0e23\\u0e14\\u0e35 \\u0e2d\\u0e32\\u0e2b\\u0e32\\u0e23\\u0e44\\u0e21\\u0e48\\u0e2a\\u0e14\\u0e40\\u0e17\\u0e48\\u0e32\\u0e17\\u0e35\\u0e48\\u0e04\\u0e27\\u0e23 \\u0e44\\u0e21\\u0e48\\u0e1b\\u0e23\\u0e30\\u0e17\\u0e31\\u0e1a\\u0e43\\u0e08 \\u0e40\\u0e2a\\u0e35\\u0e22\\u0e2b\\u0e32\\u0e22\\u0e44\\u0e1b1,110 \\u0e1a\\u0e32\\u0e17\",\n          \"\\u0e23\\u0e49\\u0e32\\u0e19\\u0e19\\u0e34\\u0e27\\u0e40\\u0e04\\u0e25\\u0e35\\u0e22\\u0e23\\u0e4c\\u0e23\\u0e32\\u0e14\\u0e2b\\u0e19\\u0e49\\u0e32\\u0e22\\u0e2d\\u0e14\\u0e1c\\u0e31\\u0e01\\u0e41\\u0e25\\u0e30\\u0e2d\\u0e32\\u0e2b\\u0e32\\u0e23\\u0e15\\u0e32\\u0e21\\u0e2a\\u0e31\\u0e48\\u0e07 \\u0e40\\u0e1b\\u0e47\\u0e19\\u0e2d\\u0e35\\u0e01 1 \\u0e23\\u0e49\\u0e32\\u0e19\\u0e2d\\u0e32\\u0e2b\\u0e32\\u0e23\\u0e17\\u0e35\\u0e48\\u0e40\\u0e2d\\u0e23\\u0e47\\u0e14\\u0e2d\\u0e23\\u0e48\\u0e2d\\u0e22\\u0e21\\u0e32\\u0e01 \\u0e43\\u0e19\\u0e40\\u0e21\\u0e37\\u0e2d\\u0e07\\u0e1a\\u0e49\\u0e32\\u0e19\\u0e09\\u0e32\\u0e07\\u0e17\\u0e08\\u0e31\\u0e07\\u0e2b\\u0e27\\u0e31\\u0e14\\u0e23\\u0e30\\u0e22\\u0e2d\\u0e07 \\u0e23\\u0e49\\u0e32\\u0e19\\u0e19\\u0e35\\u0e49\\u0e15\\u0e31\\u0e49\\u0e07\\u0e2d\\u0e22\\u0e39\\u0e48\\u0e1a\\u0e19\\u0e16\\u0e19\\u0e19\\u0e43\\u0e2b\\u0e0d\\u0e48\\u0e40\\u0e25\\u0e22\\u0e08\\u0e2d\\u0e14\\u0e23\\u0e16\\u0e02\\u0e49\\u0e32\\u0e07\\u0e17\\u0e32\\u0e07 \\u0e2a\\u0e48\\u0e27\\u0e19\\u0e21\\u0e32\\u0e01\\u0e02\\u0e32\\u0e22\\u0e2d\\u0e32\\u0e2b\\u0e32\\u0e23\\u0e15\\u0e32\\u0e21\\u0e2a\\u0e31\\u0e48\\u0e07\\u0e15\\u0e48\\u0e32\\u0e07\\u0e46 \\u0e23\\u0e32\\u0e14\\u0e2b\\u0e19\\u0e49\\u0e32\\u0e2b\\u0e21\\u0e39\\u0e2b\\u0e21\\u0e31\\u0e01 \\u0e23\\u0e32\\u0e14\\u0e2b\\u0e19\\u0e49\\u0e32\\u0e17\\u0e30\\u0e40\\u0e25 \\u0e41\\u0e25\\u0e30\\u0e1e\\u0e27\\u0e01\\u0e1c\\u0e31\\u0e14\\u0e0b\\u0e35\\u0e2d\\u0e34\\u0e49\\u0e27\\u0e15\\u0e48\\u0e32\\u0e07\\u0e46 \\u0e40\\u0e04\\u0e22\\u0e21\\u0e32\\u0e17\\u0e32\\u0e19\\u0e23\\u0e32\\u0e14\\u0e2b\\u0e19\\u0e49\\u0e32\\u0e2b\\u0e21\\u0e39\\u0e2b\\u0e21\\u0e31\\u0e01\\u0e41\\u0e25\\u0e49\\u0e27 1 \\u0e23\\u0e2d\\u0e1a\\u0e2d\\u0e23\\u0e48\\u0e2d\\u0e22\\u0e14\\u0e35 \\u0e04\\u0e23\\u0e32\\u0e27\\u0e19\\u0e35\\u0e49\\u0e40\\u0e25\\u0e22\\u0e25\\u0e2d\\u0e07\\u0e40\\u0e1b\\u0e25\\u0e35\\u0e48\\u0e22\\u0e19\\u0e21\\u0e32\\u0e17\\u0e32\\u0e07\\u0e40\\u0e1b\\u0e47\\u0e19\\u0e23\\u0e32\\u0e14\\u0e2b\\u0e19\\u0e49\\u0e32\\u0e17\\u0e30\\u0e40\\u0e25\\u0e14\\u0e39\\u0e27\\u0e48\\u0e32\\u0e08\\u0e30\\u0e2d\\u0e23\\u0e48\\u0e2d\\u0e22\\u0e2b\\u0e23\\u0e37\\u0e2d\\u0e40\\u0e1b\\u0e25\\u0e48\\u0e32 \\u0e41\\u0e25\\u0e30\\u0e40\\u0e04\\u0e49\\u0e32\\u0e01\\u0e47\\u0e44\\u0e21\\u0e48\\u0e17\\u0e33\\u0e43\\u0e2b\\u0e49\\u0e1c\\u0e34\\u0e14\\u0e2b\\u0e27\\u0e31\\u0e07\\u0e08\\u0e23\\u0e34\\u0e07\\u0e46 \\u0e44\\u0e14\\u0e49\\u0e40\\u0e22\\u0e2d\\u0e30\\u0e14\\u0e49\\u0e27\\u0e22\\u0e41\\u0e25\\u0e49\\u0e27\\u0e01\\u0e47\\u0e2d\\u0e23\\u0e48\\u0e2d\\u0e22\\u0e2d\\u0e22\\u0e48\\u0e32\\u0e07\\u0e17\\u0e35\\u0e48\\u0e04\\u0e32\\u0e14\\u0e2b\\u0e27\\u0e31\\u0e07\\u0e44\\u0e27\\u0e49\\u0e08\\u0e23\\u0e34\\u0e07\\u0e46 \\u0e40\\u0e04\\u0e23\\u0e37\\u0e48\\u0e2d\\u0e07\\u0e16\\u0e25\\u0e14\\u0e40\\u0e0a\\u0e48\\u0e19\\u0e01\\u0e38\\u0e49\\u0e07 \\u0e1b\\u0e25\\u0e32\\u0e2b\\u0e21\\u0e36\\u0e01 \\u0e2a\\u0e14\\u0e41\\u0e25\\u0e30\\u0e44\\u0e21\\u0e48\\u0e40\\u0e2b\\u0e21\\u0e47\\u0e19\\u0e04\\u0e32\\u0e27\\u0e40\\u0e25\\u0e22 \\u0e23\\u0e32\\u0e04\\u0e32\\u0e01\\u0e47\\u0e17\\u0e31\\u0e48\\u0e27\\u0e44\\u0e1b\\u0e44\\u0e21\\u0e48\\u0e41\\u0e1e\\u0e07\\u0e21\\u0e32\\u0e01 \\u0e04\\u0e19\\u0e40\\u0e22\\u0e2d\\u0e30\\u0e21\\u0e32\\u0e01\\u0e42\\u0e14\\u0e22\\u0e40\\u0e09\\u0e1e\\u0e32\\u0e30\\u0e0a\\u0e48\\u0e27\\u0e07\\u0e2b\\u0e31\\u0e27\\u0e04\\u0e48\\u0e33 \\u0e02\\u0e2d\\u0e07\\u0e40\\u0e04\\u0e49\\u0e32\\u0e14\\u0e35\\u0e02\\u0e2d\\u0e07\\u0e40\\u0e04\\u0e49\\u0e32\\u0e2d\\u0e23\\u0e48\\u0e2d\\u0e22\\u0e08\\u0e23\\u0e34\\u0e07\\u0e46\"\n        ],\n        \"semantic_type\": \"\",\n        \"description\": \"\"\n      }\n    },\n    {\n      \"column\": \"column1\",\n      \"properties\": {\n        \"dtype\": \"number\",\n        \"std\": 0,\n        \"min\": 1,\n        \"max\": 5,\n        \"num_unique_values\": 5,\n        \"samples\": [\n          4,\n          1,\n          5\n        ],\n        \"semantic_type\": \"\",\n        \"description\": \"\"\n      }\n    }\n  ]\n}"
            }
          },
          "metadata": {},
          "execution_count": 5
        }
      ],
      "source": [
        "df = con.execute(\"SELECT * FROM read_csv_auto('/content/drive/MyDrive/DST/review_dataset/w_review_train.csv', parallel=false, encoding='UTF-8', ignore_errors=true)\").fetchdf()\n",
        "\n",
        "df.head()"
      ]
    },
    {
      "cell_type": "code",
      "execution_count": 6,
      "metadata": {
        "colab": {
          "base_uri": "https://localhost:8080/"
        },
        "id": "dDNiwWiGVmWo",
        "outputId": "6dc31b37-9ccf-4e5d-e0c4-88206501c6db"
      },
      "outputs": [
        {
          "output_type": "execute_result",
          "data": {
            "text/plain": [
              "(40000, 2)"
            ]
          },
          "metadata": {},
          "execution_count": 6
        }
      ],
      "source": [
        "df.shape"
      ]
    },
    {
      "cell_type": "code",
      "execution_count": 7,
      "metadata": {
        "colab": {
          "base_uri": "https://localhost:8080/"
        },
        "id": "5A-T-ivEVonr",
        "outputId": "18e3cc62-dc7d-49b4-f5fe-016ce4edc26d"
      },
      "outputs": [
        {
          "output_type": "execute_result",
          "data": {
            "text/plain": [
              "<duckdb.duckdb.DuckDBPyConnection at 0x7e26c8433a30>"
            ]
          },
          "metadata": {},
          "execution_count": 7
        }
      ],
      "source": [
        "con.execute(\"COPY df TO '/content/drive/MyDrive/DST/review_dataset/w_review_train.parquet' (FORMAT PARQUET)\")"
      ]
    },
    {
      "cell_type": "code",
      "execution_count": 8,
      "metadata": {
        "colab": {
          "base_uri": "https://localhost:8080/"
        },
        "id": "TcF4SPszVrZL",
        "outputId": "48bc0eba-1eb8-4378-f8a8-3f6f6179e5cc"
      },
      "outputs": [
        {
          "output_type": "execute_result",
          "data": {
            "text/plain": [
              "3.8313027179006562"
            ]
          },
          "metadata": {},
          "execution_count": 8
        }
      ],
      "source": [
        "parquet_avg_rating_direct = con.execute(\"SELECT AVG(column1) FROM '/content/drive/MyDrive/DST/review_dataset/w_review_train.parquet' WHERE column0 LIKE '%อร่อย%'\").fetchone()[0]\n",
        "parquet_avg_rating_direct"
      ]
    },
    {
      "cell_type": "code",
      "execution_count": 9,
      "metadata": {
        "id": "dtOBMREtVuVv"
      },
      "outputs": [],
      "source": [
        "parquet_file_path = '/content/drive/MyDrive/DST/review_dataset/w_review_train.parquet'"
      ]
    },
    {
      "cell_type": "code",
      "execution_count": 10,
      "metadata": {
        "colab": {
          "base_uri": "https://localhost:8080/"
        },
        "id": "OzlaNgqDVyHr",
        "outputId": "21e5f24a-dc20-4d26-ec9e-c5a1f3343135"
      },
      "outputs": [
        {
          "output_type": "execute_result",
          "data": {
            "text/plain": [
              "3.8313027179006562"
            ]
          },
          "metadata": {},
          "execution_count": 10
        }
      ],
      "source": [
        "parquet_avg_rating_direct = con.execute(f\"SELECT AVG(column1) FROM '{parquet_file_path}' WHERE column0 LIKE '%อร่อย%'\").fetchone()[0]\n",
        "parquet_avg_rating_direct"
      ]
    },
    {
      "cell_type": "code",
      "execution_count": 11,
      "metadata": {
        "id": "Hfwoc8dvV0hL"
      },
      "outputs": [],
      "source": [
        "coffee_keywords = [\n",
        "    'กาแฟ', 'คาเฟ่', 'coffee', 'cafe', 'เอสเปรสโซ่', 'ลาเต้',\n",
        "    'มอคค่า', 'คาปูชิโน่', 'เฟรนช์เพรส', 'cold brew', 'drip',\n",
        "    'espresso', 'latte', 'americano', 'macchiato', 'brew',\n",
        "    'specialty', 'slow bar', 'ร้านกาแฟ', 'ร้านคาเฟ่', 'กาแฟสด',\n",
        "    'เมนูกาแฟ', 'กาแฟนม', 'กาแฟดำ', 'ร้านบาริสต้า', 'barista', 'coffee shop'\n",
        "]\n",
        "\n",
        "where_clause = \" OR \".join([f\"column0 LIKE '%{keyword}%'\" for keyword in coffee_keywords])"
      ]
    },
    {
      "cell_type": "code",
      "execution_count": 12,
      "metadata": {
        "colab": {
          "base_uri": "https://localhost:8080/",
          "height": 84,
          "referenced_widgets": [
            "624f3cf234404a44838f04034a09a90a",
            "b78c1bb79934464ba454d3ca6b086e6d",
            "295c5f37ffc44ed6888f6ca82fae21ca"
          ]
        },
        "id": "cCcbUVaFV3Au",
        "outputId": "c6091c83-b3e4-42f7-947e-b6dca403124f"
      },
      "outputs": [
        {
          "output_type": "display_data",
          "data": {
            "text/plain": [
              "FloatProgress(value=0.0, layout=Layout(width='auto'), style=ProgressStyle(bar_color='black'))"
            ],
            "application/vnd.jupyter.widget-view+json": {
              "version_major": 2,
              "version_minor": 0,
              "model_id": "624f3cf234404a44838f04034a09a90a"
            }
          },
          "metadata": {}
        },
        {
          "output_type": "stream",
          "name": "stdout",
          "text": [
            "CPU times: user 2.11 s, sys: 70 ms, total: 2.18 s\n",
            "Wall time: 2.61 s\n"
          ]
        }
      ],
      "source": [
        "%%time\n",
        "coffee_reviews_df = con.execute(f\"SELECT * FROM '{parquet_file_path}' WHERE {where_clause}\").fetchdf()"
      ]
    },
    {
      "cell_type": "code",
      "execution_count": 13,
      "metadata": {
        "id": "LGgPxzbeV4uU"
      },
      "outputs": [],
      "source": [
        "\n",
        "csv_file_path = '/content/drive/MyDrive/DST/review_dataset/w_review_train.csv'"
      ]
    },
    {
      "cell_type": "code",
      "execution_count": 14,
      "metadata": {
        "colab": {
          "base_uri": "https://localhost:8080/",
          "height": 84,
          "referenced_widgets": [
            "b7c6d6b65ccf4a3a8d6f707f520baecc",
            "aa132323c9ea442d9874b1bcff3eedb8",
            "cbcff50d8fdf43d8b79d273131ac4810"
          ]
        },
        "id": "qCXZ4OabV8Yp",
        "outputId": "872d8010-e203-4f5d-8f6f-59f627d73e27"
      },
      "outputs": [
        {
          "output_type": "display_data",
          "data": {
            "text/plain": [
              "FloatProgress(value=0.0, layout=Layout(width='auto'), style=ProgressStyle(bar_color='black'))"
            ],
            "application/vnd.jupyter.widget-view+json": {
              "version_major": 2,
              "version_minor": 0,
              "model_id": "b7c6d6b65ccf4a3a8d6f707f520baecc"
            }
          },
          "metadata": {}
        },
        {
          "output_type": "stream",
          "name": "stdout",
          "text": [
            "CPU times: user 2.38 s, sys: 66.8 ms, total: 2.45 s\n",
            "Wall time: 3.82 s\n"
          ]
        }
      ],
      "source": [
        "%%time\n",
        "coffee_reviews_df_csv = con.execute(f\"SELECT * FROM read_csv_auto('{csv_file_path}', parallel=false, encoding='UTF-8', ignore_errors=true) WHERE {where_clause}\").fetchdf()"
      ]
    },
    {
      "cell_type": "code",
      "execution_count": 15,
      "metadata": {
        "colab": {
          "base_uri": "https://localhost:8080/",
          "height": 206
        },
        "id": "RD23tLYgV-vc",
        "outputId": "81837414-3f4e-4385-99f3-c9fefb868fa1"
      },
      "outputs": [
        {
          "output_type": "execute_result",
          "data": {
            "text/plain": [
              "                                             column0  column1\n",
              "0  ร้านอาหารใหญ่มากกกกกกก \\nเลี้ยวเข้ามาเจอห้องน้...        3\n",
              "1  วันนี้ได้มีโอกาสไปนั่งซดกาแฟที่ร้านวาวี แถวๆอา...        4\n",
              "2  สารภาพว่าไม่เคยคิดจะไปต่อคิวซื้อมากินเองครับ บ...        3\n",
              "3  ร้านอาหารญี่ปุ่นร้านนี้ ใจจริงไม่อยากแนะนำเลยค...        5\n",
              "4  เดือนแรกที่เค้าต่อคิวกัน 2 - 3 ชั่วโมง เราก็ว่...        5"
            ],
            "text/html": [
              "\n",
              "  <div id=\"df-ef25fa96-5c28-4746-8a3f-d715305d3cbd\" class=\"colab-df-container\">\n",
              "    <div>\n",
              "<style scoped>\n",
              "    .dataframe tbody tr th:only-of-type {\n",
              "        vertical-align: middle;\n",
              "    }\n",
              "\n",
              "    .dataframe tbody tr th {\n",
              "        vertical-align: top;\n",
              "    }\n",
              "\n",
              "    .dataframe thead th {\n",
              "        text-align: right;\n",
              "    }\n",
              "</style>\n",
              "<table border=\"1\" class=\"dataframe\">\n",
              "  <thead>\n",
              "    <tr style=\"text-align: right;\">\n",
              "      <th></th>\n",
              "      <th>column0</th>\n",
              "      <th>column1</th>\n",
              "    </tr>\n",
              "  </thead>\n",
              "  <tbody>\n",
              "    <tr>\n",
              "      <th>0</th>\n",
              "      <td>ร้านอาหารใหญ่มากกกกกกก \\nเลี้ยวเข้ามาเจอห้องน้...</td>\n",
              "      <td>3</td>\n",
              "    </tr>\n",
              "    <tr>\n",
              "      <th>1</th>\n",
              "      <td>วันนี้ได้มีโอกาสไปนั่งซดกาแฟที่ร้านวาวี แถวๆอา...</td>\n",
              "      <td>4</td>\n",
              "    </tr>\n",
              "    <tr>\n",
              "      <th>2</th>\n",
              "      <td>สารภาพว่าไม่เคยคิดจะไปต่อคิวซื้อมากินเองครับ บ...</td>\n",
              "      <td>3</td>\n",
              "    </tr>\n",
              "    <tr>\n",
              "      <th>3</th>\n",
              "      <td>ร้านอาหารญี่ปุ่นร้านนี้ ใจจริงไม่อยากแนะนำเลยค...</td>\n",
              "      <td>5</td>\n",
              "    </tr>\n",
              "    <tr>\n",
              "      <th>4</th>\n",
              "      <td>เดือนแรกที่เค้าต่อคิวกัน 2 - 3 ชั่วโมง เราก็ว่...</td>\n",
              "      <td>5</td>\n",
              "    </tr>\n",
              "  </tbody>\n",
              "</table>\n",
              "</div>\n",
              "    <div class=\"colab-df-buttons\">\n",
              "\n",
              "  <div class=\"colab-df-container\">\n",
              "    <button class=\"colab-df-convert\" onclick=\"convertToInteractive('df-ef25fa96-5c28-4746-8a3f-d715305d3cbd')\"\n",
              "            title=\"Convert this dataframe to an interactive table.\"\n",
              "            style=\"display:none;\">\n",
              "\n",
              "  <svg xmlns=\"http://www.w3.org/2000/svg\" height=\"24px\" viewBox=\"0 -960 960 960\">\n",
              "    <path d=\"M120-120v-720h720v720H120Zm60-500h600v-160H180v160Zm220 220h160v-160H400v160Zm0 220h160v-160H400v160ZM180-400h160v-160H180v160Zm440 0h160v-160H620v160ZM180-180h160v-160H180v160Zm440 0h160v-160H620v160Z\"/>\n",
              "  </svg>\n",
              "    </button>\n",
              "\n",
              "  <style>\n",
              "    .colab-df-container {\n",
              "      display:flex;\n",
              "      gap: 12px;\n",
              "    }\n",
              "\n",
              "    .colab-df-convert {\n",
              "      background-color: #E8F0FE;\n",
              "      border: none;\n",
              "      border-radius: 50%;\n",
              "      cursor: pointer;\n",
              "      display: none;\n",
              "      fill: #1967D2;\n",
              "      height: 32px;\n",
              "      padding: 0 0 0 0;\n",
              "      width: 32px;\n",
              "    }\n",
              "\n",
              "    .colab-df-convert:hover {\n",
              "      background-color: #E2EBFA;\n",
              "      box-shadow: 0px 1px 2px rgba(60, 64, 67, 0.3), 0px 1px 3px 1px rgba(60, 64, 67, 0.15);\n",
              "      fill: #174EA6;\n",
              "    }\n",
              "\n",
              "    .colab-df-buttons div {\n",
              "      margin-bottom: 4px;\n",
              "    }\n",
              "\n",
              "    [theme=dark] .colab-df-convert {\n",
              "      background-color: #3B4455;\n",
              "      fill: #D2E3FC;\n",
              "    }\n",
              "\n",
              "    [theme=dark] .colab-df-convert:hover {\n",
              "      background-color: #434B5C;\n",
              "      box-shadow: 0px 1px 3px 1px rgba(0, 0, 0, 0.15);\n",
              "      filter: drop-shadow(0px 1px 2px rgba(0, 0, 0, 0.3));\n",
              "      fill: #FFFFFF;\n",
              "    }\n",
              "  </style>\n",
              "\n",
              "    <script>\n",
              "      const buttonEl =\n",
              "        document.querySelector('#df-ef25fa96-5c28-4746-8a3f-d715305d3cbd button.colab-df-convert');\n",
              "      buttonEl.style.display =\n",
              "        google.colab.kernel.accessAllowed ? 'block' : 'none';\n",
              "\n",
              "      async function convertToInteractive(key) {\n",
              "        const element = document.querySelector('#df-ef25fa96-5c28-4746-8a3f-d715305d3cbd');\n",
              "        const dataTable =\n",
              "          await google.colab.kernel.invokeFunction('convertToInteractive',\n",
              "                                                    [key], {});\n",
              "        if (!dataTable) return;\n",
              "\n",
              "        const docLinkHtml = 'Like what you see? Visit the ' +\n",
              "          '<a target=\"_blank\" href=https://colab.research.google.com/notebooks/data_table.ipynb>data table notebook</a>'\n",
              "          + ' to learn more about interactive tables.';\n",
              "        element.innerHTML = '';\n",
              "        dataTable['output_type'] = 'display_data';\n",
              "        await google.colab.output.renderOutput(dataTable, element);\n",
              "        const docLink = document.createElement('div');\n",
              "        docLink.innerHTML = docLinkHtml;\n",
              "        element.appendChild(docLink);\n",
              "      }\n",
              "    </script>\n",
              "  </div>\n",
              "\n",
              "\n",
              "    <div id=\"df-f16376c2-e760-4aa2-9292-82281f9f6ad2\">\n",
              "      <button class=\"colab-df-quickchart\" onclick=\"quickchart('df-f16376c2-e760-4aa2-9292-82281f9f6ad2')\"\n",
              "                title=\"Suggest charts\"\n",
              "                style=\"display:none;\">\n",
              "\n",
              "<svg xmlns=\"http://www.w3.org/2000/svg\" height=\"24px\"viewBox=\"0 0 24 24\"\n",
              "     width=\"24px\">\n",
              "    <g>\n",
              "        <path d=\"M19 3H5c-1.1 0-2 .9-2 2v14c0 1.1.9 2 2 2h14c1.1 0 2-.9 2-2V5c0-1.1-.9-2-2-2zM9 17H7v-7h2v7zm4 0h-2V7h2v10zm4 0h-2v-4h2v4z\"/>\n",
              "    </g>\n",
              "</svg>\n",
              "      </button>\n",
              "\n",
              "<style>\n",
              "  .colab-df-quickchart {\n",
              "      --bg-color: #E8F0FE;\n",
              "      --fill-color: #1967D2;\n",
              "      --hover-bg-color: #E2EBFA;\n",
              "      --hover-fill-color: #174EA6;\n",
              "      --disabled-fill-color: #AAA;\n",
              "      --disabled-bg-color: #DDD;\n",
              "  }\n",
              "\n",
              "  [theme=dark] .colab-df-quickchart {\n",
              "      --bg-color: #3B4455;\n",
              "      --fill-color: #D2E3FC;\n",
              "      --hover-bg-color: #434B5C;\n",
              "      --hover-fill-color: #FFFFFF;\n",
              "      --disabled-bg-color: #3B4455;\n",
              "      --disabled-fill-color: #666;\n",
              "  }\n",
              "\n",
              "  .colab-df-quickchart {\n",
              "    background-color: var(--bg-color);\n",
              "    border: none;\n",
              "    border-radius: 50%;\n",
              "    cursor: pointer;\n",
              "    display: none;\n",
              "    fill: var(--fill-color);\n",
              "    height: 32px;\n",
              "    padding: 0;\n",
              "    width: 32px;\n",
              "  }\n",
              "\n",
              "  .colab-df-quickchart:hover {\n",
              "    background-color: var(--hover-bg-color);\n",
              "    box-shadow: 0 1px 2px rgba(60, 64, 67, 0.3), 0 1px 3px 1px rgba(60, 64, 67, 0.15);\n",
              "    fill: var(--button-hover-fill-color);\n",
              "  }\n",
              "\n",
              "  .colab-df-quickchart-complete:disabled,\n",
              "  .colab-df-quickchart-complete:disabled:hover {\n",
              "    background-color: var(--disabled-bg-color);\n",
              "    fill: var(--disabled-fill-color);\n",
              "    box-shadow: none;\n",
              "  }\n",
              "\n",
              "  .colab-df-spinner {\n",
              "    border: 2px solid var(--fill-color);\n",
              "    border-color: transparent;\n",
              "    border-bottom-color: var(--fill-color);\n",
              "    animation:\n",
              "      spin 1s steps(1) infinite;\n",
              "  }\n",
              "\n",
              "  @keyframes spin {\n",
              "    0% {\n",
              "      border-color: transparent;\n",
              "      border-bottom-color: var(--fill-color);\n",
              "      border-left-color: var(--fill-color);\n",
              "    }\n",
              "    20% {\n",
              "      border-color: transparent;\n",
              "      border-left-color: var(--fill-color);\n",
              "      border-top-color: var(--fill-color);\n",
              "    }\n",
              "    30% {\n",
              "      border-color: transparent;\n",
              "      border-left-color: var(--fill-color);\n",
              "      border-top-color: var(--fill-color);\n",
              "      border-right-color: var(--fill-color);\n",
              "    }\n",
              "    40% {\n",
              "      border-color: transparent;\n",
              "      border-right-color: var(--fill-color);\n",
              "      border-top-color: var(--fill-color);\n",
              "    }\n",
              "    60% {\n",
              "      border-color: transparent;\n",
              "      border-right-color: var(--fill-color);\n",
              "    }\n",
              "    80% {\n",
              "      border-color: transparent;\n",
              "      border-right-color: var(--fill-color);\n",
              "      border-bottom-color: var(--fill-color);\n",
              "    }\n",
              "    90% {\n",
              "      border-color: transparent;\n",
              "      border-bottom-color: var(--fill-color);\n",
              "    }\n",
              "  }\n",
              "</style>\n",
              "\n",
              "      <script>\n",
              "        async function quickchart(key) {\n",
              "          const quickchartButtonEl =\n",
              "            document.querySelector('#' + key + ' button');\n",
              "          quickchartButtonEl.disabled = true;  // To prevent multiple clicks.\n",
              "          quickchartButtonEl.classList.add('colab-df-spinner');\n",
              "          try {\n",
              "            const charts = await google.colab.kernel.invokeFunction(\n",
              "                'suggestCharts', [key], {});\n",
              "          } catch (error) {\n",
              "            console.error('Error during call to suggestCharts:', error);\n",
              "          }\n",
              "          quickchartButtonEl.classList.remove('colab-df-spinner');\n",
              "          quickchartButtonEl.classList.add('colab-df-quickchart-complete');\n",
              "        }\n",
              "        (() => {\n",
              "          let quickchartButtonEl =\n",
              "            document.querySelector('#df-f16376c2-e760-4aa2-9292-82281f9f6ad2 button');\n",
              "          quickchartButtonEl.style.display =\n",
              "            google.colab.kernel.accessAllowed ? 'block' : 'none';\n",
              "        })();\n",
              "      </script>\n",
              "    </div>\n",
              "\n",
              "    </div>\n",
              "  </div>\n"
            ],
            "application/vnd.google.colaboratory.intrinsic+json": {
              "type": "dataframe",
              "variable_name": "coffee_reviews_df",
              "summary": "{\n  \"name\": \"coffee_reviews_df\",\n  \"rows\": 4981,\n  \"fields\": [\n    {\n      \"column\": \"column0\",\n      \"properties\": {\n        \"dtype\": \"string\",\n        \"num_unique_values\": 4981,\n        \"samples\": [\n          \"\\u0e23\\u0e49\\u0e32\\u0e19\\u0e2d\\u0e22\\u0e39\\u0e48\\u0e1a\\u0e19\\u0e0a\\u0e31\\u0e49\\u0e193\\u0e02\\u0e2d\\u0e07 seen space \\u0e17\\u0e2d\\u0e07\\u0e2b\\u0e25\\u0e48\\u0e2d \\u0e40\\u0e1b\\u0e47\\u0e19\\u0e2d\\u0e32\\u0e2b\\u0e32\\u0e23\\u0e41\\u0e19\\u0e27fusion mediteranion\\u0e40\\u0e1e\\u0e37\\u0e48\\u0e2d\\u0e2a\\u0e38\\u0e02\\u0e20\\u0e32\\u0e1e\\n\\u0e1a\\u0e23\\u0e23\\u0e22\\u0e32\\u0e01\\u0e32\\u0e28\\u0e23\\u0e49\\u0e32\\u0e19\\u0e14\\u0e35\\u0e21\\u0e32\\u0e01 \\u0e42\\u0e1b\\u0e23\\u0e48\\u0e07\\u0e42\\u0e25\\u0e48\\u0e07 \\u0e2a\\u0e30\\u0e2d\\u0e32\\u0e14 \\u0e2a\\u0e1a\\u0e32\\u0e22 \\u0e40\\u0e01\\u0e49\\u0e32\\u0e2d\\u0e35\\u0e49\\u0e1c\\u0e49\\u0e32\\u0e43\\u0e1a\\u0e2a\\u0e35\\u0e02\\u0e32\\u0e27\\u0e2d\\u0e32\\u0e08\\u0e19\\u0e31\\u0e48\\u0e07\\u0e44\\u0e21\\u0e48\\u0e2a\\u0e1a\\u0e32\\u0e22\\u0e40\\u0e25\\u0e47\\u0e01\\u0e19\\u0e49\\u0e2d\\u0e22\\n\\u0e1e\\u0e19\\u0e31\\u0e01\\u0e07\\u0e32\\u0e19\\u0e1a\\u0e23\\u0e34\\u0e01\\u0e32\\u0e23\\u0e14\\u0e35\\u0e04\\u0e48\\u0e30 \\u0e43\\u0e2a\\u0e48\\u0e43\\u0e08\\u0e23\\u0e32\\u0e22\\u0e25\\u0e30\\u0e40\\u0e2d\\u0e35\\u0e22\\u0e14\\u0e41\\u0e19\\u0e30\\u0e19\\u0e33\\u0e40\\u0e21\\u0e19\\u0e39\\u0e15\\u0e48\\u0e32\\u0e07\\u0e46\\u0e44\\u0e14\\u0e49\\u0e14\\u0e35\\n-\\u0e01\\u0e32\\u0e41\\u0e1f\\u0e2d\\u0e23\\u0e48\\u0e2d\\u0e22 \\u0e41\\u0e15\\u0e48\\u0e17\\u0e33\\u0e0a\\u0e49\\u0e32\\u0e21\\u0e32\\u0e01 \\u0e2b\\u0e32\\u0e01\\u0e2a\\u0e31\\u0e48\\u0e07\\u0e01\\u0e32\\u0e41\\u0e1f\\u0e15\\u0e49\\u0e2d\\u0e07\\u0e17\\u0e33\\u0e43\\u0e08\\u0e19\\u0e34\\u0e14\\u0e19\\u0e36\\u0e07 4/5\\n- smoothies \\u0e2d\\u0e23\\u0e48\\u0e2d\\u0e22\\u0e43\\u0e02\\u0e49\\u0e44\\u0e14\\u0e49 \\u0e23\\u0e2a\\u0e0a\\u0e32\\u0e15\\u0e34\\u0e2a\\u0e14\\u0e0a\\u0e37\\u0e48\\u0e19\\u0e01\\u0e33\\u0e25\\u0e31\\u0e07\\u0e14\\u0e35 4/5\\n- devil's egg with beetroot : \\u0e08\\u0e32\\u0e19\\u0e19\\u0e35\\u0e49\\u0e2d\\u0e23\\u0e48\\u0e2d\\u0e22 \\u0e08\\u0e30\\u0e1a\\u0e2d\\u0e01\\u0e27\\u0e48\\u0e32 devil's egg \\u0e01\\u0e31\\u0e1abeetroot \\u0e01\\u0e34\\u0e19\\u0e23\\u0e27\\u0e21\\u0e01\\u0e31\\u0e19\\u0e41\\u0e25\\u0e49\\u0e27\\u0e23\\u0e39\\u0e49\\u0e2a\\u0e36\\u0e01\\u0e44\\u0e21\\u0e48\\u0e04\\u0e48\\u0e2d\\u0e22\\u0e40\\u0e02\\u0e49\\u0e32\\u0e01\\u0e31\\u0e19 \\u0e41\\u0e15\\u0e48\\u0e01\\u0e34\\u0e19\\u0e41\\u0e22\\u0e01\\u0e01\\u0e31\\u0e19\\u0e41\\u0e25\\u0e49\\u0e27\\u0e2d\\u0e23\\u0e48\\u0e2d\\u0e22\\u0e21\\u0e32\\u0e01 4/5\\n- duck ragu pasta \\u0e08\\u0e32\\u0e19\\u0e19\\u0e35\\u0e49\\u0e2d\\u0e23\\u0e48\\u0e2d\\u0e22\\u0e14\\u0e35 \\u0e40\\u0e1b\\u0e47\\u0e19\\u0e1e\\u0e32\\u0e2a\\u0e15\\u0e49\\u0e32\\u0e40\\u0e2a\\u0e49\\u0e19\\u0e43\\u0e2b\\u0e0d\\u0e48\\u0e2b\\u0e19\\u0e48\\u0e2d\\u0e22 \\u0e0b\\u0e2d\\u0e2a\\u0e40\\u0e1b\\u0e47\\u0e14 4/5\\n- chicken nacho \\u0e41\\u0e1b\\u0e25\\u0e01\\u0e14\\u0e35 \\u0e19\\u0e32\\u0e42\\u0e0a\\u0e17\\u0e2d\\u0e14\\u0e43\\u0e2b\\u0e21\\u0e48\\u0e23\\u0e49\\u0e2d\\u0e19\\u0e46 \\u0e2b\\u0e2d\\u0e21\\u0e46 \\u0e41\\u0e15\\u0e48\\u0e41\\u0e2d\\u0e1a\\u0e40\\u0e25\\u0e35\\u0e48\\u0e22\\u0e19\\u0e44\\u0e1b\\u0e19\\u0e34\\u0e14 3/5\\n\\n\\u0e42\\u0e14\\u0e22\\u0e23\\u0e27\\u0e21\\u0e41\\u0e25\\u0e49\\u0e27\\u0e16\\u0e37\\u0e2d\\u0e27\\u0e48\\u0e32\\u0e14\\u0e35\\u0e17\\u0e35\\u0e40\\u0e14\\u0e35\\u0e22\\u0e27\\u0e04\\u0e48\\u0e30 \\u0e23\\u0e32\\u0e04\\u0e32\\u0e41\\u0e25\\u0e30\\u0e23\\u0e2a\\u0e0a\\u0e32\\u0e15\\u0e34\\u0e1e\\u0e2d\\u0e46\\u0e01\\u0e31\\u0e1aroast\\u0e17\\u0e35\\u0e48\\u0e2d\\u0e22\\u0e39\\u0e48\\u0e14\\u0e49\\u0e32\\u0e19\\u0e25\\u0e48\\u0e32\\u0e07 \\u0e43\\u0e04\\u0e23\\u0e02\\u0e35\\u0e49\\u0e40\\u0e01\\u0e35\\u0e22\\u0e08\\u0e15\\u0e48\\u0e2d\\u0e04\\u0e34\\u0e27 \\u0e2b\\u0e23\\u0e37\\u0e2d\\u0e2d\\u0e22\\u0e32\\u0e01\\u0e25\\u0e2d\\u0e07bruch\\u0e14\\u0e35\\u0e46\\u0e41\\u0e16\\u0e27\\u0e17\\u0e2d\\u0e07\\u0e2b\\u0e25\\u0e48\\u0e2d\\u0e41\\u0e19\\u0e30\\u0e19\\u0e33\\u0e23\\u0e49\\u0e32\\u0e19\\u0e19\\u0e35\\u0e49\\u0e2d\\u0e35\\u0e01\\u0e23\\u0e49\\u0e32\\u0e19\\u0e04\\u0e48\\u0e30\",\n          \"<<\\u0e40\\u0e2a\\u0e49\\u0e19\\u0e17\\u0e32\\u0e07\\u0e19\\u0e31\\u0e01\\u0e25\\u0e07\\u0e17\\u0e38\\u0e19>>\\n\\n     \\u0e2b\\u0e49\\u0e32\\u0e07 Union Mall \\u0e0a\\u0e31\\u0e49\\u0e19 3 \\u0e42\\u0e0b\\u0e19 B \\u0e43\\u0e01\\u0e25\\u0e49\\u0e1a\\u0e31\\u0e19\\u0e44\\u0e14\\u0e40\\u0e25\\u0e37\\u0e48\\u0e2d\\u0e19 \\n\\n<<\\u0e42\\u0e1a\\u0e23\\u0e01\\u0e40\\u0e01\\u0e2d\\u0e23\\u0e4c\\u0e08\\u0e2d\\u0e21\\u0e41\\u0e17\\u0e04\\u0e15\\u0e34\\u0e04\\u0e0a\\u0e35\\u0e49\\u0e19\\u0e33>>\\n\\n     \\u0e19\\u0e49\\u0e2d\\u0e07 GB \\u0e41\\u0e25\\u0e30\\u0e17\\u0e35\\u0e21\\u0e07\\u0e32\\u0e19\\u0e21\\u0e32\\u0e40\\u0e22\\u0e37\\u0e2d\\u0e19\\u0e2b\\u0e49\\u0e32\\u0e07\\u0e17\\u0e35\\u0e48\\u0e21\\u0e35\\u0e04\\u0e19\\u0e1e\\u0e25\\u0e38\\u0e01\\u0e1e\\u0e25\\u0e48\\u0e32\\u0e19\\u0e21\\u0e32\\u0e01\\u0e46\\u0e08\\u0e23\\u0e34\\u0e07\\u0e46 \\u0e2b\\u0e25\\u0e31\\u0e07\\u0e08\\u0e32\\u0e01\\u0e41\\u0e2d\\u0e1a\\u0e40\\u0e21\\u0e35\\u0e22\\u0e07\\u0e21\\u0e2d\\u0e07\\u0e23\\u0e49\\u0e32\\u0e19\\u0e19\\u0e35\\u0e49\\u0e21\\u0e32\\u0e19\\u0e32\\u0e19 \\u0e40\\u0e1e\\u0e23\\u0e32\\u0e30\\u0e14\\u0e49\\u0e27\\u0e22\\u0e41\\u0e23\\u0e07\\u0e42\\u0e06\\u0e29\\u0e13\\u0e32\\u0e17\\u0e35\\u0e48\\u0e16\\u0e32\\u0e42\\u0e16\\u0e21\\u0e43\\u0e19\\u0e27\\u0e07\\u0e43\\u0e19\\u0e0b\\u0e30\\u0e19\\u0e48\\u0e32\\u0e17\\u0e32\\u0e19 \\u0e40\\u0e23\\u0e32\\u0e01\\u0e47\\u0e40\\u0e1d\\u0e49\\u0e32\\u0e27\\u0e48\\u0e32\\u0e2d\\u0e22\\u0e32\\u0e01\\u0e44\\u0e1b\\u0e1e\\u0e1a\\u0e1e\\u0e32\\u0e19\\u0e43\\u0e19\\u0e40\\u0e23\\u0e47\\u0e27\\u0e27\\u0e31\\u0e19 \\u0e40\\u0e23\\u0e32\\u0e40\\u0e14\\u0e34\\u0e19\\u0e2b\\u0e32\\u0e2d\\u0e22\\u0e39\\u0e48\\u0e1e\\u0e31\\u0e01\\u0e19\\u0e36\\u0e07 \\u0e17\\u0e35\\u0e21\\u0e07\\u0e32\\u0e19\\u0e27\\u0e48\\u0e32 \\u0e44\\u0e2b\\u0e07\\u0e1a\\u0e2d\\u0e01\\u0e40\\u0e08\\u0e49\\u0e32\\u0e16\\u0e34\\u0e48\\u0e19 \\u0e42\\u0e14\\u0e19\\u0e17\\u0e49\\u0e27\\u0e07\\u0e15\\u0e34\\u0e07\\u0e2d\\u0e22\\u0e48\\u0e32\\u0e07\\u0e23\\u0e38\\u0e19\\u0e41\\u0e23\\u0e07 \\u0e0a\\u0e48\\u0e32\\u0e07\\u0e19\\u0e48\\u0e32\\u0e02\\u0e32\\u0e22\\u0e2b\\u0e19\\u0e49\\u0e32\\u0e08\\u0e23\\u0e34\\u0e07\\u0e46 555+ \\u0e23\\u0e49\\u0e32\\u0e19\\u0e41\\u0e2d\\u0e1a\\u0e46\\u0e21\\u0e32\\u0e2d\\u0e22\\u0e39\\u0e48\\u0e43\\u0e19\\u0e42\\u0e0b\\u0e19\\u0e08\\u0e38\\u0e14\\u0e08\\u0e33\\u0e2b\\u0e19\\u0e48\\u0e32\\u0e22\\u0e40\\u0e2a\\u0e37\\u0e49\\u0e2d\\u0e1c\\u0e49\\u0e32\\u0e41\\u0e25\\u0e30\\u0e23\\u0e2d\\u0e07\\u0e40\\u0e17\\u0e49\\u0e32 \\u0e0b\\u0e36\\u0e48\\u0e07\\u0e40\\u0e22\\u0e37\\u0e49\\u0e2d\\u0e07\\u0e15\\u0e23\\u0e07\\u0e2b\\u0e19\\u0e49\\u0e32\\u0e23\\u0e49\\u0e32\\u0e19\\u0e17\\u0e35\\u0e48\\u0e43\\u0e2b\\u0e49\\u0e40\\u0e0a\\u0e48\\u0e32\\u0e0a\\u0e38\\u0e14\\u0e44\\u0e1b\\u0e07\\u0e32\\u0e19\\u0e41\\u0e15\\u0e48\\u0e07\\u0e07\\u0e32\\u0e19\\u0e19\\u0e34\\u0e14\\u0e46 \\u0e2d\\u0e31\\u0e19\\u0e08\\u0e31\\u0e14\\u0e27\\u0e48\\u0e32 \\u0e40\\u0e08\\u0e49\\u0e32\\u0e02\\u0e2d\\u0e07\\u0e23\\u0e49\\u0e32\\u0e19\\u0e40\\u0e14\\u0e47\\u0e14\\u0e14\\u0e27\\u0e07\\u0e22\\u0e32\\u0e01\\u0e25\\u0e37\\u0e21\\u0e40\\u0e25\\u0e37\\u0e2d\\u0e19 ???????????? (\\u0e19\\u0e2d\\u0e01\\u0e40\\u0e23\\u0e37\\u0e48\\u0e2d\\u0e07\\u0e15\\u0e25\\u0e2d\\u0e14 555+ )\\n\\n     Bon Bon \\u0e40\\u0e1b\\u0e47\\u0e19\\u0e20\\u0e32\\u0e29\\u0e32\\u0e1d\\u0e23\\u0e31\\u0e48\\u0e07\\u0e40\\u0e28\\u0e29 \\u0e2d\\u0e48\\u0e32\\u0e19\\u0e27\\u0e48\\u0e32 \\u0e1a\\u0e07\\u0e1a\\u0e07 \\u0e0b\\u0e36\\u0e48\\u0e07\\u0e41\\u0e1b\\u0e25\\u0e27\\u0e48\\u0e32 \\u0e14\\u0e35\\u0e4a..\\u0e14\\u0e35 (\\u0e01\\u0e23\\u0e38\\u0e13\\u0e32\\u0e17\\u0e33\\u0e40\\u0e2a\\u0e35\\u0e22\\u0e07\\u0e2a\\u0e39\\u0e07\\u0e15\\u0e32\\u0e21\\u0e41\\u0e1a\\u0e1a\\u0e19\\u0e49\\u0e2d\\u0e07\\u0e44\\u0e2d\\u0e0b\\u0e4c 555+)\\u0e2a\\u0e48\\u0e27\\u0e19\\u0e16\\u0e49\\u0e32\\u0e40\\u0e1b\\u0e47\\u0e19 \\u0e40\\u0e1b\\u0e47\\u0e19\\u0e20\\u0e32\\u0e29\\u0e32\\u0e2d\\u0e31\\u0e07\\u0e01\\u0e24\\u0e29 \\u0e2d\\u0e48\\u0e32\\u0e19\\u0e27\\u0e48\\u0e32 \\u0e1a\\u0e2d\\u0e19\\u0e1a\\u0e47\\u0e2d\\u0e19 \\u0e41\\u0e1b\\u0e25\\u0e27\\u0e48\\u0e32 \\u0e02\\u0e19\\u0e21\\u0e2b\\u0e27\\u0e32\\u0e19 \\u0e0b\\u0e36\\u0e48\\u0e07\\u0e14\\u0e39\\u0e41\\u0e25\\u0e49\\u0e27\\u0e40\\u0e08\\u0e49\\u0e32\\u0e02\\u0e2d\\u0e07\\u0e23\\u0e49\\u0e32\\u0e19\\u0e01\\u0e47\\u0e40\\u0e25\\u0e37\\u0e2d\\u0e01\\u0e04\\u0e33\\u0e44\\u0e14\\u0e49\\u0e14\\u0e35\\u0e04\\u0e23\\u0e31\\u0e1a \\u0e40\\u0e1e\\u0e23\\u0e32\\u0e30\\u0e2a\\u0e37\\u0e48\\u0e2d\\u0e04\\u0e27\\u0e32\\u0e21\\u0e2b\\u0e21\\u0e32\\u0e22\\u0e44\\u0e14\\u0e49\\u0e14\\u0e35\\u0e17\\u0e31\\u0e49\\u0e07 2 \\u0e2d\\u0e22\\u0e48\\u0e32\\u0e07 (\\u0e17\\u0e38\\u0e01\\u0e27\\u0e31\\u0e19\\u0e19\\u0e35\\u0e49\\u0e22\\u0e31\\u0e07\\u0e44\\u0e21\\u0e48\\u0e23\\u0e39\\u0e49\\u0e40\\u0e25\\u0e22 \\u0e15\\u0e01\\u0e25\\u0e07\\u0e2d\\u0e48\\u0e32\\u0e19\\u0e27\\u0e48\\u0e32\\u0e2d\\u0e30\\u0e44\\u0e23\\u0e01\\u0e31\\u0e19\\u0e41\\u0e19\\u0e48 555+) \\u0e41\\u0e15\\u0e48\\u0e16\\u0e49\\u0e32\\u0e21\\u0e2d\\u0e07\\u0e14\\u0e49\\u0e27\\u0e22\\u0e23\\u0e39\\u0e1b\\u0e41\\u0e1a\\u0e1a\\u0e41\\u0e25\\u0e30\\u0e25\\u0e27\\u0e14\\u0e25\\u0e32\\u0e22\\u0e07\\u0e32\\u0e21\\u0e46\\u0e41\\u0e25\\u0e49\\u0e27 \\u0e04\\u0e07\\u0e1e\\u0e2d\\u0e17\\u0e23\\u0e32\\u0e1a\\u0e01\\u0e31\\u0e19\\u0e44\\u0e14\\u0e49\\u0e27\\u0e48\\u0e32 \\u0e40\\u0e0a\\u0e1f\\u0e02\\u0e19\\u0e21\\u0e04\\u0e07\\u0e44\\u0e1b\\u0e08\\u0e31\\u0e14 \\u0e04\\u0e2d\\u0e23\\u0e4c\\u0e2a Le Cordon Bleu \\u0e21\\u0e32\\u0e2d\\u0e22\\u0e48\\u0e32\\u0e07\\u0e41\\u0e19\\u0e48\\u0e19\\u0e2d\\u0e19 555+ \\u0e40\\u0e21\\u0e19\\u0e39\\u0e43\\u0e19\\u0e23\\u0e49\\u0e32\\u0e19\\u0e17\\u0e35\\u0e48\\u0e14\\u0e39\\u0e25\\u0e07\\u0e15\\u0e31\\u0e27\\u0e14\\u0e35\\u0e44\\u0e21\\u0e48\\u0e40\\u0e1a\\u0e32 \\u0e14\\u0e49\\u0e27\\u0e22\\u0e40\\u0e04\\u0e23\\u0e37\\u0e48\\u0e2d\\u0e07\\u0e14\\u0e37\\u0e48\\u0e21\\u0e1b\\u0e23\\u0e30\\u0e40\\u0e20\\u0e17\\u0e01\\u0e32\\u0e41\\u0e1f, \\u0e0a\\u0e32, Freppe, Smoothies \\u0e41\\u0e25\\u0e30 Soda \\u0e17\\u0e35\\u0e48\\u0e14\\u0e39\\u0e08\\u0e32\\u0e01\\u0e04\\u0e48\\u0e32\\u0e40\\u0e2a\\u0e35\\u0e22\\u0e2b\\u0e32\\u0e22\\u0e40\\u0e23\\u0e34\\u0e48\\u0e21\\u0e15\\u0e49\\u0e19 \\u0e40\\u0e1e\\u0e35\\u0e22\\u0e07 40 \\u0e01\\u0e27\\u0e48\\u0e32\\u0e1a\\u0e32\\u0e17\\u0e41\\u0e25\\u0e49\\u0e27 \\u0e25\\u0e48\\u0e2d\\u0e15\\u0e32\\u0e25\\u0e48\\u0e2d\\u0e43\\u0e08\\u0e44\\u0e21\\u0e48\\u0e18\\u0e23\\u0e23\\u0e21\\u0e14\\u0e32 \\u0e2b\\u0e31\\u0e19\\u0e2b\\u0e19\\u0e49\\u0e32\\u0e21\\u0e32\\u0e21\\u0e2d\\u0e07\\u0e02\\u0e19\\u0e21\\u0e2b\\u0e27\\u0e32\\u0e19\\u0e01\\u0e31\\u0e19\\u0e1a\\u0e49\\u0e32\\u0e07 \\u0e17\\u0e31\\u0e49\\u0e07 Crepe cake, Cheese cake  \\u0e40\\u0e1b\\u0e47\\u0e19\\u0e15\\u0e49\\u0e19 \\u0e2a\\u0e44\\u0e15\\u0e25\\u0e4c\\u0e1d\\u0e23\\u0e31\\u0e48\\u0e07\\u0e40\\u0e28\\u0e29 \\u0e17\\u0e35\\u0e48\\u0e14\\u0e39\\u0e19\\u0e48\\u0e32\\u0e17\\u0e32\\u0e19\\u0e15\\u0e32\\u0e21\\u0e41\\u0e1a\\u0e1a\\u0e09\\u0e1a\\u0e31\\u0e1a \\u0e1e\\u0e23\\u0e49\\u0e2d\\u0e21\\u0e44\\u0e21\\u0e48\\u0e19\\u0e48\\u0e32\\u0e1e\\u0e25\\u0e32\\u0e14\\u0e01\\u0e31\\u0e1a Set toast, Moose cake \\u0e41\\u0e25\\u0e30 Lava \\u0e17\\u0e35\\u0e48\\u0e19\\u0e48\\u0e32\\u0e15\\u0e32\\u0e19\\u0e48\\u0e32\\u0e17\\u0e32\\u0e19 \\u0e08\\u0e32\\u0e01\\u0e17\\u0e35\\u0e48\\u0e17\\u0e35\\u0e21\\u0e07\\u0e32\\u0e19\\u0e27\\u0e34\\u0e40\\u0e04\\u0e23\\u0e32\\u0e30\\u0e2b\\u0e4c\\u0e40\\u0e21\\u0e48\\u0e32\\u0e1b\\u0e35\\u0e01\\u0e40\\u0e2b\\u0e25\\u0e47\\u0e01\\u0e02\\u0e2d\\u0e07\\u0e40\\u0e23\\u0e32 \\u0e1a\\u0e2d\\u0e01\\u0e23\\u0e32\\u0e04\\u0e32\\u0e40\\u0e1b\\u0e34\\u0e14\\u0e15\\u0e31\\u0e27\\u0e19\\u0e48\\u0e32\\u0e23\\u0e31\\u0e01\\u0e19\\u0e48\\u0e32\\u0e25\\u0e38\\u0e49\\u0e19 \\u0e08\\u0e31\\u0e14\\u0e21\\u0e32\\u0e27\\u0e31\\u0e14\\u0e43\\u0e08\\u0e01\\u0e31\\u0e19\\u0e14\\u0e39\\u0e1e\\u0e2d\\u0e2b\\u0e2d\\u0e21\\u0e1b\\u0e32\\u0e01\\u0e2b\\u0e2d\\u0e21\\u0e04\\u0e2d\\u0e01\\u0e31\\u0e19\\u0e08\\u0e4a\\u0e30...\\n\\n<<\\u0e15\\u0e31\\u0e27\\u0e40\\u0e01\\u0e47\\u0e07\\u0e08\\u0e32\\u0e01\\u0e42\\u0e1e\\u0e22\\u0e40\\u0e17\\u0e1e \\u0e40\\u0e1e\\u0e37\\u0e48\\u0e2d\\u0e2b\\u0e19\\u0e35\\u0e15\\u0e34\\u0e14\\u0e14\\u0e2d\\u0e22 555+>>\\n\\n     - Bon Bon signature ( 65 \\u0e1a\\u0e32\\u0e17 ) ????????????????: \\u0e01\\u0e32\\u0e41\\u0e1f\\u0e2a\\u0e14\\u0e15\\u0e32\\u0e21\\u0e2a\\u0e44\\u0e15\\u0e25\\u0e4c\\u0e02\\u0e2d\\u0e07\\u0e23\\u0e49\\u0e32\\u0e19 \\u0e17\\u0e35\\u0e48\\u0e01\\u0e25\\u0e34\\u0e48\\u0e19\\u0e04\\u0e48\\u0e2d\\u0e19\\u0e02\\u0e49\\u0e32\\u0e07\\u0e19\\u0e48\\u0e32\\u0e23\\u0e31\\u0e01 \\u0e41\\u0e21\\u0e49\\u0e08\\u0e30\\u0e40\\u0e1b\\u0e47\\u0e19\\u0e41\\u0e1a\\u0e1a\\u0e40\\u0e22\\u0e47\\u0e19 \\u0e01\\u0e32\\u0e41\\u0e1f\\u0e17\\u0e35\\u0e48\\u0e1b\\u0e23\\u0e38\\u0e07\\u0e41\\u0e15\\u0e48\\u0e07\\u0e08\\u0e32\\u0e01\\u0e2a\\u0e39\\u0e15\\u0e23\\u0e40\\u0e14\\u0e47\\u0e14\\u0e02\\u0e2d\\u0e07\\u0e23\\u0e49\\u0e32\\u0e19\\u0e19\\u0e33\\u0e21\\u0e32 Shake \\u0e01\\u0e31\\u0e1a\\u0e19\\u0e49\\u0e33\\u0e41\\u0e02\\u0e47\\u0e07 \\u0e41\\u0e25\\u0e30\\u0e1b\\u0e34\\u0e14\\u0e17\\u0e49\\u0e32\\u0e22\\u0e14\\u0e49\\u0e27\\u0e22\\u0e01\\u0e32\\u0e23\\u0e43\\u0e2a\\u0e48\\u0e1f\\u0e2d\\u0e07\\u0e2d\\u0e32\\u0e01\\u0e32\\u0e28\\u0e41\\u0e17\\u0e23\\u0e01\\u0e40\\u0e02\\u0e49\\u0e32\\u0e44\\u0e1b\\u0e43\\u0e19\\u0e1a\\u0e2d\\u0e14\\u0e35\\u0e49 \\u0e40\\u0e1e\\u0e37\\u0e48\\u0e2d\\u0e40\\u0e1e\\u0e34\\u0e48\\u0e21\\u0e23\\u0e2a\\u0e2a\\u0e31\\u0e21\\u0e1c\\u0e31\\u0e2a\\u0e43\\u0e2b\\u0e49\\u0e21\\u0e35\\u0e04\\u0e27\\u0e32\\u0e21\\u0e25\\u0e37\\u0e48\\u0e19\\u0e25\\u0e30\\u0e21\\u0e38\\u0e19 \\u0e08\\u0e32\\u0e01\\u0e1d\\u0e35\\u0e21\\u0e37\\u0e2d Barista \\u0e2a\\u0e38\\u0e14\\u0e2b\\u0e25\\u0e48\\u0e2d \\u0e17\\u0e33\\u0e43\\u0e2b\\u0e49 After test \\u0e02\\u0e2d\\u0e07\\u0e01\\u0e32\\u0e41\\u0e1f\\u0e41\\u0e01\\u0e49\\u0e27\\u0e19\\u0e35\\u0e49 \\u0e14\\u0e39\\u0e21\\u0e35\\u0e2d\\u0e30\\u0e44\\u0e23\\u0e0b\\u0e48\\u0e2d\\u0e19\\u0e2d\\u0e22\\u0e39\\u0e48\\u0e2d\\u0e22\\u0e48\\u0e32\\u0e07\\u0e19\\u0e48\\u0e32\\u0e2a\\u0e19\\u0e43\\u0e08 \\u0e41\\u0e21\\u0e49\\u0e04\\u0e48\\u0e32\\u0e15\\u0e31\\u0e27\\u0e08\\u0e30\\u0e14\\u0e39\\u0e15\\u0e48\\u0e33\\u0e15\\u0e49\\u0e2d\\u0e22 \\u0e41\\u0e15\\u0e48\\u0e14\\u0e35\\u0e07\\u0e32\\u0e21\\u0e44\\u0e21\\u0e48\\u0e19\\u0e49\\u0e2d\\u0e22 \\u0e19\\u0e48\\u0e32\\u0e1b\\u0e23\\u0e30\\u0e17\\u0e31\\u0e1a\\u0e43\\u0e08\\u0e04\\u0e23\\u0e31\\u0e1a....\\n\\n     - Banoffee chocco freappe ( 85 \\u0e1a\\u0e32\\u0e17 ) ????????????: \\u0e0a\\u0e47\\u0e2d\\u0e01\\u0e42\\u0e01\\u0e41\\u0e25\\u0e15\\u0e17\\u0e35\\u0e48\\u0e1c\\u0e2a\\u0e21\\u0e01\\u0e31\\u0e1a\\u0e44\\u0e0b\\u0e23\\u0e31\\u0e1b\\u0e04\\u0e32\\u0e23\\u0e40\\u0e21\\u0e25\\u0e19\\u0e33\\u0e44\\u0e1b\\u0e1b\\u0e31\\u0e48\\u0e19\\u0e08\\u0e19\\u0e40\\u0e19\\u0e37\\u0e49\\u0e2d\\u0e40\\u0e19\\u0e35\\u0e22\\u0e19\\u0e40\\u0e02\\u0e49\\u0e32\\u0e01\\u0e31\\u0e19\\u0e14\\u0e35 \\u0e44\\u0e21\\u0e48\\u0e21\\u0e35\\u0e40\\u0e01\\u0e23\\u0e47\\u0e14 \\u0e40\\u0e19\\u0e37\\u0e49\\u0e2d\\u0e2d\\u0e2d\\u0e01\\u0e40\\u0e02\\u0e49\\u0e21\\u0e02\\u0e49\\u0e19 \\u0e40\\u0e2b\\u0e19\\u0e35\\u0e22\\u0e21\\u0e2b\\u0e19\\u0e36\\u0e1a\\u0e14\\u0e35\\u0e43\\u0e0a\\u0e49\\u0e44\\u0e14\\u0e49 \\u0e43\\u0e2b\\u0e49\\u0e23\\u0e2a\\u0e2b\\u0e27\\u0e32\\u0e19 \\u0e21\\u0e31\\u0e19\\u0e46 \\u0e44\\u0e14\\u0e49\\u0e43\\u0e08\\u0e1e\\u0e2d\\u0e04\\u0e27\\u0e23 \\u0e1b\\u0e23\\u0e30\\u0e14\\u0e31\\u0e1a\\u0e14\\u0e49\\u0e27\\u0e22\\u0e01\\u0e25\\u0e49\\u0e27\\u0e22\\u0e2b\\u0e2d\\u0e21\\u0e2b\\u0e31\\u0e48\\u0e19 \\u0e41\\u0e25\\u0e30\\u0e0a\\u0e47\\u0e2d\\u0e01\\u0e42\\u0e01\\u0e41\\u0e25\\u0e15\\u0e0a\\u0e34\\u0e1e\\u0e14\\u0e49\\u0e32\\u0e19\\u0e1a\\u0e19 \\u0e1b\\u0e34\\u0e14\\u0e17\\u0e49\\u0e32\\u0e22\\u0e14\\u0e49\\u0e32\\u0e19\\u0e1a\\u0e19\\u0e23\\u0e32\\u0e14\\u0e44\\u0e0b\\u0e23\\u0e31\\u0e1b \\u0e40\\u0e1e\\u0e34\\u0e48\\u0e21\\u0e04\\u0e27\\u0e32\\u0e21\\u0e2b\\u0e27\\u0e32\\u0e19\\u0e21\\u0e31\\u0e19 \\u0e40\\u0e02\\u0e49\\u0e21\\u0e02\\u0e49\\u0e19 \\u0e14\\u0e35\\u0e43\\u0e0a\\u0e49\\u0e44\\u0e14\\u0e49\\u0e40\\u0e25\\u0e22\\u0e04\\u0e23\\u0e31\\u0e1a\\n\\n     - Santa cat set ( 139 \\u0e1a\\u0e32\\u0e17 ) ????????????: \\u0e41\\u0e21\\u0e27\\u0e40\\u0e2b\\u0e21\\u0e35\\u0e22\\u0e27\\u0e08\\u0e21\\u0e39\\u0e01\\u0e1f\\u0e49\\u0e32\\u0e2a\\u0e38\\u0e14\\u0e19\\u0e48\\u0e32\\u0e23\\u0e31\\u0e01\\u0e15\\u0e49\\u0e2d\\u0e19\\u0e23\\u0e31\\u0e1a\\u0e40\\u0e17\\u0e28\\u0e01\\u0e32\\u0e25\\u0e04\\u0e23\\u0e34\\u0e2a\\u0e21\\u0e32\\u0e2a\\u0e17\\u0e4c (\\u0e04\\u0e19\\u0e2d\\u0e48\\u0e32\\u0e19\\u0e16\\u0e32\\u0e21 : \\u0e14\\u0e2d\\u0e07\\u0e23\\u0e35\\u0e27\\u0e34\\u0e27\\u0e2d\\u0e35\\u0e01\\u0e41\\u0e25\\u0e49\\u0e27\\u0e43\\u0e0a\\u0e48\\u0e44\\u0e2b\\u0e21\\u0e04\\u0e48\\u0e30 ...555+) \\u0e0a\\u0e47\\u0e2d\\u0e01\\u0e42\\u0e01\\u0e41\\u0e25\\u0e15\\u0e21\\u0e39\\u0e2a\\u0e40\\u0e19\\u0e37\\u0e49\\u0e2d\\u0e1a\\u0e32\\u0e07\\u0e40\\u0e1a\\u0e32 \\u0e2d\\u0e2d\\u0e01\\u0e2b\\u0e27\\u0e32\\u0e19 \\u0e02\\u0e21 \\u0e40\\u0e02\\u0e49\\u0e21\\u0e14\\u0e35\\u0e43\\u0e0a\\u0e49\\u0e44\\u0e14\\u0e49 \\u0e40\\u0e19\\u0e37\\u0e49\\u0e2d\\u0e25\\u0e30\\u0e21\\u0e38\\u0e19\\u0e46\\u0e25\\u0e30\\u0e40\\u0e2d\\u0e35\\u0e22\\u0e14\\u0e1e\\u0e2d\\u0e04\\u0e27\\u0e23 \\u0e2b\\u0e48\\u0e2d\\u0e2b\\u0e38\\u0e49\\u0e21\\u0e04\\u0e38\\u0e49\\u0e21\\u0e01\\u0e31\\u0e19\\u0e0a\\u0e47\\u0e2d\\u0e01\\u0e42\\u0e01\\u0e41\\u0e25\\u0e15\\u0e17\\u0e35\\u0e48\\u0e2b\\u0e27\\u0e32\\u0e19 \\u0e40\\u0e02\\u0e49\\u0e21\\u0e40\\u0e1b\\u0e47\\u0e19\\u0e01\\u0e49\\u0e2d\\u0e19\\u0e43\\u0e2b\\u0e0d\\u0e48\\u0e2d\\u0e22\\u0e39\\u0e48\\u0e14\\u0e49\\u0e32\\u0e19\\u0e43\\u0e19 \\u0e43\\u0e2b\\u0e49\\u0e44\\u0e14\\u0e49 Surprise \\u0e01\\u0e31\\u0e1a\\u0e15\\u0e31\\u0e1a\\u0e44\\u0e15\\u0e02\\u0e2d\\u0e07\\u0e19\\u0e49\\u0e2d\\u0e07\\u0e40\\u0e2b\\u0e21\\u0e35\\u0e22\\u0e27 555+ \\u0e21\\u0e35\\u0e2b\\u0e21\\u0e27\\u0e01\\u0e27\\u0e34\\u0e1b\\u0e04\\u0e23\\u0e35\\u0e21\\u0e41\\u0e25\\u0e30\\u0e2a\\u0e15\\u0e23\\u0e2d\\u0e40\\u0e1a\\u0e2d\\u0e23\\u0e4c\\u0e23\\u0e35\\u0e48\\u0e2a\\u0e14\\u0e1b\\u0e23\\u0e30\\u0e14\\u0e31\\u0e1a\\u0e44\\u0e27\\u0e49\\u0e14\\u0e49\\u0e32\\u0e19\\u0e1a\\u0e19\\u0e46 \\u0e17\\u0e32\\u0e19\\u0e04\\u0e39\\u0e48\\u0e01\\u0e31\\u0e1a\\u0e04\\u0e31\\u0e2a\\u0e15\\u0e32\\u0e23\\u0e4c\\u0e14\\u0e17\\u0e35\\u0e48\\u0e21\\u0e35\\u0e41\\u0e22\\u0e21\\u0e2a\\u0e15\\u0e23\\u0e2d\\u0e40\\u0e1a\\u0e2d\\u0e23\\u0e4c\\u0e23\\u0e35\\u0e48\\u0e2a\\u0e35\\u0e2a\\u0e27\\u0e22\\u0e19\\u0e2d\\u0e19\\u0e17\\u0e31\\u0e1a\\u0e2d\\u0e22\\u0e39\\u0e48\\u0e14\\u0e49\\u0e32\\u0e19\\u0e1a\\u0e19 \\u0e43\\u0e2b\\u0e49\\u0e23\\u0e2a\\u0e40\\u0e1b\\u0e23\\u0e35\\u0e49\\u0e22\\u0e27\\u0e41\\u0e25\\u0e30\\u0e2b\\u0e27\\u0e32\\u0e19\\u0e15\\u0e31\\u0e14\\u0e01\\u0e31\\u0e19 \\u0e19\\u0e38\\u0e48\\u0e21\\u0e46\\u0e25\\u0e37\\u0e48\\u0e19\\u0e46\\u0e2b\\u0e22\\u0e38\\u0e48\\u0e19\\u0e46\\u0e1e\\u0e2d\\u0e14\\u0e34\\u0e1a\\u0e1e\\u0e2d\\u0e14\\u0e35 \\u0e41\\u0e25\\u0e30\\u0e21\\u0e35\\u0e40\\u0e1e\\u0e37\\u0e48\\u0e2d\\u0e19\\u0e44\\u0e2d\\u0e28\\u0e04\\u0e23\\u0e35\\u0e21\\u0e27\\u0e32\\u0e19\\u0e34\\u0e25\\u0e25\\u0e32\\u0e01\\u0e49\\u0e2d\\u0e19\\u0e42\\u0e15 \\u0e40\\u0e19\\u0e37\\u0e49\\u0e2d\\u0e40\\u0e2b\\u0e25\\u0e37\\u0e2d\\u0e07\\u0e02\\u0e32\\u0e27\\u0e2a\\u0e27\\u0e22 \\u0e40\\u0e19\\u0e35\\u0e22\\u0e19\\u0e1e\\u0e2d\\u0e44\\u0e14\\u0e49 \\u0e23\\u0e2a\\u0e2b\\u0e27\\u0e32\\u0e19 \\u0e2b\\u0e2d\\u0e21\\u0e18\\u0e23\\u0e23\\u0e21\\u0e14\\u0e32\\u0e04\\u0e23\\u0e31\\u0e1a\\n\\n<<\\u0e1b\\u0e34\\u0e14\\u0e15\\u0e25\\u0e32\\u0e14\\u0e0b\\u0e37\\u0e49\\u0e2d\\u0e02\\u0e32\\u0e22 \\u0e40\\u0e02\\u0e35\\u0e22\\u0e27\\u0e2b\\u0e23\\u0e37\\u0e2d\\u0e41\\u0e14\\u0e07\\u0e21\\u0e32\\u0e25\\u0e38\\u0e49\\u0e19>>\\n\\n     >\\u0e23\\u0e2a\\u0e0a\\u0e32\\u0e15\\u0e34 \\u2013 3.5/5 : \\u0e01\\u0e32\\u0e41\\u0e1f\\u0e17\\u0e33\\u0e44\\u0e14\\u0e49\\u0e14\\u0e35\\u0e41\\u0e25\\u0e49\\u0e27\\u0e04\\u0e23\\u0e31\\u0e1a \\u0e21\\u0e35\\u0e04\\u0e27\\u0e32\\u0e21\\u0e40\\u0e1b\\u0e47\\u0e19\\u0e40\\u0e2d\\u0e01\\u0e25\\u0e31\\u0e01\\u0e29\\u0e13\\u0e4c\\u0e14\\u0e35\\u0e43\\u0e0a\\u0e49\\u0e44\\u0e14\\u0e49 \\u0e23\\u0e2a \\u0e01\\u0e25\\u0e34\\u0e48\\u0e19 \\u0e1a\\u0e2d\\u0e14\\u0e35\\u0e49 after test \\u0e21\\u0e32\\u0e43\\u0e19\\u0e40\\u0e01\\u0e13\\u0e11\\u0e4c\\u0e14\\u0e35\\u0e40\\u0e25\\u0e22 \\u0e2d\\u0e35\\u0e01\\u0e41\\u0e01\\u0e49\\u0e27\\u0e22\\u0e31\\u0e07\\u0e44\\u0e21\\u0e48\\u0e1b\\u0e23\\u0e30\\u0e17\\u0e31\\u0e1a\\u0e43\\u0e08\\u0e21\\u0e32\\u0e01\\u0e19\\u0e31\\u0e01 \\u0e23\\u0e39\\u0e49\\u0e2a\\u0e36\\u0e01\\u0e22\\u0e31\\u0e07\\u0e18\\u0e23\\u0e23\\u0e21\\u0e14\\u0e32\\u0e44\\u0e1b\\u0e2b\\u0e19\\u0e48\\u0e2d\\u0e22 \\u0e44\\u0e2d\\u0e40\\u0e14\\u0e35\\u0e22\\u0e14\\u0e35\\u0e41\\u0e25\\u0e49\\u0e27 \\u0e40\\u0e02\\u0e49\\u0e21\\u0e02\\u0e49\\u0e19\\u0e1b\\u0e32\\u0e19\\u0e01\\u0e25\\u0e32\\u0e07 \\u0e41\\u0e15\\u0e48\\u0e01\\u0e25\\u0e34\\u0e48\\u0e19\\u0e44\\u0e21\\u0e48\\u0e21\\u0e32 \\u0e41\\u0e25\\u0e30\\u0e22\\u0e31\\u0e07\\u0e2a\\u0e37\\u0e48\\u0e2d\\u0e44\\u0e21\\u0e48\\u0e16\\u0e36\\u0e07\\u0e23\\u0e2a\\u0e02\\u0e2d\\u0e07\\u0e1b\\u0e25\\u0e32\\u0e22\\u0e17\\u0e32\\u0e07\\u0e04\\u0e23\\u0e31\\u0e1a \\u0e2a\\u0e48\\u0e27\\u0e19\\u0e02\\u0e19\\u0e21\\u0e22\\u0e31\\u0e07\\u0e44\\u0e21\\u0e48\\u0e2a\\u0e38\\u0e14\\u0e40\\u0e0a\\u0e48\\u0e19\\u0e01\\u0e31\\u0e19\\u0e04\\u0e23\\u0e31\\u0e1a \\u0e22\\u0e31\\u0e07\\u0e44\\u0e21\\u0e48\\u0e40\\u0e02\\u0e49\\u0e21\\u0e02\\u0e49\\u0e19 \\u0e2b\\u0e27\\u0e32\\u0e19\\u0e21\\u0e31\\u0e19\\u0e14\\u0e31\\u0e48\\u0e07\\u0e04\\u0e27\\u0e32\\u0e21\\u0e1e\\u0e36\\u0e07\\u0e1e\\u0e2d\\u0e43\\u0e08 \\u0e23\\u0e2a\\u0e0a\\u0e32\\u0e15\\u0e34\\u0e14\\u0e35\\u0e43\\u0e0a\\u0e49\\u0e44\\u0e14\\u0e49 \\u0e27\\u0e31\\u0e15\\u0e16\\u0e38\\u0e14\\u0e35\\u0e08\\u0e31\\u0e14\\u0e40\\u0e15\\u0e47\\u0e21\\u0e1e\\u0e2d\\u0e2a\\u0e21\\u0e04\\u0e27\\u0e23  \\u0e04\\u0e27\\u0e32\\u0e21\\u0e2b\\u0e2d\\u0e21\\u0e22\\u0e31\\u0e07\\u0e44\\u0e21\\u0e48\\u0e0a\\u0e31\\u0e14\\u0e40\\u0e14\\u0e48\\u0e19 \\u0e2a\\u0e35\\u0e2a\\u0e35\\u0e19\\u0e19\\u0e48\\u0e32\\u0e17\\u0e32\\u0e19\\u0e14\\u0e35\\u0e43\\u0e0a\\u0e49\\u0e44\\u0e14\\u0e49\\u0e04\\u0e23\\u0e31\\u0e1a \\u0e14\\u0e49\\u0e27\\u0e22\\u0e04\\u0e27\\u0e32\\u0e21\\u0e40\\u0e04\\u0e32\\u0e23\\u0e1e...\\n\\n     >\\u0e23\\u0e32\\u0e04\\u0e32 \\u2013 4/5 : \\u0e04\\u0e1a\\u0e2b\\u0e32\\u0e44\\u0e14\\u0e49 \\u0e09\\u0e31\\u0e19\\u0e21\\u0e34\\u0e15\\u0e23\\u0e2a\\u0e19\\u0e34\\u0e17 \\u0e23\\u0e32\\u0e04\\u0e32\\u0e19\\u0e38\\u0e48\\u0e19\\u0e08\\u0e19\\u0e19\\u0e48\\u0e32\\u0e2a\\u0e19\\u0e43\\u0e08\\u0e44\\u0e21\\u0e48\\u0e19\\u0e49\\u0e2d\\u0e22\\u0e40\\u0e25\\u0e22 (\\u0e43\\u0e19\\u0e1a\\u0e32\\u0e07\\u0e40\\u0e21\\u0e19\\u0e39 555+) \\u0e04\\u0e38\\u0e13\\u0e20\\u0e32\\u0e1e\\u0e2d\\u0e22\\u0e39\\u0e48\\u0e43\\u0e19\\u0e40\\u0e01\\u0e13\\u0e11\\u0e4c\\u0e14\\u0e35 \\u0e19\\u0e48\\u0e32\\u0e1e\\u0e36\\u0e07\\u0e1e\\u0e2d\\u0e43\\u0e08\\u0e17\\u0e31\\u0e49\\u0e07\\u0e27\\u0e31\\u0e15\\u0e16\\u0e38\\u0e14\\u0e34\\u0e1a\\u0e41\\u0e25\\u0e30\\u0e1b\\u0e23\\u0e34\\u0e21\\u0e32\\u0e13 \\u0e02\\u0e19\\u0e21\\u0e1b\\u0e23\\u0e34\\u0e21\\u0e32\\u0e13\\u0e14\\u0e39\\u0e40\\u0e2b\\u0e21\\u0e32\\u0e30\\u0e2a\\u0e21\\u0e42\\u0e2d\\u0e40\\u0e04 \\u0e04\\u0e38\\u0e13\\u0e20\\u0e32\\u0e1e\\u0e14\\u0e39\\u0e14\\u0e35\\u0e43\\u0e0a\\u0e49\\u0e44\\u0e14\\u0e49 \\u0e41\\u0e21\\u0e49\\u0e22\\u0e31\\u0e07\\u0e44\\u0e21\\u0e48\\u0e27\\u0e49\\u0e32\\u0e27\\u0e41\\u0e1a\\u0e1a\\u0e1b\\u0e32\\u0e01\\u0e01\\u0e27\\u0e49\\u0e32\\u0e07\\u0e01\\u0e47\\u0e15\\u0e32\\u0e21 \\u0e19\\u0e49\\u0e33\\u0e14\\u0e37\\u0e48\\u0e21\\u0e1f\\u0e23\\u0e35\\u0e21\\u0e35\\u0e43\\u0e2b\\u0e49\\u0e1a\\u0e23\\u0e34\\u0e01\\u0e32\\u0e23\\u0e15\\u0e31\\u0e27\\u0e40\\u0e2d\\u0e07 \\u0e40\\u0e08\\u0e2d\\u0e44\\u0e1b\\u0e41\\u0e04\\u0e48\\u0e19\\u0e35\\u0e49 \\u0e19\\u0e49\\u0e2d\\u0e07 GB \\u0e01\\u0e47 Happy \\u0e14\\u0e35\\u0e4a\\u0e14\\u0e35\\u0e41\\u0e25\\u0e49\\u0e27\\u0e08\\u0e4a\\u0e30\\n\\n     >\\u0e1a\\u0e23\\u0e23\\u0e22\\u0e32\\u0e01\\u0e32\\u0e28 \\u2013 3.5/5 : \\u0e23\\u0e49\\u0e32\\u0e19\\u0e02\\u0e19\\u0e32\\u0e14\\u0e1e\\u0e2d\\u0e14\\u0e35\\u0e46\\u0e04\\u0e23\\u0e31\\u0e1a \\u0e44\\u0e21\\u0e48\\u0e44\\u0e14\\u0e49\\u0e01\\u0e27\\u0e49\\u0e32\\u0e07\\u0e02\\u0e27\\u0e32\\u0e07\\u0e43\\u0e2b\\u0e0d\\u0e48\\u0e42\\u0e15\\u0e21\\u0e32\\u0e01\\u0e21\\u0e32\\u0e22\\u0e41\\u0e15\\u0e48\\u0e01\\u0e47\\u0e19\\u0e31\\u0e48\\u0e07\\u0e2a\\u0e1a\\u0e32\\u0e22\\u0e46\\u0e1e\\u0e2d\\u0e2a\\u0e21\\u0e04\\u0e27\\u0e23 \\u0e14\\u0e49\\u0e27\\u0e22\\u0e40\\u0e01\\u0e49\\u0e32\\u0e2d\\u0e35\\u0e49\\u0e2a\\u0e35\\u0e41\\u0e14\\u0e07\\u0e41\\u0e1b\\u0e23\\u0e4a\\u0e14\\u0e41\\u0e15\\u0e48\\u0e19\\u0e31\\u0e48\\u0e07\\u0e19\\u0e34\\u0e48\\u0e21\\u0e46\\u0e19\\u0e38\\u0e48\\u0e21\\u0e46\\u0e14\\u0e35 \\u0e17\\u0e32\\u0e19\\u0e01\\u0e31\\u0e1a\\u0e42\\u0e15\\u0e4a\\u0e30\\u0e41\\u0e1a\\u0e1a\\u0e01\\u0e25\\u0e21 5-6 \\u0e17\\u0e35\\u0e48 \\u0e17\\u0e35\\u0e48\\u0e04\\u0e48\\u0e2d\\u0e19\\u0e02\\u0e49\\u0e32\\u0e07\\u0e40\\u0e25\\u0e47\\u0e01\\u0e44\\u0e1b\\u0e19\\u0e34\\u0e14 \\u0e27\\u0e32\\u0e07\\u0e02\\u0e19\\u0e21\\u0e19\\u0e49\\u0e33\\u0e17\\u0e35\\u0e19\\u0e35\\u0e48\\u0e40\\u0e15\\u0e47\\u0e21\\u0e42\\u0e15\\u0e4a\\u0e30\\u0e44\\u0e21\\u0e48\\u0e40\\u0e1a\\u0e32 555+ \\u0e41\\u0e2d\\u0e23\\u0e4c\\u0e40\\u0e22\\u0e47\\u0e19\\u0e2a\\u0e1a\\u0e32\\u0e22\\u0e46 \\u0e40\\u0e1b\\u0e47\\u0e19\\u0e23\\u0e30\\u0e40\\u0e1a\\u0e35\\u0e22\\u0e1a\\u0e41\\u0e25\\u0e30\\u0e2a\\u0e30\\u0e2d\\u0e32\\u0e14\\u0e2a\\u0e30\\u0e2d\\u0e49\\u0e32\\u0e19\\u0e14\\u0e35\\u0e04\\u0e23\\u0e31\\u0e1a\\n\\n     >\\u0e1a\\u0e23\\u0e34\\u0e01\\u0e32\\u0e23 \\u2013 4.5/5 : \\u0e19\\u0e49\\u0e2d\\u0e07\\u0e17\\u0e35\\u0e48\\u0e15\\u0e49\\u0e2d\\u0e19\\u0e23\\u0e31\\u0e1a\\u0e40\\u0e23\\u0e32\\u0e41\\u0e25\\u0e30 Barista \\u0e17\\u0e35\\u0e48\\u0e04\\u0e32\\u0e14\\u0e27\\u0e48\\u0e32\\u0e08\\u0e30\\u0e40\\u0e1b\\u0e47\\u0e19\\u0e40\\u0e08\\u0e49\\u0e32\\u0e02\\u0e2d\\u0e07\\u0e23\\u0e49\\u0e32\\u0e19 \\u0e14\\u0e39\\u0e41\\u0e25\\u0e40\\u0e23\\u0e32\\u0e40\\u0e1b\\u0e47\\u0e19\\u0e2d\\u0e22\\u0e48\\u0e32\\u0e07\\u0e14\\u0e35\\u0e04\\u0e23\\u0e31\\u0e1a \\u0e22\\u0e34\\u0e49\\u0e21\\u0e41\\u0e22\\u0e49\\u0e21\\u0e41\\u0e08\\u0e48\\u0e21\\u0e43\\u0e2a\\u0e41\\u0e25\\u0e30\\u0e1e\\u0e39\\u0e14\\u0e08\\u0e32\\u0e2a\\u0e38\\u0e20\\u0e32\\u0e1e\\u0e40\\u0e23\\u0e35\\u0e22\\u0e1a\\u0e23\\u0e49\\u0e2d\\u0e22 \\u0e41\\u0e21\\u0e49\\u0e08\\u0e30\\u0e2d\\u0e2d\\u0e01\\u0e40\\u0e1a\\u0e32\\u0e46\\u0e44\\u0e1b\\u0e2b\\u0e19\\u0e48\\u0e2d\\u0e22 555+ \\u0e43\\u0e2b\\u0e49\\u0e04\\u0e33\\u0e41\\u0e19\\u0e30\\u0e19\\u0e33\\u0e14\\u0e35 \\u0e19\\u0e33\\u0e40\\u0e2a\\u0e34\\u0e23\\u0e4c\\u0e1f\\u0e16\\u0e36\\u0e07\\u0e42\\u0e15\\u0e4a\\u0e30 \\u0e17\\u0e48\\u0e32\\u0e17\\u0e32\\u0e07\\u0e14\\u0e35\\u0e07\\u0e32\\u0e21 \\u0e1b\\u0e23\\u0e30\\u0e19\\u0e1a\\u0e19\\u0e49\\u0e2d\\u0e21 \\u0e02\\u0e2d\\u0e1a\\u0e04\\u0e38\\u0e13\\u0e17\\u0e38\\u0e01\\u0e01\\u0e23\\u0e30\\u0e1a\\u0e27\\u0e19\\u0e17\\u0e48\\u0e32\\u0e02\\u0e2d\\u0e07\\u0e40\\u0e23\\u0e32 555+ \\u0e40\\u0e0a\\u0e35\\u0e22\\u0e23\\u0e4c\\u0e41\\u0e02\\u0e01\\u0e14\\u0e35\\u0e43\\u0e0a\\u0e49\\u0e44\\u0e14\\u0e49 \\u0e19\\u0e48\\u0e32\\u0e40\\u0e2a\\u0e35\\u0e22\\u0e14\\u0e32\\u0e22\\u0e44\\u0e1b\\u0e2b\\u0e19\\u0e48\\u0e2d\\u0e22 \\u0e16\\u0e49\\u0e32\\u0e1a\\u0e2d\\u0e01\\u0e40\\u0e23\\u0e37\\u0e48\\u0e2d\\u0e07\\u0e19\\u0e49\\u0e33\\u0e14\\u0e37\\u0e48\\u0e21\\u0e1f\\u0e23\\u0e35\\u0e17\\u0e35\\u0e48\\u0e2b\\u0e31\\u0e27\\u0e21\\u0e38\\u0e21\\u0e40\\u0e1e\\u0e34\\u0e48\\u0e21 \\u0e2a\\u0e33\\u0e2b\\u0e23\\u0e31\\u0e1a\\u0e25\\u0e39\\u0e01\\u0e04\\u0e49\\u0e32\\u0e17\\u0e35\\u0e48\\u0e40\\u0e02\\u0e49\\u0e32\\u0e21\\u0e32\\u0e41\\u0e25\\u0e49\\u0e27 \\u0e08\\u0e30\\u0e14\\u0e35\\u0e07\\u0e32\\u0e21\\u0e44\\u0e21\\u0e48\\u0e19\\u0e49\\u0e2d\\u0e22\\u0e04\\u0e23\\u0e31\\u0e1a \\u0e01\\u0e32\\u0e23\\u0e40\\u0e15\\u0e23\\u0e35\\u0e22\\u0e21\\u0e2d\\u0e32\\u0e2b\\u0e32\\u0e23\\u0e23\\u0e27\\u0e14\\u0e40\\u0e23\\u0e47\\u0e27\\u0e14\\u0e35\\u0e43\\u0e0a\\u0e49\\u0e44\\u0e14\\u0e49 \\u0e2a\\u0e16\\u0e32\\u0e19\\u0e17\\u0e35\\u0e48\\u0e08\\u0e2d\\u0e14\\u0e23\\u0e16\\u0e1e\\u0e2d\\u0e1e\\u0e36\\u0e48\\u0e07\\u0e1e\\u0e32\\u0e44\\u0e14\\u0e49\\u0e43\\u0e19\\u0e23\\u0e30\\u0e14\\u0e31\\u0e1a\\u0e19\\u0e36\\u0e07\\u0e04\\u0e23\\u0e31\\u0e1a\\n\\n<< \\u0e1b\\u0e23\\u0e30\\u0e01\\u0e32\\u0e28\\u0e1c\\u0e25\\u0e1b\\u0e23\\u0e30\\u0e01\\u0e2d\\u0e1a\\u0e01\\u0e32\\u0e23 >>\\n\\n     \\u0e25\\u0e07\\u0e17\\u0e38\\u0e19\\u0e41\\u0e25\\u0e49\\u0e27 \\u0e14\\u0e39\\u0e41\\u0e25\\u0e14\\u0e35 \\u0e21\\u0e35\\u0e01\\u0e33\\u0e44\\u0e23\\u0e41\\u0e1a\\u0e1a\\u0e19\\u0e35\\u0e49 \\u0e1e\\u0e35\\u0e48\\u0e15\\u0e49\\u0e2d\\u0e07\\u0e15\\u0e32\\u0e21\\u0e15\\u0e34\\u0e14\\u0e1c\\u0e25\\u0e01\\u0e31\\u0e19\\u0e22\\u0e32\\u0e27\\u0e46\\u0e41\\u0e19\\u0e48\\u0e08\\u0e4a\\u0e30\\n\\n ===================================\\n\\n     \\u201c \\u0e23\\u0e35\\u0e27\\u0e34\\u0e27\\u0e17\\u0e38\\u0e01\\u0e09\\u0e1a\\u0e31\\u0e1a \\u0e44\\u0e21\\u0e48\\u0e40\\u0e2b\\u0e21\\u0e32\\u0e30\\u0e2a\\u0e33\\u0e2b\\u0e23\\u0e31\\u0e1a\\u0e40\\u0e08\\u0e49\\u0e32\\u0e02\\u0e2d\\u0e07\\u0e23\\u0e49\\u0e32\\u0e19\\u0e43\\u0e08\\u0e41\\u0e04\\u0e1a \\u0e2b\\u0e25\\u0e07\\u0e43\\u0e2b\\u0e25 \\u0e2b\\u0e21\\u0e01\\u0e21\\u0e38\\u0e48\\u0e19 \\u0e41\\u0e25\\u0e30\\u0e1c\\u0e39\\u0e49\\u0e17\\u0e35\\u0e48\\u0e44\\u0e21\\u0e48\\u0e23\\u0e39\\u0e49\\u0e08\\u0e31\\u0e01\\u0e1c\\u0e34\\u0e14\\u0e0a\\u0e2d\\u0e1a\\u0e0a\\u0e31\\u0e48\\u0e27\\u0e14\\u0e35\\u0e02\\u0e2d\\u0e07\\u0e15\\u0e19\\u0e40\\u0e2d\\u0e07 \\u0e42\\u0e1b\\u0e23\\u0e14\\u0e2d\\u0e22\\u0e48\\u0e32\\u0e17\\u0e33\\u0e15\\u0e31\\u0e27\\u0e42\\u0e25\\u0e01\\u0e41\\u0e04\\u0e1a \\u0e04\\u0e27\\u0e23\\u0e2b\\u0e31\\u0e14\\u0e40\\u0e1b\\u0e34\\u0e14\\u0e2b\\u0e39\\u0e40\\u0e1b\\u0e34\\u0e14\\u0e15\\u0e32\\u0e40\\u0e1b\\u0e34\\u0e14\\u0e01\\u0e30\\u0e25\\u0e32\\u0e40\\u0e1b\\u0e34\\u0e14\\u0e43\\u0e08\\u0e01\\u0e31\\u0e19\\u0e1a\\u0e49\\u0e32\\u0e07 \\u0e40\\u0e1e\\u0e37\\u0e48\\u0e2d\\u0e01\\u0e32\\u0e23\\u0e1b\\u0e23\\u0e31\\u0e1a\\u0e1b\\u0e23\\u0e38\\u0e07\\u0e43\\u0e19\\u0e17\\u0e38\\u0e01\\u0e46\\u0e14\\u0e49\\u0e32\\u0e19 \\u0e25\\u0e39\\u0e01\\u0e04\\u0e49\\u0e32\\u0e04\\u0e37\\u0e2d\\u0e1e\\u0e23\\u0e30\\u0e40\\u0e08\\u0e49\\u0e32 \\u0e1e\\u0e23\\u0e30\\u0e40\\u0e08\\u0e49\\u0e32\\u0e21\\u0e35\\u0e14\\u0e35 \\u0e21\\u0e35\\u0e07\\u0e35\\u0e48\\u0e40\\u0e07\\u0e48\\u0e32\\u0e1a\\u0e49\\u0e32\\u0e07 \\u0e21\\u0e31\\u0e19\\u0e40\\u0e1b\\u0e47\\u0e19\\u0e40\\u0e23\\u0e37\\u0e48\\u0e2d\\u0e07\\u0e1b\\u0e01\\u0e15\\u0e34 \\u0e41\\u0e15\\u0e48...\\u0e1e\\u0e23\\u0e30\\u0e40\\u0e08\\u0e49\\u0e32\\u0e40\\u0e2d\\u0e32\\u0e15\\u0e31\\u0e07\\u0e21\\u0e32\\u0e43\\u0e2b\\u0e49\\u0e04\\u0e38\\u0e13\\u0e43\\u0e0a\\u0e49 \\u0e44\\u0e21\\u0e48\\u0e44\\u0e14\\u0e49\\u0e02\\u0e2d\\u0e17\\u0e32\\u0e19\\u0e1f\\u0e23\\u0e35\\u0e19\\u0e30\\u0e04\\u0e23\\u0e31\\u0e1a \\u201d\\n\\nJust enjoy it\\u2026!!!  Flamboyant and frank review by GB.\\n\\n\",\n          \"\\u0e23\\u0e49\\u0e32\\u0e19 Buttercup \\u0e23\\u0e49\\u0e32\\u0e19\\u0e01\\u0e32\\u0e41\\u0e1f\\u0e1a\\u0e23\\u0e23\\u0e22\\u0e32\\u0e01\\u0e32\\u0e28\\u0e14\\u0e35\\u0e21\\u0e32\\u0e01\\u0e46 \\u0e2d\\u0e22\\u0e39\\u0e48\\u0e43\\u0e19\\u0e0b\\u0e2d\\u0e22\\u0e28\\u0e39\\u0e19\\u0e22\\u0e4c\\u0e27\\u0e34\\u0e08\\u0e31\\u0e22 \\u0e0a\\u0e31\\u0e49\\u0e19\\u0e25\\u0e48\\u0e32\\u0e07\\u0e02\\u0e2d\\u0e07\\u0e42\\u0e23\\u0e07\\u0e41\\u0e23\\u0e21 Amari Residence \\u0e2a\\u0e32\\u0e21\\u0e32\\u0e23\\u0e16\\u0e08\\u0e2d\\u0e14\\u0e23\\u0e16\\u0e44\\u0e14\\u0e49\\u0e17\\u0e35\\u0e48\\u0e14\\u0e49\\u0e32\\u0e19\\u0e2b\\u0e19\\u0e49\\u0e32\\u0e2b\\u0e23\\u0e37\\u0e2d\\u0e40\\u0e02\\u0e49\\u0e32\\u0e21\\u0e32\\u0e08\\u0e2d\\u0e14\\u0e0a\\u0e31\\u0e49\\u0e19\\u0e08\\u0e2d\\u0e14\\u0e23\\u0e16\\u0e02\\u0e2d\\u0e07\\u0e42\\u0e23\\u0e07\\u0e41\\u0e23\\u0e21\\u0e01\\u0e47\\u0e44\\u0e14\\u0e49\\u0e40\\u0e25\\u0e22\\u0e04\\u0e48\\u0e30 \\u0e23\\u0e49\\u0e32\\u0e19\\u0e15\\u0e01\\u0e41\\u0e15\\u0e48\\u0e07\\u0e2a\\u0e27\\u0e22\\u0e21\\u0e32\\u0e01\\u0e2d\\u0e1a\\u0e2d\\u0e38\\u0e48\\u0e19\\u0e14\\u0e49\\u0e27\\u0e22\\u0e42\\u0e17\\u0e19\\u0e2a\\u0e35\\u0e40\\u0e2b\\u0e25\\u0e37\\u0e2d\\u0e07 \\u0e40\\u0e14\\u0e34\\u0e19\\u0e40\\u0e02\\u0e49\\u0e32\\u0e21\\u0e32\\u0e08\\u0e30\\u0e1e\\u0e1a\\u0e01\\u0e31\\u0e1a\\u0e40\\u0e04\\u0e32\\u0e17\\u0e4c\\u0e40\\u0e15\\u0e2d\\u0e23\\u0e4c\\u0e44\\u0e21\\u0e49\\u0e02\\u0e19\\u0e32\\u0e14\\u0e43\\u0e2b\\u0e0d\\u0e48 \\u0e21\\u0e35\\u0e15\\u0e39\\u0e49\\u0e40\\u0e04\\u0e49\\u0e01\\u0e08\\u0e23\\u0e07\\u0e40\\u0e04\\u0e32\\u0e23\\u0e4c\\u0e40\\u0e15\\u0e2d\\u0e23\\u0e4c\\u0e43\\u0e2b\\u0e49\\u0e40\\u0e25\\u0e37\\u0e2d\\u0e01\\u0e02\\u0e19\\u0e21\\u0e1b\\u0e31\\u0e07\\u0e41\\u0e25\\u0e30\\u0e40\\u0e04\\u0e49\\u0e01 \\u0e42\\u0e15\\u0e4a\\u0e30\\u0e17\\u0e35\\u0e48\\u0e19\\u0e31\\u0e48\\u0e07\\u0e20\\u0e32\\u0e22\\u0e43\\u0e19\\u0e23\\u0e49\\u0e32\\u0e19\\u0e08\\u0e30\\u0e40\\u0e1b\\u0e47\\u0e19\\u0e40\\u0e2b\\u0e21\\u0e37\\u0e2d\\u0e19\\u0e0a\\u0e38\\u0e14\\u0e42\\u0e0b\\u0e1f\\u0e32\\u0e23\\u0e31\\u0e1a\\u0e41\\u0e02\\u0e01\\u0e44\\u0e21\\u0e49\\u0e01\\u0e31\\u0e1a\\u0e1c\\u0e49\\u0e32\\u0e2a\\u0e35\\u0e40\\u0e2b\\u0e25\\u0e37\\u0e2d\\u0e07\\u0e2a\\u0e14\\u0e43\\u0e2a \\u0e01\\u0e32\\u0e23\\u0e08\\u0e31\\u0e14\\u0e27\\u0e32\\u0e07\\u0e42\\u0e15\\u0e4a\\u0e30\\u0e20\\u0e32\\u0e22\\u0e43\\u0e19\\u0e23\\u0e49\\u0e32\\u0e19\\u0e44\\u0e21\\u0e48\\u0e0a\\u0e34\\u0e14\\u0e01\\u0e31\\u0e19\\u0e21\\u0e32\\u0e01 \\u0e17\\u0e33\\u0e43\\u0e2b\\u0e49\\u0e44\\u0e21\\u0e48\\u0e23\\u0e39\\u0e49\\u0e2a\\u0e36\\u0e01\\u0e2d\\u0e36\\u0e14\\u0e2d\\u0e31\\u0e14 \\u0e2b\\u0e23\\u0e37\\u0e2d\\u0e08\\u0e30\\u0e40\\u0e25\\u0e37\\u0e2d\\u0e01\\u0e19\\u0e31\\u0e48\\u0e07\\u0e42\\u0e0b\\u0e19 outdoor \\u0e19\\u0e2d\\u0e01\\u0e23\\u0e49\\u0e32\\u0e19\\u0e0a\\u0e21\\u0e27\\u0e34\\u0e27\\u0e2a\\u0e27\\u0e19\\u0e01\\u0e47\\u0e44\\u0e14\\u0e49\\u0e1a\\u0e23\\u0e23\\u0e22\\u0e32\\u0e01\\u0e32\\u0e28\\u0e44\\u0e1b\\u0e2d\\u0e35\\u0e01\\u0e41\\u0e1a\\u0e1a\\u0e19\\u0e30\\u0e04\\u0e30 \\u0e1e\\u0e19\\u0e31\\u0e01\\u0e07\\u0e32\\u0e19\\u0e1a\\u0e1a\\u0e23\\u0e34\\u0e01\\u0e32\\u0e23\\u0e14\\u0e35\\u0e04\\u0e48\\u0e30\\u0e41\\u0e15\\u0e48\\u0e41\\u0e2d\\u0e23\\u0e4c\\u0e44\\u0e1b\\u0e2b\\u0e19\\u0e48\\u0e2d\\u0e22\"\n        ],\n        \"semantic_type\": \"\",\n        \"description\": \"\"\n      }\n    },\n    {\n      \"column\": \"column1\",\n      \"properties\": {\n        \"dtype\": \"number\",\n        \"std\": 0,\n        \"min\": 1,\n        \"max\": 5,\n        \"num_unique_values\": 5,\n        \"samples\": [\n          4,\n          2,\n          5\n        ],\n        \"semantic_type\": \"\",\n        \"description\": \"\"\n      }\n    }\n  ]\n}"
            }
          },
          "metadata": {},
          "execution_count": 15
        }
      ],
      "source": [
        "coffee_reviews_df.head()"
      ]
    },
    {
      "cell_type": "code",
      "execution_count": 16,
      "metadata": {
        "colab": {
          "base_uri": "https://localhost:8080/"
        },
        "id": "7v8HAPBIWAPD",
        "outputId": "eba5add9-82f7-4fc3-f5a8-940e39b724fa"
      },
      "outputs": [
        {
          "output_type": "execute_result",
          "data": {
            "text/plain": [
              "(4981, 2)"
            ]
          },
          "metadata": {},
          "execution_count": 16
        }
      ],
      "source": [
        "coffee_reviews_df.shape"
      ]
    },
    {
      "cell_type": "code",
      "execution_count": 17,
      "metadata": {
        "colab": {
          "base_uri": "https://localhost:8080/"
        },
        "id": "FnhIXDsZWBuW",
        "outputId": "14f65834-f8bc-41b1-9858-bdcd132436d3"
      },
      "outputs": [
        {
          "output_type": "stream",
          "name": "stdout",
          "text": [
            ">>> Cleaning up old version at /usr/local/lib/ollama\n",
            ">>> Installing ollama to /usr/local\n",
            ">>> Downloading Linux amd64 bundle\n",
            "######################################################################## 100.0%\n",
            ">>> Adding ollama user to video group...\n",
            ">>> Adding current user to ollama group...\n",
            ">>> Creating ollama systemd service...\n",
            "\u001b[1m\u001b[31mWARNING:\u001b[m systemd is not running\n",
            "\u001b[1m\u001b[31mWARNING:\u001b[m Unable to detect NVIDIA/AMD GPU. Install lspci or lshw to automatically detect and install GPU dependencies.\n",
            ">>> The Ollama API is now available at 127.0.0.1:11434.\n",
            ">>> Install complete. Run \"ollama\" from the command line.\n"
          ]
        }
      ],
      "source": [
        "!curl -fsSL https://ollama.com/install.sh | sh"
      ]
    },
    {
      "cell_type": "code",
      "execution_count": 18,
      "metadata": {
        "id": "4dj5ZdrIWESd",
        "colab": {
          "base_uri": "https://localhost:8080/"
        },
        "outputId": "8c037969-e512-42c0-d897-113c0991b40e"
      },
      "outputs": [
        {
          "output_type": "stream",
          "name": "stdout",
          "text": [
            "nohup: appending output to 'nohup.out'\n"
          ]
        }
      ],
      "source": [
        "!nohup ollama serve &"
      ]
    },
    {
      "cell_type": "code",
      "source": [
        "!ollama pull gemma3:270m"
      ],
      "metadata": {
        "colab": {
          "base_uri": "https://localhost:8080/"
        },
        "id": "9Ed9QxdTWZ-e",
        "outputId": "55fed162-9753-4fd6-b16d-18781f712742"
      },
      "execution_count": 19,
      "outputs": [
        {
          "output_type": "stream",
          "name": "stdout",
          "text": [
            "\u001b[?2026h\u001b[?25l\u001b[1G\u001b[?25h\u001b[?2026l\u001b[?2026h\u001b[?25l\u001b[1G\u001b[?25h\u001b[?2026l\u001b[?2026h\u001b[?25l\u001b[1G\u001b[?25h\u001b[?2026l\u001b[?2026h\u001b[?25l\u001b[1G\u001b[?25h\u001b[?2026l\u001b[?2026h\u001b[?25l\u001b[1G\u001b[?25h\u001b[?2026l\n"
          ]
        }
      ]
    },
    {
      "cell_type": "code",
      "source": [
        "!ollama list"
      ],
      "metadata": {
        "colab": {
          "base_uri": "https://localhost:8080/"
        },
        "id": "YfudUocNWbsC",
        "outputId": "3c90b8d6-b5e4-44bb-f12f-4111113426d2"
      },
      "execution_count": 20,
      "outputs": [
        {
          "output_type": "stream",
          "name": "stdout",
          "text": [
            "NAME           ID              SIZE      MODIFIED     \n",
            "gemma3:270m    e7d36fb2c3b3    291 MB    1 second ago    \n"
          ]
        }
      ]
    },
    {
      "cell_type": "code",
      "source": [
        "!ollama run gemma3:270m \"สวัสดี\""
      ],
      "metadata": {
        "colab": {
          "base_uri": "https://localhost:8080/"
        },
        "id": "nn6vrFAjWfeA",
        "outputId": "4e2bc9c1-b13b-4084-ca45-adcda23fe55a"
      },
      "execution_count": 21,
      "outputs": [
        {
          "output_type": "stream",
          "name": "stdout",
          "text": [
            "\u001b[?2026h\u001b[?25l\u001b[1G\u001b[?25h\u001b[?2026l\u001b[?2026h\u001b[?25l\u001b[1G\u001b[?25h\u001b[?2026l\u001b[?2026h\u001b[?25l\u001b[1G\u001b[?25h\u001b[?2026l\u001b[?2026h\u001b[?25l\u001b[1G\u001b[?25h\u001b[?2026l\u001b[?2026h\u001b[?25l\u001b[1G\u001b[?25h\u001b[?2026l\u001b[?2026h\u001b[?25l\u001b[1G\u001b[?25h\u001b[?2026l\u001b[?2026h\u001b[?25l\u001b[1G\u001b[?25h\u001b[?2026l\u001b[?2026h\u001b[?25l\u001b[1G\u001b[?25h\u001b[?2026l\u001b[?2026h\u001b[?25l\u001b[1G\u001b[?25h\u001b[?2026l\u001b[?2026h\u001b[?25l\u001b[1G\u001b[?25h\u001b[?2026l\u001b[?2026h\u001b[?25l\u001b[1G\u001b[?25h\u001b[?2026l\u001b[?2026h\u001b[?25l\u001b[1G\u001b[?25h\u001b[?2026l\u001b[?2026h\u001b[?25l\u001b[1G\u001b[?25h\u001b[?2026l\u001b[?2026h\u001b[?25l\u001b[1G\u001b[?25h\u001b[?2026l\u001b[?2026h\u001b[?25l\u001b[1G\u001b[?25h\u001b[?2026l\u001b[?2026h\u001b[?25l\u001b[1G\u001b[?25h\u001b[?2026l\u001b[?2026h\u001b[?25l\u001b[1G\u001b[?25h\u001b[?2026l\u001b[?2026h\u001b[?25l\u001b[1G\u001b[?25h\u001b[?2026l\u001b[?2026h\u001b[?25l\u001b[1G\u001b[?25h\u001b[?2026l\u001b[?2026h\u001b[?25l\u001b[1G\u001b[?25h\u001b[?2026l\u001b[?2026h\u001b[?25l\u001b[1G\u001b[?25h\u001b[?2026l\u001b[?2026h\u001b[?25l\u001b[1G\u001b[?25h\u001b[?2026l\u001b[?2026h\u001b[?25l\u001b[1G\u001b[?25h\u001b[?2026l\u001b[?2026h\u001b[?25l\u001b[1G\u001b[?25h\u001b[?2026l\u001b[?2026h\u001b[?25l\u001b[1G\u001b[?25h\u001b[?2026l\u001b[?2026h\u001b[?25l\u001b[1G\u001b[?25h\u001b[?2026l\u001b[?2026h\u001b[?25l\u001b[1G\u001b[?25h\u001b[?2026l\u001b[?2026h\u001b[?25l\u001b[1G\u001b[?25h\u001b[?2026l\u001b[?25l\u001b[?2026h\u001b[?25l\u001b[1G\u001b[?25h\u001b[?2026l\u001b[2K\u001b[1G\u001b[?25hสวัสดี\u001b[?25l\u001b[?25hค่ะ\u001b[?25l\u001b[?25h 😊\u001b[?25l\u001b[?25h\n",
            "\n",
            "\u001b[?25l\u001b[?25h"
          ]
        }
      ]
    },
    {
      "cell_type": "code",
      "source": [
        "!curl -s http://127.0.0.1:11434/api/tags\n"
      ],
      "metadata": {
        "colab": {
          "base_uri": "https://localhost:8080/"
        },
        "id": "8nH7PNpRWhHq",
        "outputId": "aeb6e685-0c76-4e54-a684-93a60346b70d"
      },
      "execution_count": 22,
      "outputs": [
        {
          "output_type": "stream",
          "name": "stdout",
          "text": [
            "{\"models\":[{\"name\":\"gemma3:270m\",\"model\":\"gemma3:270m\",\"modified_at\":\"2025-10-19T14:23:08.244975229Z\",\"size\":291554930,\"digest\":\"e7d36fb2c3b3293cfe56d55889867a064b3a2b22e98335f2e6e8a387e081d6be\",\"details\":{\"parent_model\":\"\",\"format\":\"gguf\",\"family\":\"gemma3\",\"families\":[\"gemma3\"],\"parameter_size\":\"268.10M\",\"quantization_level\":\"Q8_0\"}}]}"
          ]
        }
      ]
    },
    {
      "cell_type": "code",
      "source": [
        "from langchain_ollama import OllamaLLM\n",
        "from langchain_core.prompts import PromptTemplate\n",
        "from langchain_core.output_parsers import StrOutputParser"
      ],
      "metadata": {
        "id": "6MfD-zc3Wjiw"
      },
      "execution_count": 23,
      "outputs": []
    },
    {
      "cell_type": "code",
      "source": [
        "llm = OllamaLLM(model=\"gemma3:270m\")"
      ],
      "metadata": {
        "id": "TeqXvJcUXJNv"
      },
      "execution_count": 24,
      "outputs": []
    },
    {
      "cell_type": "code",
      "source": [
        "response = llm.invoke(\"สวัสดี\")\n",
        "print(response)"
      ],
      "metadata": {
        "colab": {
          "base_uri": "https://localhost:8080/"
        },
        "id": "GXNgzf3_X2Ep",
        "outputId": "4ef24235-0845-4096-874f-397d1b8f4e7f"
      },
      "execution_count": 25,
      "outputs": [
        {
          "output_type": "stream",
          "name": "stdout",
          "text": [
            "สวัสดีค่ะ 😊\n"
          ]
        }
      ]
    },
    {
      "cell_type": "code",
      "source": [
        "template = \"\"\"\n",
        "คุณเป็นครูสอน Python\n",
        "คำถาม : {question}\n",
        "\"\"\""
      ],
      "metadata": {
        "id": "QSFN1JDXX4Xe"
      },
      "execution_count": 26,
      "outputs": []
    },
    {
      "cell_type": "code",
      "source": [
        "prompt = PromptTemplate(\n",
        "    input_variables=[\"question\"],\n",
        "    template=template\n",
        ")"
      ],
      "metadata": {
        "id": "cMwHx6uMX7wp"
      },
      "execution_count": 27,
      "outputs": []
    },
    {
      "cell_type": "code",
      "source": [
        "formatted_prompt = prompt.format(question=\"เขียนโค้ดหาผลรวมของตัวเลข 1 ถึง 10\")\n",
        "print(formatted_prompt)"
      ],
      "metadata": {
        "colab": {
          "base_uri": "https://localhost:8080/"
        },
        "id": "F4iEJBBFX-2y",
        "outputId": "c482219a-843b-48ec-80ed-7e9ed0786acd"
      },
      "execution_count": 28,
      "outputs": [
        {
          "output_type": "stream",
          "name": "stdout",
          "text": [
            "\n",
            "คุณเป็นครูสอน Python\n",
            "คำถาม : เขียนโค้ดหาผลรวมของตัวเลข 1 ถึง 10\n",
            "\n"
          ]
        }
      ]
    },
    {
      "cell_type": "code",
      "source": [
        "chain = prompt | llm"
      ],
      "metadata": {
        "id": "XNf0j_DdYASm"
      },
      "execution_count": 29,
      "outputs": []
    },
    {
      "cell_type": "code",
      "source": [
        "response = chain.invoke({\"question\": \"เขียนโค้ดหาผลรวมของตัวเลข 1 ถึง 10\"})"
      ],
      "metadata": {
        "id": "ZIytWS8yYCLZ"
      },
      "execution_count": 30,
      "outputs": []
    },
    {
      "cell_type": "code",
      "source": [
        "response"
      ],
      "metadata": {
        "colab": {
          "base_uri": "https://localhost:8080/",
          "height": 105
        },
        "id": "FZYTR2pXYDeB",
        "outputId": "5805879e-605d-470f-aac3-1759f3cbc12b"
      },
      "execution_count": 31,
      "outputs": [
        {
          "output_type": "execute_result",
          "data": {
            "text/plain": [
              "'```python\\ndef find_sum_of_numbers(numbers):\\n  \"\"\"\\n  หาผลรวมของตัวเลข 1 ถึง 10\\n  \"\"\"\\n  total = 0\\n  for number in numbers:\\n    total += number\\n  return total\\n\\n# ตัวอย่างการใช้งาน\\nnumbers = [1, 2, 3, 4, 5, 6, 7, 8, 9, 10]\\nresult = find_sum_of_numbers(numbers)\\nprint(result)\\n```\\n\\nโค้ดนี้มีหลายวิธีในการหาผลรวมของตัวเลข:\\n\\n* **ใช้ `sum()` function:**  `sum()` function เป็นวิธีที่ง่ายและอ่านง่ายที่สุดในการคำนวณผลรวมของตัวเลขใน Python.\\n* **ใช้ `range()` function:** `range()` function สามารถใช้เพื่อสร้าง iterable ที่มีขนาดใหญ่ (เช่น list) และใช้ `sum()` function เพื่อคำนวณผลรวมของตัวเลขใน iterable นั้น\\n* **ใช้ `filter()` function:** `filter()` function สามารถใช้เพื่อสร้าง iterable ที่มีขนาดใหญ่และใช้ `sum()` function เพื่อคำนวณผลรวมของตัวเลขใน iterable นั้น\\n* **ใช้ `reduce()` function:** `reduce()` function สามารถใช้เพื่อสร้าง iterable ที่มีขนาดใหญ่และใช้ `sum()` function เพื่อคำนวณผลรวมของตัวเลขใน iterable นั้น\\n\\nเลือกวิธีที่เหมาะสมที่สุดขึ้นอยู่กับความเหมาะสมของโปรเจคที่คุณกำลังทำอยู่ และความสะดวกในการเขียนโค้ดของคุณ\\n\\n'"
            ],
            "application/vnd.google.colaboratory.intrinsic+json": {
              "type": "string"
            }
          },
          "metadata": {},
          "execution_count": 31
        }
      ]
    },
    {
      "cell_type": "code",
      "source": [
        "from IPython.display import display, Markdown"
      ],
      "metadata": {
        "id": "PP8peIrMYGJl"
      },
      "execution_count": 32,
      "outputs": []
    },
    {
      "cell_type": "code",
      "source": [
        "display(Markdown(response))"
      ],
      "metadata": {
        "colab": {
          "base_uri": "https://localhost:8080/",
          "height": 371
        },
        "id": "G2yin6miYHsf",
        "outputId": "7bc244f6-c207-400d-a3da-670c5806d8e9"
      },
      "execution_count": 33,
      "outputs": [
        {
          "output_type": "display_data",
          "data": {
            "text/plain": [
              "<IPython.core.display.Markdown object>"
            ],
            "text/markdown": "```python\ndef find_sum_of_numbers(numbers):\n  \"\"\"\n  หาผลรวมของตัวเลข 1 ถึง 10\n  \"\"\"\n  total = 0\n  for number in numbers:\n    total += number\n  return total\n\n# ตัวอย่างการใช้งาน\nnumbers = [1, 2, 3, 4, 5, 6, 7, 8, 9, 10]\nresult = find_sum_of_numbers(numbers)\nprint(result)\n```\n\nโค้ดนี้มีหลายวิธีในการหาผลรวมของตัวเลข:\n\n* **ใช้ `sum()` function:**  `sum()` function เป็นวิธีที่ง่ายและอ่านง่ายที่สุดในการคำนวณผลรวมของตัวเลขใน Python.\n* **ใช้ `range()` function:** `range()` function สามารถใช้เพื่อสร้าง iterable ที่มีขนาดใหญ่ (เช่น list) และใช้ `sum()` function เพื่อคำนวณผลรวมของตัวเลขใน iterable นั้น\n* **ใช้ `filter()` function:** `filter()` function สามารถใช้เพื่อสร้าง iterable ที่มีขนาดใหญ่และใช้ `sum()` function เพื่อคำนวณผลรวมของตัวเลขใน iterable นั้น\n* **ใช้ `reduce()` function:** `reduce()` function สามารถใช้เพื่อสร้าง iterable ที่มีขนาดใหญ่และใช้ `sum()` function เพื่อคำนวณผลรวมของตัวเลขใน iterable นั้น\n\nเลือกวิธีที่เหมาะสมที่สุดขึ้นอยู่กับความเหมาะสมของโปรเจคที่คุณกำลังทำอยู่ และความสะดวกในการเขียนโค้ดของคุณ\n\n"
          },
          "metadata": {}
        }
      ]
    },
    {
      "cell_type": "code",
      "source": [
        "prompt1 = PromptTemplate(\n",
        "    template=\"แปลโจทย์เกี่ยวกับ {question}\"\n",
        ")\n",
        "\n",
        "chain1 = prompt1 | llm"
      ],
      "metadata": {
        "id": "QBPOSS9_YI5p"
      },
      "execution_count": 34,
      "outputs": []
    },
    {
      "cell_type": "code",
      "source": [
        "prompt2 = PromptTemplate(\n",
        "    template=\"ทำความเข้าใจโจทย์ที่แปลแล้วต่อไปนี้ {translate}\"\n",
        ")\n",
        "\n",
        "chain2 = prompt2 | llm"
      ],
      "metadata": {
        "id": "igNcbkT2YLFp"
      },
      "execution_count": 35,
      "outputs": []
    },
    {
      "cell_type": "code",
      "source": [
        "prompt3 = PromptTemplate(\n",
        "    template=\"แก้โจทย์ตามที่เข้าใจต่อไปนี้ {understand}\"\n",
        ")\n",
        "\n",
        "chain3 = prompt3 | llm"
      ],
      "metadata": {
        "id": "LdfG5BwfYMzg"
      },
      "execution_count": 36,
      "outputs": []
    },
    {
      "cell_type": "code",
      "source": [
        "prompt4 = PromptTemplate(\n",
        "    template=\"อธิบายวิธิีทำจากผลลัทธ์ต่อไปนี้ {solve}\"\n",
        ")\n",
        "\n",
        "chain4 = prompt4 | llm"
      ],
      "metadata": {
        "id": "GTzxzONwYOIX"
      },
      "execution_count": 37,
      "outputs": []
    },
    {
      "cell_type": "code",
      "source": [
        "parser_chain = StrOutputParser()"
      ],
      "metadata": {
        "id": "ymEPeYIKYPYI"
      },
      "execution_count": 38,
      "outputs": []
    },
    {
      "cell_type": "code",
      "source": [
        "full_chain = chain1 | chain2 | chain3 | chain4 | parser_chain"
      ],
      "metadata": {
        "id": "ZgLPOdeDYQ5v"
      },
      "execution_count": 39,
      "outputs": []
    },
    {
      "cell_type": "code",
      "source": [
        "result = full_chain.invoke({\"question\":\"2x + 5 = 15\"})"
      ],
      "metadata": {
        "id": "0Y9h0qBZYSSx"
      },
      "execution_count": 40,
      "outputs": []
    },
    {
      "cell_type": "code",
      "source": [
        "result"
      ],
      "metadata": {
        "colab": {
          "base_uri": "https://localhost:8080/",
          "height": 53
        },
        "id": "tzmtgoHrYTn3",
        "outputId": "0803eb48-9c76-4c0b-8cbc-7947f42f2a1c"
      },
      "execution_count": 41,
      "outputs": [
        {
          "output_type": "execute_result",
          "data": {
            "text/plain": [
              "'ถูกต้องแล้วครับ การทำจากผลลัทธ์ที่เข้าใจมาคือการใช้ผลลัทธ์ที่ได้จากการหารด้วย 2 เพื่อหาค่า x ที่ทำให้ได้ผลลัพธ์ที่ถูกต้อง\\n\\n**ทำจากผลลัทธ์ที่เข้าใจมา:**\\n\\n*   **ผลลัทธ์ที่เข้าใจ:** ผลลัทธ์ที่ได้จากการหารด้วย 2 คือ  2x + 5 = 15\\n*   **วิธีแก้:**  เราจะหารด้วย 2  โดยใช้ผลลัทธ์ที่ได้จากการหารด้วย 2  เพื่อหาค่า x ที่ทำให้ได้ผลลัพธ์ที่ถูกต้อง\\n\\n**สรุป:**\\n\\nการทำจากผลลัทธ์ที่เข้าใจมาคือการใช้ผลลัทธ์ที่ได้จากการหารด้วย 2 เพื่อหาค่า x ที่ทำให้ได้ผลลัพธ์ที่ถูกต้อง'"
            ],
            "application/vnd.google.colaboratory.intrinsic+json": {
              "type": "string"
            }
          },
          "metadata": {},
          "execution_count": 41
        }
      ]
    },
    {
      "cell_type": "code",
      "source": [
        "prompt_template = \"\"\"\n",
        "[1. Role/Context บอก LLM ว่าควรทำตัวเป็นอะไร]\n",
        "คุณเป็น AI ที่เชี่ยวชาญในการวิเคราะห์รีวิวภาษาไทย\n",
        "\n",
        "[2. Task Description บอกงานที่ต้องทำ]\n",
        "จาก Review ต่อไปนี้ ให้ Extract 3 keywords\n",
        "ที่เป็นตัวแทนของ Review นี้ได้ดีที่สุด\n",
        "\n",
        "[3. Input Data ข้อมูลที่ต้องประมวลผล]\n",
        "Review: {review}\n",
        "\n",
        "[4. Output Format บอกรูปแบบของคำตอบ]\n",
        "ตอบในรูปแบบ JSON โดยมีคีย์เป็น 'keywords'\n",
        "เช่น {{\"keywords\": \"กาแฟ, บรรยากาศ, ราคา\"}\n",
        "\n",
        "[5. Constraints ข้อจำกัดหรือเงื่อนไข]\n",
        "- ต้องเป็นคำภาษาไทย\n",
        "- คั่นด้วย comma\n",
        "- หากไม่พบให้ตอบ 'ไม่ระบุ'\n",
        "\n",
        "[6. Examples (optional) ตัวอย่าง input/output]\n",
        "ตัวอย่าง\n",
        "Input: \"กาแฟอร่อย บรรยากาศดี ราคาแพง\"\n",
        "Output: {\"keywords\": \"กาแฟ, บรรยากาศ, ราคา\"}\n",
        "\"\"\""
      ],
      "metadata": {
        "id": "aUsnJzrjYVRG"
      },
      "execution_count": 42,
      "outputs": []
    },
    {
      "cell_type": "code",
      "source": [
        "prompt = \"\"\"\n",
        "Extract keywords from this review\n",
        "{review}\n",
        "\"\"\"\n",
        "\n",
        "# Pros Simple, fast\n",
        "# Cons อาจได้ผลไม่ดีกับ Tasks ซับซ้อน"
      ],
      "metadata": {
        "id": "DJxT8G_PYa7c"
      },
      "execution_count": 43,
      "outputs": []
    },
    {
      "cell_type": "code",
      "source": [
        "prompt = \"\"\"\n",
        "Extract keywords from reviews.\n",
        "\n",
        "Example 1\n",
        "Review: \"กาแฟอร่อย บริการดี\"\n",
        "Keywords: กาแฟ, บริการ\n",
        "\n",
        "Example 2\n",
        "Review: \"ราคาแพง แต่คุ้มค่า\"\n",
        "Keywords: ราคา, คุณภาพ\n",
        "\n",
        "Now extract from this review\n",
        "Review: {review}\n",
        "Keywords:\n",
        "\"\"\"\n",
        "\n",
        "# Pros ได้ผลดีกว่า Zero-shot\n",
        "# Cons Prompt ใช้ Tokens มากขึ้น"
      ],
      "metadata": {
        "id": "LwgjPY6NYhZp"
      },
      "execution_count": 44,
      "outputs": []
    },
    {
      "cell_type": "code",
      "source": [
        "prompt = \"\"\"\n",
        "Review: {review}\n",
        "\n",
        "ขั้นตอนการ Extract keywords\n",
        "1. อ่านรีวิวและเข้าใจความหมาย\n",
        "2. ระบุหัวข้อหลักที่กล่าวถึง\n",
        "3. เลือก 3 keywords ที่สำคัญที่สุด\n",
        "4. ตอบในรูปแบบ JSON: {{\"keywords\": \"คำ1, คำ2, คำ3\"}}\n",
        "\n",
        "ให้ทำทีละขั้นตอน\n",
        "\"\"\"\n",
        "\n",
        "# Pros ได้ผลดีกับ Reasoning tasks\n",
        "# Cons ใช้ Tokens มากกว่า ช้ากว่า"
      ],
      "metadata": {
        "id": "_uebAeoMYjCQ"
      },
      "execution_count": 45,
      "outputs": []
    },
    {
      "cell_type": "code",
      "source": [
        "keyword_prompt = PromptTemplate(\n",
        "template = \"\"\"\n",
        "จาก Review ต่อไปนี้\n",
        "Extract 3 keywords ที่เป็นตัวแทนของ Review นี้\n",
        "\n",
        "Review: {review}\n",
        "\n",
        "ขั้นตอนการ Extract keywords\n",
        "1. อ่านรีวิวและเข้าใจความหมาย\n",
        "2. ระบุหัวข้อหลักที่กล่าวถึง\n",
        "3. เลือก 3 keywords ที่สำคัญที่สุด\n",
        "4. ตอบในรูปแบบ JSON: {{\"keywords\": \"คำ1, คำ2, คำ3\"}}\n",
        "\n",
        "ให้ทำทีละขั้นตอน\n",
        "\"\"\")"
      ],
      "metadata": {
        "id": "4OSibdsDYk76"
      },
      "execution_count": 46,
      "outputs": []
    },
    {
      "cell_type": "code",
      "source": [
        "sample_reviews = coffee_reviews_df['column0'].head(2)\n",
        "sample_reviews"
      ],
      "metadata": {
        "colab": {
          "base_uri": "https://localhost:8080/",
          "height": 147
        },
        "id": "D1NAu1GwYmnw",
        "outputId": "309be5e7-e73c-42d7-8218-e1079eecc787"
      },
      "execution_count": 47,
      "outputs": [
        {
          "output_type": "execute_result",
          "data": {
            "text/plain": [
              "0    ร้านอาหารใหญ่มากกกกกกก \\nเลี้ยวเข้ามาเจอห้องน้...\n",
              "1    วันนี้ได้มีโอกาสไปนั่งซดกาแฟที่ร้านวาวี แถวๆอา...\n",
              "Name: column0, dtype: object"
            ],
            "text/html": [
              "<div>\n",
              "<style scoped>\n",
              "    .dataframe tbody tr th:only-of-type {\n",
              "        vertical-align: middle;\n",
              "    }\n",
              "\n",
              "    .dataframe tbody tr th {\n",
              "        vertical-align: top;\n",
              "    }\n",
              "\n",
              "    .dataframe thead th {\n",
              "        text-align: right;\n",
              "    }\n",
              "</style>\n",
              "<table border=\"1\" class=\"dataframe\">\n",
              "  <thead>\n",
              "    <tr style=\"text-align: right;\">\n",
              "      <th></th>\n",
              "      <th>column0</th>\n",
              "    </tr>\n",
              "  </thead>\n",
              "  <tbody>\n",
              "    <tr>\n",
              "      <th>0</th>\n",
              "      <td>ร้านอาหารใหญ่มากกกกกกก \\nเลี้ยวเข้ามาเจอห้องน้...</td>\n",
              "    </tr>\n",
              "    <tr>\n",
              "      <th>1</th>\n",
              "      <td>วันนี้ได้มีโอกาสไปนั่งซดกาแฟที่ร้านวาวี แถวๆอา...</td>\n",
              "    </tr>\n",
              "  </tbody>\n",
              "</table>\n",
              "</div><br><label><b>dtype:</b> object</label>"
            ]
          },
          "metadata": {},
          "execution_count": 47
        }
      ]
    },
    {
      "cell_type": "code",
      "source": [
        "sample_reviews.to_csv('/content/drive/MyDrive/DST/review_dataset/sample_reviews.csv', index=False)"
      ],
      "metadata": {
        "id": "C6LHz6MNYoWn"
      },
      "execution_count": 48,
      "outputs": []
    },
    {
      "cell_type": "code",
      "source": [
        "keyword_extract = keyword_prompt | llm | StrOutputParser()"
      ],
      "metadata": {
        "id": "NqFASZgvYxqv"
      },
      "execution_count": 49,
      "outputs": []
    },
    {
      "cell_type": "code",
      "source": [
        "%%time\n",
        "results = []\n",
        "for review in sample_reviews:\n",
        "    text = keyword_extract.invoke({\"review\": review})\n",
        "    cleaned = (text).replace(\"**\", \"\").strip()\n",
        "    results.append({\"review\": review, \"text\": cleaned})"
      ],
      "metadata": {
        "colab": {
          "base_uri": "https://localhost:8080/"
        },
        "id": "Dn5oJPrqY4wD",
        "outputId": "59b7f1f0-a737-4a50-9dca-d5fcdc0744c4"
      },
      "execution_count": 50,
      "outputs": [
        {
          "output_type": "stream",
          "name": "stdout",
          "text": [
            "CPU times: user 91.9 ms, sys: 8.61 ms, total: 100 ms\n",
            "Wall time: 14.2 s\n"
          ]
        }
      ]
    },
    {
      "cell_type": "code",
      "source": [
        "for result in results:\n",
        "    print(f\"Review {result['review'][:100]}...\")\n",
        "    print(f\"text {result['text']}\\n\")"
      ],
      "metadata": {
        "colab": {
          "base_uri": "https://localhost:8080/"
        },
        "id": "jNq81GV7Y6gY",
        "outputId": "d14fdb08-31e3-4c6f-8c74-3efb50517f54"
      },
      "execution_count": 51,
      "outputs": [
        {
          "output_type": "stream",
          "name": "stdout",
          "text": [
            "Review ร้านอาหารใหญ่มากกกกกกก \n",
            "เลี้ยวเข้ามาเจอห้องน้ำก่อนเลย เออแปลกดี \n",
            "ห้องทานหลักๆอยู่ชั้น 2 มีกาแฟ น้ำผึ...\n",
            "text ```json\n",
            "{\"keywords\": [\"ร้านอาหารใหญ่\", \"ห้องน้ำ\", \"กาแฟ\", \"น้ำผึ้ง\", \"น้ำผึ้ง\", \"ลาบไข่ต้ม\", \"ไข่มัน\", \"ขนมไทย\", \"ขนมหวาน\", \"ฟรี\", \"ราคา\", \"เกินไป\", \"รับไม่ไหว\", \"ร้านอาหาร\", \"เลิกกิน\", \"ขนมหวาน\", \"ขนมไทย\", \"ความอร่อย\", \"เบิ้ล\", \"ความแพง\", \"ราคา\", \"กินไม่ไหว\", \"ขนม\", \"ไทย\", \"การกิน\", \"ขั้นตอนการ Extract keywords\"}\n",
            "}\n",
            "```\n",
            "\n",
            "Review วันนี้ได้มีโอกาสไปนั่งซดกาแฟที่ร้านวาวี แถวๆอารีย์\n",
            "\n",
            "ก็ได้ยินมาบ่อยๆละ จากหลายที่ แต่ที่บ่อยสุดก็จาก ...\n",
            "text ```json\n",
            "{\n",
            "    \"keywords\": [\n",
            "        \"ลาเต้\",\n",
            "        \"ร้อน\",\n",
            "        \"แก้วนึง\",\n",
            "        \"ร้อน\",\n",
            "        \"วางอยู่ข้างหน้า\",\n",
            "        \"เล่นลายฟองนม\",\n",
            "        \"เว้ยยย\",\n",
            "        \"ซากอารยธรรมลาเต้\",\n",
            "        \"เมพพพพ\",\n",
            "        \"แหล่มไม่แพ้กัน\",\n",
            "        \"หอม\",\n",
            "        \"ถ่ายรูปมาให้ดู\",\n",
            "        \"เหลือแต่ซากอารยธรรมลาเต้\",\n",
            "        \"รสชาติ 1\",\n",
            "        \"2\",\n",
            "        \"ชำเลืองตามองลงไป\",\n",
            "        \"โอ้วว\",\n",
            "        \"ที่นี่มีเล่นลายฟองนม\",\n",
            "        \"เว้ยยย\",\n",
            "        \"แต่พอดีด้วยความตะกละไปนิดดันฉีกน้ำตาลเทใส่แล้วเผลอคนก็ไม่ได้\",\n",
            "        \"ถ่ายรูปมาให้ดู\",\n",
            "        \"55+\",\n",
            "        \"ซากอารยธรรมลาเต้\",\n",
            "        \"เมพพพพ\",\n",
            "        \"แหล่มไม่แพ้กัน\",\n",
            "        \"กินบ่อยก็จุกได้\"\n",
            "    ]\n",
            "}\n",
            "```\n",
            "\n"
          ]
        }
      ]
    },
    {
      "cell_type": "code",
      "source": [
        "!ollama pull scb10x/typhoon2.1-gemma3-4b"
      ],
      "metadata": {
        "colab": {
          "base_uri": "https://localhost:8080/"
        },
        "id": "agLLNnBXY8Z_",
        "outputId": "673098c7-4ece-4e5b-fc80-0c4ffc67474f"
      },
      "execution_count": 52,
      "outputs": [
        {
          "output_type": "stream",
          "name": "stdout",
          "text": [
            "\u001b[?2026h\u001b[?25l\u001b[1G\u001b[?25h\u001b[?2026l\u001b[?2026h\u001b[?25l\u001b[1G\u001b[?25h\u001b[?2026l\u001b[?2026h\u001b[?25l\u001b[1G\u001b[?25h\u001b[?2026l\u001b[?2026h\u001b[?25l\u001b[1G\u001b[?25h\u001b[?2026l\u001b[?2026h\u001b[?25l\u001b[1G\u001b[?25h\u001b[?2026l\u001b[?2026h\u001b[?25l\u001b[1G\u001b[?25h\u001b[?2026l\u001b[?2026h\u001b[?25l\u001b[1G\u001b[?25h\u001b[?2026l\u001b[?2026h\u001b[?25l\u001b[1G\u001b[?25h\u001b[?2026l\u001b[?2026h\u001b[?25l\u001b[A\u001b[1G\u001b[?25h\u001b[?2026l\u001b[?2026h\u001b[?25l\u001b[A\u001b[1G\u001b[?25h\u001b[?2026l\u001b[?2026h\u001b[?25l\u001b[A\u001b[1G\u001b[?25h\u001b[?2026l\u001b[?2026h\u001b[?25l\u001b[A\u001b[1G\u001b[?25h\u001b[?2026l\u001b[?2026h\u001b[?25l\u001b[A\u001b[1G\u001b[?25h\u001b[?2026l\u001b[?2026h\u001b[?25l\u001b[A\u001b[1G\u001b[?25h\u001b[?2026l\u001b[?2026h\u001b[?25l\u001b[A\u001b[1G\u001b[?25h\u001b[?2026l\u001b[?2026h\u001b[?25l\u001b[A\u001b[1G\u001b[?25h\u001b[?2026l\u001b[?2026h\u001b[?25l\u001b[A\u001b[1G\u001b[?25h\u001b[?2026l\u001b[?2026h\u001b[?25l\u001b[A\u001b[1G\u001b[?25h\u001b[?2026l\u001b[?2026h\u001b[?25l\u001b[A\u001b[1G\u001b[?25h\u001b[?2026l\u001b[?2026h\u001b[?25l\u001b[A\u001b[1G\u001b[?25h\u001b[?2026l\u001b[?2026h\u001b[?25l\u001b[A\u001b[1G\u001b[?25h\u001b[?2026l\u001b[?2026h\u001b[?25l\u001b[A\u001b[1G\u001b[?25h\u001b[?2026l\u001b[?2026h\u001b[?25l\u001b[A\u001b[1G\u001b[?25h\u001b[?2026l\u001b[?2026h\u001b[?25l\u001b[A\u001b[1G\u001b[?25h\u001b[?2026l\u001b[?2026h\u001b[?25l\u001b[A\u001b[1G\u001b[?25h\u001b[?2026l\u001b[?2026h\u001b[?25l\u001b[A\u001b[1G\u001b[?25h\u001b[?2026l\u001b[?2026h\u001b[?25l\u001b[A\u001b[1G\u001b[?25h\u001b[?2026l\u001b[?2026h\u001b[?25l\u001b[A\u001b[1G\u001b[?25h\u001b[?2026l\u001b[?2026h\u001b[?25l\u001b[A\u001b[1G\u001b[?25h\u001b[?2026l\u001b[?2026h\u001b[?25l\u001b[A\u001b[1G\u001b[?25h\u001b[?2026l\u001b[?2026h\u001b[?25l\u001b[A\u001b[1G\u001b[?25h\u001b[?2026l\u001b[?2026h\u001b[?25l\u001b[A\u001b[1G\u001b[?25h\u001b[?2026l\u001b[?2026h\u001b[?25l\u001b[A\u001b[1G\u001b[?25h\u001b[?2026l\u001b[?2026h\u001b[?25l\u001b[A\u001b[1G\u001b[?25h\u001b[?2026l\u001b[?2026h\u001b[?25l\u001b[A\u001b[1G\u001b[?25h\u001b[?2026l\u001b[?2026h\u001b[?25l\u001b[A\u001b[1G\u001b[?25h\u001b[?2026l\u001b[?2026h\u001b[?25l\u001b[A\u001b[1G\u001b[?25h\u001b[?2026l\u001b[?2026h\u001b[?25l\u001b[A\u001b[1G\u001b[?25h\u001b[?2026l\u001b[?2026h\u001b[?25l\u001b[A\u001b[1G\u001b[?25h\u001b[?2026l\u001b[?2026h\u001b[?25l\u001b[A\u001b[1G\u001b[?25h\u001b[?2026l\u001b[?2026h\u001b[?25l\u001b[A\u001b[1G\u001b[?25h\u001b[?2026l\u001b[?2026h\u001b[?25l\u001b[A\u001b[1G\u001b[?25h\u001b[?2026l\u001b[?2026h\u001b[?25l\u001b[A\u001b[1G\u001b[?25h\u001b[?2026l\u001b[?2026h\u001b[?25l\u001b[A\u001b[1G\u001b[?25h\u001b[?2026l\u001b[?2026h\u001b[?25l\u001b[A\u001b[1G\u001b[?25h\u001b[?2026l\u001b[?2026h\u001b[?25l\u001b[A\u001b[1G\u001b[?25h\u001b[?2026l\u001b[?2026h\u001b[?25l\u001b[A\u001b[1G\u001b[?25h\u001b[?2026l\u001b[?2026h\u001b[?25l\u001b[A\u001b[1G\u001b[?25h\u001b[?2026l\u001b[?2026h\u001b[?25l\u001b[A\u001b[1G\u001b[?25h\u001b[?2026l\u001b[?2026h\u001b[?25l\u001b[A\u001b[1G\u001b[?25h\u001b[?2026l\u001b[?2026h\u001b[?25l\u001b[A\u001b[1G\u001b[?25h\u001b[?2026l\u001b[?2026h\u001b[?25l\u001b[A\u001b[1G\u001b[?25h\u001b[?2026l\u001b[?2026h\u001b[?25l\u001b[A\u001b[1G\u001b[?25h\u001b[?2026l\u001b[?2026h\u001b[?25l\u001b[A\u001b[1G\u001b[?25h\u001b[?2026l\u001b[?2026h\u001b[?25l\u001b[A\u001b[1G\u001b[?25h\u001b[?2026l\u001b[?2026h\u001b[?25l\u001b[A\u001b[1G\u001b[?25h\u001b[?2026l\u001b[?2026h\u001b[?25l\u001b[A\u001b[1G\u001b[?25h\u001b[?2026l\u001b[?2026h\u001b[?25l\u001b[A\u001b[1G\u001b[?25h\u001b[?2026l\u001b[?2026h\u001b[?25l\u001b[A\u001b[1G\u001b[?25h\u001b[?2026l\u001b[?2026h\u001b[?25l\u001b[A\u001b[1G\u001b[?25h\u001b[?2026l\u001b[?2026h\u001b[?25l\u001b[A\u001b[1G\u001b[?25h\u001b[?2026l\u001b[?2026h\u001b[?25l\u001b[A\u001b[1G\u001b[?25h\u001b[?2026l\u001b[?2026h\u001b[?25l\u001b[A\u001b[1G\u001b[?25h\u001b[?2026l\u001b[?2026h\u001b[?25l\u001b[A\u001b[1G\u001b[?25h\u001b[?2026l\u001b[?2026h\u001b[?25l\u001b[A\u001b[1G\u001b[?25h\u001b[?2026l\u001b[?2026h\u001b[?25l\u001b[A\u001b[1G\u001b[?25h\u001b[?2026l\u001b[?2026h\u001b[?25l\u001b[A\u001b[1G\u001b[?25h\u001b[?2026l\u001b[?2026h\u001b[?25l\u001b[A\u001b[1G\u001b[?25h\u001b[?2026l\u001b[?2026h\u001b[?25l\u001b[A\u001b[1G\u001b[?25h\u001b[?2026l\u001b[?2026h\u001b[?25l\u001b[A\u001b[1G\u001b[?25h\u001b[?2026l\u001b[?2026h\u001b[?25l\u001b[A\u001b[1G\u001b[?25h\u001b[?2026l\u001b[?2026h\u001b[?25l\u001b[A\u001b[1G\u001b[?25h\u001b[?2026l\u001b[?2026h\u001b[?25l\u001b[A\u001b[1G\u001b[?25h\u001b[?2026l\u001b[?2026h\u001b[?25l\u001b[A\u001b[1G\u001b[?25h\u001b[?2026l\u001b[?2026h\u001b[?25l\u001b[A\u001b[1G\u001b[?25h\u001b[?2026l\u001b[?2026h\u001b[?25l\u001b[A\u001b[1G\u001b[?25h\u001b[?2026l\u001b[?2026h\u001b[?25l\u001b[A\u001b[1G\u001b[?25h\u001b[?2026l\u001b[?2026h\u001b[?25l\u001b[A\u001b[1G\u001b[?25h\u001b[?2026l\u001b[?2026h\u001b[?25l\u001b[A\u001b[1G\u001b[?25h\u001b[?2026l\u001b[?2026h\u001b[?25l\u001b[A\u001b[1G\u001b[?25h\u001b[?2026l\u001b[?2026h\u001b[?25l\u001b[A\u001b[1G\u001b[?25h\u001b[?2026l\u001b[?2026h\u001b[?25l\u001b[A\u001b[1G\u001b[?25h\u001b[?2026l\u001b[?2026h\u001b[?25l\u001b[A\u001b[1G\u001b[?25h\u001b[?2026l\u001b[?2026h\u001b[?25l\u001b[A\u001b[1G\u001b[?25h\u001b[?2026l\u001b[?2026h\u001b[?25l\u001b[A\u001b[1G\u001b[?25h\u001b[?2026l\u001b[?2026h\u001b[?25l\u001b[A\u001b[1G\u001b[?25h\u001b[?2026l\u001b[?2026h\u001b[?25l\u001b[A\u001b[1G\u001b[?25h\u001b[?2026l\u001b[?2026h\u001b[?25l\u001b[A\u001b[1G\u001b[?25h\u001b[?2026l\u001b[?2026h\u001b[?25l\u001b[A\u001b[1G\u001b[?25h\u001b[?2026l\u001b[?2026h\u001b[?25l\u001b[A\u001b[1G\u001b[?25h\u001b[?2026l\u001b[?2026h\u001b[?25l\u001b[A\u001b[1G\u001b[?25h\u001b[?2026l\u001b[?2026h\u001b[?25l\u001b[A\u001b[1G\u001b[?25h\u001b[?2026l\u001b[?2026h\u001b[?25l\u001b[A\u001b[1G\u001b[?25h\u001b[?2026l\u001b[?2026h\u001b[?25l\u001b[A\u001b[1G\u001b[?25h\u001b[?2026l\u001b[?2026h\u001b[?25l\u001b[A\u001b[1G\u001b[?25h\u001b[?2026l\u001b[?2026h\u001b[?25l\u001b[A\u001b[1G\u001b[?25h\u001b[?2026l\u001b[?2026h\u001b[?25l\u001b[A\u001b[1G\u001b[?25h\u001b[?2026l\u001b[?2026h\u001b[?25l\u001b[A\u001b[1G\u001b[?25h\u001b[?2026l\u001b[?2026h\u001b[?25l\u001b[A\u001b[1G\u001b[?25h\u001b[?2026l\u001b[?2026h\u001b[?25l\u001b[A\u001b[1G\u001b[?25h\u001b[?2026l\u001b[?2026h\u001b[?25l\u001b[A\u001b[1G\u001b[?25h\u001b[?2026l\u001b[?2026h\u001b[?25l\u001b[A\u001b[1G\u001b[?25h\u001b[?2026l\u001b[?2026h\u001b[?25l\u001b[A\u001b[1G\u001b[?25h\u001b[?2026l\u001b[?2026h\u001b[?25l\u001b[A\u001b[1G\u001b[?25h\u001b[?2026l\u001b[?2026h\u001b[?25l\u001b[A\u001b[1G\u001b[?25h\u001b[?2026l\u001b[?2026h\u001b[?25l\u001b[A\u001b[1G\u001b[?25h\u001b[?2026l\u001b[?2026h\u001b[?25l\u001b[A\u001b[1G\u001b[?25h\u001b[?2026l\u001b[?2026h\u001b[?25l\u001b[A\u001b[1G\u001b[?25h\u001b[?2026l\u001b[?2026h\u001b[?25l\u001b[A\u001b[1G\u001b[?25h\u001b[?2026l\u001b[?2026h\u001b[?25l\u001b[A\u001b[1G\u001b[?25h\u001b[?2026l\u001b[?2026h\u001b[?25l\u001b[A\u001b[1G\u001b[?25h\u001b[?2026l\u001b[?2026h\u001b[?25l\u001b[A\u001b[1G\u001b[?25h\u001b[?2026l\u001b[?2026h\u001b[?25l\u001b[A\u001b[1G\u001b[?25h\u001b[?2026l\u001b[?2026h\u001b[?25l\u001b[A\u001b[1G\u001b[?25h\u001b[?2026l\u001b[?2026h\u001b[?25l\u001b[A\u001b[1G\u001b[?25h\u001b[?2026l\u001b[?2026h\u001b[?25l\u001b[A\u001b[1G\u001b[?25h\u001b[?2026l\u001b[?2026h\u001b[?25l\u001b[A\u001b[1G\u001b[?25h\u001b[?2026l\u001b[?2026h\u001b[?25l\u001b[A\u001b[1G\u001b[?25h\u001b[?2026l\u001b[?2026h\u001b[?25l\u001b[A\u001b[1G\u001b[?25h\u001b[?2026l\u001b[?2026h\u001b[?25l\u001b[A\u001b[1G\u001b[?25h\u001b[?2026l\u001b[?2026h\u001b[?25l\u001b[A\u001b[1G\u001b[?25h\u001b[?2026l\u001b[?2026h\u001b[?25l\u001b[A\u001b[1G\u001b[?25h\u001b[?2026l\u001b[?2026h\u001b[?25l\u001b[A\u001b[1G\u001b[?25h\u001b[?2026l\u001b[?2026h\u001b[?25l\u001b[A\u001b[1G\u001b[?25h\u001b[?2026l\u001b[?2026h\u001b[?25l\u001b[A\u001b[1G\u001b[?25h\u001b[?2026l\u001b[?2026h\u001b[?25l\u001b[A\u001b[1G\u001b[?25h\u001b[?2026l\u001b[?2026h\u001b[?25l\u001b[A\u001b[1G\u001b[?25h\u001b[?2026l\u001b[?2026h\u001b[?25l\u001b[A\u001b[1G\u001b[?25h\u001b[?2026l\u001b[?2026h\u001b[?25l\u001b[A\u001b[1G\u001b[?25h\u001b[?2026l\u001b[?2026h\u001b[?25l\u001b[A\u001b[1G\u001b[?25h\u001b[?2026l\u001b[?2026h\u001b[?25l\u001b[A\u001b[1G\u001b[?25h\u001b[?2026l\u001b[?2026h\u001b[?25l\u001b[A\u001b[1G\u001b[?25h\u001b[?2026l\u001b[?2026h\u001b[?25l\u001b[A\u001b[1G\u001b[?25h\u001b[?2026l\u001b[?2026h\u001b[?25l\u001b[A\u001b[1G\u001b[?25h\u001b[?2026l\u001b[?2026h\u001b[?25l\u001b[A\u001b[1G\u001b[?25h\u001b[?2026l\u001b[?2026h\u001b[?25l\u001b[A\u001b[1G\u001b[?25h\u001b[?2026l\u001b[?2026h\u001b[?25l\u001b[A\u001b[1G\u001b[?25h\u001b[?2026l\u001b[?2026h\u001b[?25l\u001b[A\u001b[1G\u001b[?25h\u001b[?2026l\u001b[?2026h\u001b[?25l\u001b[A\u001b[1G\u001b[?25h\u001b[?2026l\u001b[?2026h\u001b[?25l\u001b[A\u001b[1G\u001b[?25h\u001b[?2026l\u001b[?2026h\u001b[?25l\u001b[A\u001b[1G\u001b[?25h\u001b[?2026l\u001b[?2026h\u001b[?25l\u001b[A\u001b[1G\u001b[?25h\u001b[?2026l\u001b[?2026h\u001b[?25l\u001b[A\u001b[1G\u001b[?25h\u001b[?2026l\u001b[?2026h\u001b[?25l\u001b[A\u001b[1G\u001b[?25h\u001b[?2026l\u001b[?2026h\u001b[?25l\u001b[A\u001b[1G\u001b[?25h\u001b[?2026l\u001b[?2026h\u001b[?25l\u001b[A\u001b[1G\u001b[?25h\u001b[?2026l\u001b[?2026h\u001b[?25l\u001b[A\u001b[1G\u001b[?25h\u001b[?2026l\u001b[?2026h\u001b[?25l\u001b[A\u001b[1G\u001b[?25h\u001b[?2026l\u001b[?2026h\u001b[?25l\u001b[A\u001b[1G\u001b[?25h\u001b[?2026l\u001b[?2026h\u001b[?25l\u001b[A\u001b[1G\u001b[?25h\u001b[?2026l\u001b[?2026h\u001b[?25l\u001b[A\u001b[1G\u001b[?25h\u001b[?2026l\u001b[?2026h\u001b[?25l\u001b[A\u001b[1G\u001b[?25h\u001b[?2026l\u001b[?2026h\u001b[?25l\u001b[A\u001b[1G\u001b[?25h\u001b[?2026l\u001b[?2026h\u001b[?25l\u001b[A\u001b[1G\u001b[?25h\u001b[?2026l\u001b[?2026h\u001b[?25l\u001b[A\u001b[1G\u001b[?25h\u001b[?2026l\u001b[?2026h\u001b[?25l\u001b[A\u001b[1G\u001b[?25h\u001b[?2026l\u001b[?2026h\u001b[?25l\u001b[A\u001b[1G\u001b[?25h\u001b[?2026l\u001b[?2026h\u001b[?25l\u001b[A\u001b[1G\u001b[?25h\u001b[?2026l\u001b[?2026h\u001b[?25l\u001b[A\u001b[1G\u001b[?25h\u001b[?2026l\u001b[?2026h\u001b[?25l\u001b[A\u001b[1G\u001b[?25h\u001b[?2026l\u001b[?2026h\u001b[?25l\u001b[A\u001b[1G\u001b[?25h\u001b[?2026l\u001b[?2026h\u001b[?25l\u001b[A\u001b[1G\u001b[?25h\u001b[?2026l\u001b[?2026h\u001b[?25l\u001b[A\u001b[1G\u001b[?25h\u001b[?2026l\u001b[?2026h\u001b[?25l\u001b[A\u001b[1G\u001b[?25h\u001b[?2026l\u001b[?2026h\u001b[?25l\u001b[A\u001b[1G\u001b[?25h\u001b[?2026l\u001b[?2026h\u001b[?25l\u001b[A\u001b[1G\u001b[?25h\u001b[?2026l\u001b[?2026h\u001b[?25l\u001b[A\u001b[1G\u001b[?25h\u001b[?2026l\u001b[?2026h\u001b[?25l\u001b[A\u001b[1G\u001b[?25h\u001b[?2026l\u001b[?2026h\u001b[?25l\u001b[A\u001b[1G\u001b[?25h\u001b[?2026l\u001b[?2026h\u001b[?25l\u001b[A\u001b[1G\u001b[?25h\u001b[?2026l\u001b[?2026h\u001b[?25l\u001b[A\u001b[1G\u001b[?25h\u001b[?2026l\u001b[?2026h\u001b[?25l\u001b[A\u001b[1G\u001b[?25h\u001b[?2026l\u001b[?2026h\u001b[?25l\u001b[A\u001b[1G\u001b[?25h\u001b[?2026l\u001b[?2026h\u001b[?25l\u001b[A\u001b[1G\u001b[?25h\u001b[?2026l\u001b[?2026h\u001b[?25l\u001b[A\u001b[1G\u001b[?25h\u001b[?2026l\u001b[?2026h\u001b[?25l\u001b[A\u001b[1G\u001b[?25h\u001b[?2026l\u001b[?2026h\u001b[?25l\u001b[A\u001b[1G\u001b[?25h\u001b[?2026l\u001b[?2026h\u001b[?25l\u001b[A\u001b[1G\u001b[?25h\u001b[?2026l\u001b[?2026h\u001b[?25l\u001b[A\u001b[1G\u001b[?25h\u001b[?2026l\u001b[?2026h\u001b[?25l\u001b[A\u001b[1G\u001b[?25h\u001b[?2026l\u001b[?2026h\u001b[?25l\u001b[A\u001b[1G\u001b[?25h\u001b[?2026l\u001b[?2026h\u001b[?25l\u001b[A\u001b[1G\u001b[?25h\u001b[?2026l\u001b[?2026h\u001b[?25l\u001b[A\u001b[1G\u001b[?25h\u001b[?2026l\u001b[?2026h\u001b[?25l\u001b[A\u001b[1G\u001b[?25h\u001b[?2026l\u001b[?2026h\u001b[?25l\u001b[A\u001b[1G\u001b[?25h\u001b[?2026l\u001b[?2026h\u001b[?25l\u001b[A\u001b[1G\u001b[?25h\u001b[?2026l\u001b[?2026h\u001b[?25l\u001b[A\u001b[1G\u001b[?25h\u001b[?2026l\u001b[?2026h\u001b[?25l\u001b[A\u001b[1G\u001b[?25h\u001b[?2026l\u001b[?2026h\u001b[?25l\u001b[A\u001b[1G\u001b[?25h\u001b[?2026l\u001b[?2026h\u001b[?25l\u001b[A\u001b[1G\u001b[?25h\u001b[?2026l\u001b[?2026h\u001b[?25l\u001b[A\u001b[1G\u001b[?25h\u001b[?2026l\u001b[?2026h\u001b[?25l\u001b[A\u001b[1G\u001b[?25h\u001b[?2026l\u001b[?2026h\u001b[?25l\u001b[A\u001b[1G\u001b[?25h\u001b[?2026l\u001b[?2026h\u001b[?25l\u001b[A\u001b[1G\u001b[?25h\u001b[?2026l\u001b[?2026h\u001b[?25l\u001b[A\u001b[1G\u001b[?25h\u001b[?2026l\u001b[?2026h\u001b[?25l\u001b[A\u001b[1G\u001b[?25h\u001b[?2026l\u001b[?2026h\u001b[?25l\u001b[A\u001b[1G\u001b[?25h\u001b[?2026l\u001b[?2026h\u001b[?25l\u001b[A\u001b[1G\u001b[?25h\u001b[?2026l\u001b[?2026h\u001b[?25l\u001b[A\u001b[1G\u001b[?25h\u001b[?2026l\u001b[?2026h\u001b[?25l\u001b[A\u001b[1G\u001b[?25h\u001b[?2026l\u001b[?2026h\u001b[?25l\u001b[A\u001b[1G\u001b[?25h\u001b[?2026l\u001b[?2026h\u001b[?25l\u001b[A\u001b[1G\u001b[?25h\u001b[?2026l\u001b[?2026h\u001b[?25l\u001b[A\u001b[1G\u001b[?25h\u001b[?2026l\u001b[?2026h\u001b[?25l\u001b[A\u001b[1G\u001b[?25h\u001b[?2026l\u001b[?2026h\u001b[?25l\u001b[A\u001b[1G\u001b[?25h\u001b[?2026l\u001b[?2026h\u001b[?25l\u001b[A\u001b[1G\u001b[?25h\u001b[?2026l\u001b[?2026h\u001b[?25l\u001b[A\u001b[1G\u001b[?25h\u001b[?2026l\u001b[?2026h\u001b[?25l\u001b[A\u001b[1G\u001b[?25h\u001b[?2026l\u001b[?2026h\u001b[?25l\u001b[A\u001b[1G\u001b[?25h\u001b[?2026l\u001b[?2026h\u001b[?25l\u001b[A\u001b[1G\u001b[?25h\u001b[?2026l\u001b[?2026h\u001b[?25l\u001b[A\u001b[1G\u001b[?25h\u001b[?2026l\u001b[?2026h\u001b[?25l\u001b[A\u001b[1G\u001b[?25h\u001b[?2026l\u001b[?2026h\u001b[?25l\u001b[A\u001b[1G\u001b[?25h\u001b[?2026l\u001b[?2026h\u001b[?25l\u001b[A\u001b[1G\u001b[?25h\u001b[?2026l\u001b[?2026h\u001b[?25l\u001b[A\u001b[1G\u001b[?25h\u001b[?2026l\u001b[?2026h\u001b[?25l\u001b[A\u001b[1G\u001b[?25h\u001b[?2026l\u001b[?2026h\u001b[?25l\u001b[A\u001b[1G\u001b[?25h\u001b[?2026l\u001b[?2026h\u001b[?25l\u001b[A\u001b[1G\u001b[?25h\u001b[?2026l\u001b[?2026h\u001b[?25l\u001b[A\u001b[1G\u001b[?25h\u001b[?2026l\u001b[?2026h\u001b[?25l\u001b[A\u001b[1G\u001b[?25h\u001b[?2026l\u001b[?2026h\u001b[?25l\u001b[A\u001b[1G\u001b[?25h\u001b[?2026l\u001b[?2026h\u001b[?25l\u001b[A\u001b[1G\u001b[?25h\u001b[?2026l\u001b[?2026h\u001b[?25l\u001b[A\u001b[1G\u001b[?25h\u001b[?2026l\u001b[?2026h\u001b[?25l\u001b[A\u001b[1G\u001b[?25h\u001b[?2026l\u001b[?2026h\u001b[?25l\u001b[A\u001b[1G\u001b[?25h\u001b[?2026l\u001b[?2026h\u001b[?25l\u001b[A\u001b[1G\u001b[?25h\u001b[?2026l\u001b[?2026h\u001b[?25l\u001b[A\u001b[1G\u001b[?25h\u001b[?2026l\u001b[?2026h\u001b[?25l\u001b[A\u001b[1G\u001b[?25h\u001b[?2026l\u001b[?2026h\u001b[?25l\u001b[A\u001b[1G\u001b[?25h\u001b[?2026l\u001b[?2026h\u001b[?25l\u001b[A\u001b[1G\u001b[?25h\u001b[?2026l\u001b[?2026h\u001b[?25l\u001b[A\u001b[1G\u001b[?25h\u001b[?2026l\u001b[?2026h\u001b[?25l\u001b[A\u001b[1G\u001b[?25h\u001b[?2026l\u001b[?2026h\u001b[?25l\u001b[A\u001b[1G\u001b[?25h\u001b[?2026l\u001b[?2026h\u001b[?25l\u001b[A\u001b[1G\u001b[?25h\u001b[?2026l\u001b[?2026h\u001b[?25l\u001b[A\u001b[1G\u001b[?25h\u001b[?2026l\u001b[?2026h\u001b[?25l\u001b[A\u001b[1G\u001b[?25h\u001b[?2026l\u001b[?2026h\u001b[?25l\u001b[A\u001b[1G\u001b[?25h\u001b[?2026l\u001b[?2026h\u001b[?25l\u001b[A\u001b[1G\u001b[?25h\u001b[?2026l\u001b[?2026h\u001b[?25l\u001b[A\u001b[1G\u001b[?25h\u001b[?2026l\u001b[?2026h\u001b[?25l\u001b[A\u001b[1G\u001b[?25h\u001b[?2026l\u001b[?2026h\u001b[?25l\u001b[A\u001b[1G\u001b[?25h\u001b[?2026l\u001b[?2026h\u001b[?25l\u001b[A\u001b[1G\u001b[?25h\u001b[?2026l\u001b[?2026h\u001b[?25l\u001b[A\u001b[1G\u001b[?25h\u001b[?2026l\u001b[?2026h\u001b[?25l\u001b[A\u001b[1G\u001b[?25h\u001b[?2026l\u001b[?2026h\u001b[?25l\u001b[A\u001b[1G\u001b[?25h\u001b[?2026l\u001b[?2026h\u001b[?25l\u001b[A\u001b[1G\u001b[?25h\u001b[?2026l\u001b[?2026h\u001b[?25l\u001b[A\u001b[1G\u001b[?25h\u001b[?2026l\u001b[?2026h\u001b[?25l\u001b[A\u001b[1G\u001b[?25h\u001b[?2026l\u001b[?2026h\u001b[?25l\u001b[A\u001b[1G\u001b[?25h\u001b[?2026l\u001b[?2026h\u001b[?25l\u001b[A\u001b[1G\u001b[?25h\u001b[?2026l\u001b[?2026h\u001b[?25l\u001b[A\u001b[1G\u001b[?25h\u001b[?2026l\u001b[?2026h\u001b[?25l\u001b[A\u001b[1G\u001b[?25h\u001b[?2026l\u001b[?2026h\u001b[?25l\u001b[A\u001b[1G\u001b[?25h\u001b[?2026l\u001b[?2026h\u001b[?25l\u001b[A\u001b[1G\u001b[?25h\u001b[?2026l\u001b[?2026h\u001b[?25l\u001b[A\u001b[1G\u001b[?25h\u001b[?2026l\u001b[?2026h\u001b[?25l\u001b[A\u001b[1G\u001b[?25h\u001b[?2026l\u001b[?2026h\u001b[?25l\u001b[A\u001b[1G\u001b[?25h\u001b[?2026l\u001b[?2026h\u001b[?25l\u001b[A\u001b[1G\u001b[?25h\u001b[?2026l\u001b[?2026h\u001b[?25l\u001b[A\u001b[1G\u001b[?25h\u001b[?2026l\u001b[?2026h\u001b[?25l\u001b[A\u001b[1G\u001b[?25h\u001b[?2026l\u001b[?2026h\u001b[?25l\u001b[A\u001b[1G\u001b[?25h\u001b[?2026l\u001b[?2026h\u001b[?25l\u001b[A\u001b[1G\u001b[?25h\u001b[?2026l\u001b[?2026h\u001b[?25l\u001b[A\u001b[1G\u001b[?25h\u001b[?2026l\u001b[?2026h\u001b[?25l\u001b[A\u001b[1G\u001b[?25h\u001b[?2026l\u001b[?2026h\u001b[?25l\u001b[A\u001b[1G\u001b[?25h\u001b[?2026l\u001b[?2026h\u001b[?25l\u001b[A\u001b[1G\u001b[?25h\u001b[?2026l\u001b[?2026h\u001b[?25l\u001b[A\u001b[1G\u001b[?25h\u001b[?2026l\u001b[?2026h\u001b[?25l\u001b[A\u001b[1G\u001b[?25h\u001b[?2026l\u001b[?2026h\u001b[?25l\u001b[A\u001b[1G\u001b[?25h\u001b[?2026l\u001b[?2026h\u001b[?25l\u001b[A\u001b[A\u001b[1G\u001b[?25h\u001b[?2026l\u001b[?2026h\u001b[?25l\u001b[A\u001b[A\u001b[1G\u001b[?25h\u001b[?2026l\u001b[?2026h\u001b[?25l\u001b[A\u001b[A\u001b[1G\u001b[?25h\u001b[?2026l\u001b[?2026h\u001b[?25l\u001b[A\u001b[A\u001b[1G\u001b[?25h\u001b[?2026l\u001b[?2026h\u001b[?25l\u001b[A\u001b[A\u001b[1G\u001b[?25h\u001b[?2026l\u001b[?2026h\u001b[?25l\u001b[A\u001b[A\u001b[1G\u001b[?25h\u001b[?2026l\u001b[?2026h\u001b[?25l\u001b[A\u001b[A\u001b[1G\u001b[?25h\u001b[?2026l\u001b[?2026h\u001b[?25l\u001b[A\u001b[A\u001b[1G\u001b[?25h\u001b[?2026l\u001b[?2026h\u001b[?25l\u001b[A\u001b[A\u001b[1G\u001b[?25h\u001b[?2026l\u001b[?2026h\u001b[?25l\u001b[A\u001b[A\u001b[1G\u001b[?25h\u001b[?2026l\u001b[?2026h\u001b[?25l\u001b[A\u001b[A\u001b[1G\u001b[?25h\u001b[?2026l\u001b[?2026h\u001b[?25l\u001b[A\u001b[A\u001b[1G\u001b[?25h\u001b[?2026l\u001b[?2026h\u001b[?25l\u001b[A\u001b[A\u001b[A\u001b[1G\u001b[?25h\u001b[?2026l\u001b[?2026h\u001b[?25l\u001b[A\u001b[A\u001b[A\u001b[1G\u001b[?25h\u001b[?2026l\u001b[?2026h\u001b[?25l\u001b[A\u001b[A\u001b[A\u001b[1G\u001b[?25h\u001b[?2026l\u001b[?2026h\u001b[?25l\u001b[A\u001b[A\u001b[A\u001b[1G\u001b[?25h\u001b[?2026l\u001b[?2026h\u001b[?25l\u001b[A\u001b[A\u001b[A\u001b[1G\u001b[?25h\u001b[?2026l\u001b[?2026h\u001b[?25l\u001b[A\u001b[A\u001b[A\u001b[1G\u001b[?25h\u001b[?2026l\u001b[?2026h\u001b[?25l\u001b[A\u001b[A\u001b[A\u001b[1G\u001b[?25h\u001b[?2026l\u001b[?2026h\u001b[?25l\u001b[A\u001b[A\u001b[A\u001b[1G\u001b[?25h\u001b[?2026l\u001b[?2026h\u001b[?25l\u001b[A\u001b[A\u001b[A\u001b[1G\u001b[?25h\u001b[?2026l\u001b[?2026h\u001b[?25l\u001b[A\u001b[A\u001b[A\u001b[1G\u001b[?25h\u001b[?2026l\u001b[?2026h\u001b[?25l\u001b[A\u001b[A\u001b[A\u001b[1G\u001b[?25h\u001b[?2026l\u001b[?2026h\u001b[?25l\u001b[A\u001b[A\u001b[A\u001b[1G\u001b[?25h\u001b[?2026l\u001b[?2026h\u001b[?25l\u001b[A\u001b[A\u001b[A\u001b[A\u001b[1G\u001b[?25h\u001b[?2026l\u001b[?2026h\u001b[?25l\u001b[A\u001b[A\u001b[A\u001b[A\u001b[1G\u001b[?25h\u001b[?2026l\u001b[?2026h\u001b[?25l\u001b[A\u001b[A\u001b[A\u001b[A\u001b[1G\u001b[?25h\u001b[?2026l\u001b[?2026h\u001b[?25l\u001b[A\u001b[A\u001b[A\u001b[A\u001b[1G\u001b[?25h\u001b[?2026l\u001b[?2026h\u001b[?25l\u001b[A\u001b[A\u001b[A\u001b[A\u001b[1G\u001b[?25h\u001b[?2026l\u001b[?2026h\u001b[?25l\u001b[A\u001b[A\u001b[A\u001b[A\u001b[1G\u001b[?25h\u001b[?2026l\u001b[?2026h\u001b[?25l\u001b[A\u001b[A\u001b[A\u001b[A\u001b[1G\u001b[?25h\u001b[?2026l\u001b[?2026h\u001b[?25l\u001b[A\u001b[A\u001b[A\u001b[A\u001b[1G\u001b[?25h\u001b[?2026l\u001b[?2026h\u001b[?25l\u001b[A\u001b[A\u001b[A\u001b[A\u001b[1G\u001b[?25h\u001b[?2026l\u001b[?2026h\u001b[?25l\u001b[A\u001b[A\u001b[A\u001b[A\u001b[1G\u001b[?25h\u001b[?2026l\u001b[?2026h\u001b[?25l\u001b[A\u001b[A\u001b[A\u001b[A\u001b[1G\u001b[?25h\u001b[?2026l\u001b[?2026h\u001b[?25l\u001b[A\u001b[A\u001b[A\u001b[A\u001b[1G\u001b[?25h\u001b[?2026l\u001b[?2026h\u001b[?25l\u001b[A\u001b[A\u001b[A\u001b[A\u001b[A\u001b[1G\u001b[?25h\u001b[?2026l\u001b[?2026h\u001b[?25l\u001b[A\u001b[A\u001b[A\u001b[A\u001b[A\u001b[1G\u001b[?25h\u001b[?2026l\u001b[?2026h\u001b[?25l\u001b[A\u001b[A\u001b[A\u001b[A\u001b[A\u001b[1G\u001b[?25h\u001b[?2026l\u001b[?2026h\u001b[?25l\u001b[A\u001b[A\u001b[A\u001b[A\u001b[A\u001b[1G\u001b[?25h\u001b[?2026l\u001b[?2026h\u001b[?25l\u001b[A\u001b[A\u001b[A\u001b[A\u001b[A\u001b[1G\u001b[?25h\u001b[?2026l\u001b[?2026h\u001b[?25l\u001b[A\u001b[A\u001b[A\u001b[A\u001b[A\u001b[1G\u001b[?25h\u001b[?2026l\u001b[?2026h\u001b[?25l\u001b[A\u001b[A\u001b[A\u001b[A\u001b[A\u001b[1G\u001b[?25h\u001b[?2026l\u001b[?2026h\u001b[?25l\u001b[A\u001b[A\u001b[A\u001b[A\u001b[A\u001b[1G\u001b[?25h\u001b[?2026l\u001b[?2026h\u001b[?25l\u001b[A\u001b[A\u001b[A\u001b[A\u001b[A\u001b[1G\u001b[?25h\u001b[?2026l\u001b[?2026h\u001b[?25l\u001b[A\u001b[A\u001b[A\u001b[A\u001b[A\u001b[1G\u001b[?25h\u001b[?2026l\u001b[?2026h\u001b[?25l\u001b[A\u001b[A\u001b[A\u001b[A\u001b[A\u001b[1G\u001b[?25h\u001b[?2026l\u001b[?2026h\u001b[?25l\u001b[A\u001b[A\u001b[A\u001b[A\u001b[A\u001b[1G\u001b[?25h\u001b[?2026l\u001b[?2026h\u001b[?25l\u001b[A\u001b[A\u001b[A\u001b[A\u001b[A\u001b[A\u001b[1G\u001b[?25h\u001b[?2026l\u001b[?2026h\u001b[?25l\u001b[A\u001b[A\u001b[A\u001b[A\u001b[A\u001b[A\u001b[1G\u001b[?25h\u001b[?2026l\u001b[?2026h\u001b[?25l\u001b[A\u001b[A\u001b[A\u001b[A\u001b[A\u001b[A\u001b[1G\u001b[?25h\u001b[?2026l\u001b[?2026h\u001b[?25l\u001b[A\u001b[A\u001b[A\u001b[A\u001b[A\u001b[A\u001b[1G\u001b[?25h\u001b[?2026l\u001b[?2026h\u001b[?25l\u001b[A\u001b[A\u001b[A\u001b[A\u001b[A\u001b[A\u001b[1G\u001b[?25h\u001b[?2026l\u001b[?2026h\u001b[?25l\u001b[A\u001b[A\u001b[A\u001b[A\u001b[A\u001b[A\u001b[1G\u001b[?25h\u001b[?2026l\u001b[?2026h\u001b[?25l\u001b[A\u001b[A\u001b[A\u001b[A\u001b[A\u001b[A\u001b[1G\u001b[?25h\u001b[?2026l\u001b[?2026h\u001b[?25l\u001b[A\u001b[A\u001b[A\u001b[A\u001b[A\u001b[A\u001b[1G\u001b[?25h\u001b[?2026l\u001b[?2026h\u001b[?25l\u001b[A\u001b[A\u001b[A\u001b[A\u001b[A\u001b[A\u001b[1G\u001b[?25h\u001b[?2026l\u001b[?2026h\u001b[?25l\u001b[A\u001b[A\u001b[A\u001b[A\u001b[A\u001b[A\u001b[A\u001b[1G\u001b[?25h\u001b[?2026l\u001b[?2026h\u001b[?25l\u001b[A\u001b[A\u001b[A\u001b[A\u001b[A\u001b[A\u001b[A\u001b[1G\u001b[?25h\u001b[?2026l\u001b[?2026h\u001b[?25l\u001b[A\u001b[A\u001b[A\u001b[A\u001b[A\u001b[A\u001b[A\u001b[1G\u001b[?25h\u001b[?2026l\u001b[?2026h\u001b[?25l\u001b[A\u001b[A\u001b[A\u001b[A\u001b[A\u001b[A\u001b[A\u001b[1G\u001b[?25h\u001b[?2026l\u001b[?2026h\u001b[?25l\u001b[A\u001b[A\u001b[A\u001b[A\u001b[A\u001b[A\u001b[A\u001b[1G\u001b[?25h\u001b[?2026l\u001b[?2026h\u001b[?25l\u001b[A\u001b[A\u001b[A\u001b[A\u001b[A\u001b[A\u001b[A\u001b[1G\u001b[?25h\u001b[?2026l\u001b[?2026h\u001b[?25l\u001b[A\u001b[A\u001b[A\u001b[A\u001b[A\u001b[A\u001b[A\u001b[1G\u001b[?25h\u001b[?2026l\u001b[?2026h\u001b[?25l\u001b[A\u001b[A\u001b[A\u001b[A\u001b[A\u001b[A\u001b[A\u001b[1G\u001b[?25h\u001b[?2026l\u001b[?2026h\u001b[?25l\u001b[A\u001b[A\u001b[A\u001b[A\u001b[A\u001b[A\u001b[A\u001b[1G\u001b[?25h\u001b[?2026l\u001b[?2026h\u001b[?25l\u001b[A\u001b[A\u001b[A\u001b[A\u001b[A\u001b[A\u001b[A\u001b[1G\u001b[?25h\u001b[?2026l\u001b[?2026h\u001b[?25l\u001b[A\u001b[A\u001b[A\u001b[A\u001b[A\u001b[A\u001b[A\u001b[1G\u001b[?25h\u001b[?2026l\u001b[?2026h\u001b[?25l\u001b[A\u001b[A\u001b[A\u001b[A\u001b[A\u001b[A\u001b[A\u001b[1G\u001b[?25h\u001b[?2026l\u001b[?2026h\u001b[?25l\u001b[A\u001b[A\u001b[A\u001b[A\u001b[A\u001b[A\u001b[A\u001b[1G\u001b[?25h\u001b[?2026l\u001b[?2026h\u001b[?25l\u001b[A\u001b[A\u001b[A\u001b[A\u001b[A\u001b[A\u001b[A\u001b[1G\u001b[?25h\u001b[?2026l\u001b[?2026h\u001b[?25l\u001b[A\u001b[A\u001b[A\u001b[A\u001b[A\u001b[A\u001b[A\u001b[1G\u001b[?25h\u001b[?2026l\u001b[?2026h\u001b[?25l\u001b[A\u001b[A\u001b[A\u001b[A\u001b[A\u001b[A\u001b[A\u001b[1G\u001b[?25h\u001b[?2026l\u001b[?2026h\u001b[?25l\u001b[A\u001b[A\u001b[A\u001b[A\u001b[A\u001b[A\u001b[A\u001b[1G\u001b[?25h\u001b[?2026l\u001b[?2026h\u001b[?25l\u001b[A\u001b[A\u001b[A\u001b[A\u001b[A\u001b[A\u001b[A\u001b[1G\u001b[?25h\u001b[?2026l\u001b[?2026h\u001b[?25l\u001b[A\u001b[A\u001b[A\u001b[A\u001b[A\u001b[A\u001b[A\u001b[1G\u001b[?25h\u001b[?2026l\u001b[?2026h\u001b[?25l\u001b[A\u001b[A\u001b[A\u001b[A\u001b[A\u001b[A\u001b[A\u001b[1G\u001b[?25h\u001b[?2026l\u001b[?2026h\u001b[?25l\u001b[A\u001b[A\u001b[A\u001b[A\u001b[A\u001b[A\u001b[A\u001b[1G\u001b[?25h\u001b[?2026l\u001b[?2026h\u001b[?25l\u001b[A\u001b[A\u001b[A\u001b[A\u001b[A\u001b[A\u001b[A\u001b[1G\u001b[?25h\u001b[?2026l\u001b[?2026h\u001b[?25l\u001b[A\u001b[A\u001b[A\u001b[A\u001b[A\u001b[A\u001b[A\u001b[1G\u001b[?25h\u001b[?2026l\u001b[?2026h\u001b[?25l\u001b[A\u001b[A\u001b[A\u001b[A\u001b[A\u001b[A\u001b[A\u001b[1G\u001b[?25h\u001b[?2026l\u001b[?2026h\u001b[?25l\u001b[A\u001b[A\u001b[A\u001b[A\u001b[A\u001b[A\u001b[A\u001b[1G\u001b[?25h\u001b[?2026l\u001b[?2026h\u001b[?25l\u001b[A\u001b[A\u001b[A\u001b[A\u001b[A\u001b[A\u001b[A\u001b[1G\u001b[?25h\u001b[?2026l\u001b[?2026h\u001b[?25l\u001b[A\u001b[A\u001b[A\u001b[A\u001b[A\u001b[A\u001b[A\u001b[1G\u001b[?25h\u001b[?2026l\u001b[?2026h\u001b[?25l\u001b[A\u001b[A\u001b[A\u001b[A\u001b[A\u001b[A\u001b[A\u001b[1G\u001b[?25h\u001b[?2026l\u001b[?2026h\u001b[?25l\u001b[A\u001b[A\u001b[A\u001b[A\u001b[A\u001b[A\u001b[A\u001b[1G\u001b[?25h\u001b[?2026l\u001b[?2026h\u001b[?25l\u001b[A\u001b[A\u001b[A\u001b[A\u001b[A\u001b[A\u001b[A\u001b[1G\u001b[?25h\u001b[?2026l\u001b[?2026h\u001b[?25l\u001b[A\u001b[A\u001b[A\u001b[A\u001b[A\u001b[A\u001b[A\u001b[1G\u001b[?25h\u001b[?2026l\u001b[?2026h\u001b[?25l\u001b[A\u001b[A\u001b[A\u001b[A\u001b[A\u001b[A\u001b[A\u001b[1G\u001b[?25h\u001b[?2026l\u001b[?2026h\u001b[?25l\u001b[A\u001b[A\u001b[A\u001b[A\u001b[A\u001b[A\u001b[A\u001b[1G\u001b[?25h\u001b[?2026l\u001b[?2026h\u001b[?25l\u001b[A\u001b[A\u001b[A\u001b[A\u001b[A\u001b[A\u001b[A\u001b[1G\u001b[?25h\u001b[?2026l\u001b[?2026h\u001b[?25l\u001b[A\u001b[A\u001b[A\u001b[A\u001b[A\u001b[A\u001b[A\u001b[1G\u001b[?25h\u001b[?2026l\u001b[?2026h\u001b[?25l\u001b[A\u001b[A\u001b[A\u001b[A\u001b[A\u001b[A\u001b[A\u001b[1G\u001b[?25h\u001b[?2026l\u001b[?2026h\u001b[?25l\u001b[A\u001b[A\u001b[A\u001b[A\u001b[A\u001b[A\u001b[A\u001b[1G\u001b[?25h\u001b[?2026l\u001b[?2026h\u001b[?25l\u001b[A\u001b[A\u001b[A\u001b[A\u001b[A\u001b[A\u001b[A\u001b[1G\u001b[?25h\u001b[?2026l\u001b[?2026h\u001b[?25l\u001b[A\u001b[A\u001b[A\u001b[A\u001b[A\u001b[A\u001b[A\u001b[1G\u001b[?25h\u001b[?2026l\u001b[?2026h\u001b[?25l\u001b[A\u001b[A\u001b[A\u001b[A\u001b[A\u001b[A\u001b[A\u001b[1G\u001b[?25h\u001b[?2026l\u001b[?2026h\u001b[?25l\u001b[A\u001b[A\u001b[A\u001b[A\u001b[A\u001b[A\u001b[A\u001b[1G\u001b[?25h\u001b[?2026l\u001b[?2026h\u001b[?25l\u001b[A\u001b[A\u001b[A\u001b[A\u001b[A\u001b[A\u001b[A\u001b[1G\u001b[?25h\u001b[?2026l\u001b[?2026h\u001b[?25l\u001b[A\u001b[A\u001b[A\u001b[A\u001b[A\u001b[A\u001b[A\u001b[1G\u001b[?25h\u001b[?2026l\u001b[?2026h\u001b[?25l\u001b[A\u001b[A\u001b[A\u001b[A\u001b[A\u001b[A\u001b[A\u001b[1G\u001b[?25h\u001b[?2026l\u001b[?2026h\u001b[?25l\u001b[A\u001b[A\u001b[A\u001b[A\u001b[A\u001b[A\u001b[A\u001b[1G\u001b[?25h\u001b[?2026l\u001b[?2026h\u001b[?25l\u001b[A\u001b[A\u001b[A\u001b[A\u001b[A\u001b[A\u001b[A\u001b[1G\u001b[?25h\u001b[?2026l\u001b[?2026h\u001b[?25l\u001b[A\u001b[A\u001b[A\u001b[A\u001b[A\u001b[A\u001b[A\u001b[1G\u001b[?25h\u001b[?2026l\u001b[?2026h\u001b[?25l\u001b[A\u001b[A\u001b[A\u001b[A\u001b[A\u001b[A\u001b[A\u001b[1G\u001b[?25h\u001b[?2026l\u001b[?2026h\u001b[?25l\u001b[A\u001b[A\u001b[A\u001b[A\u001b[A\u001b[A\u001b[A\u001b[1G\u001b[?25h\u001b[?2026l\u001b[?2026h\u001b[?25l\u001b[A\u001b[A\u001b[A\u001b[A\u001b[A\u001b[A\u001b[A\u001b[1G\u001b[?25h\u001b[?2026l\u001b[?2026h\u001b[?25l\u001b[A\u001b[A\u001b[A\u001b[A\u001b[A\u001b[A\u001b[A\u001b[1G\u001b[?25h\u001b[?2026l\u001b[?2026h\u001b[?25l\u001b[A\u001b[A\u001b[A\u001b[A\u001b[A\u001b[A\u001b[A\u001b[1G\u001b[?25h\u001b[?2026l\u001b[?2026h\u001b[?25l\u001b[A\u001b[A\u001b[A\u001b[A\u001b[A\u001b[A\u001b[A\u001b[1G\u001b[?25h\u001b[?2026l\u001b[?2026h\u001b[?25l\u001b[A\u001b[A\u001b[A\u001b[A\u001b[A\u001b[A\u001b[A\u001b[1G\u001b[?25h\u001b[?2026l\u001b[?2026h\u001b[?25l\u001b[A\u001b[A\u001b[A\u001b[A\u001b[A\u001b[A\u001b[A\u001b[1G\u001b[?25h\u001b[?2026l\u001b[?2026h\u001b[?25l\u001b[A\u001b[A\u001b[A\u001b[A\u001b[A\u001b[A\u001b[A\u001b[1G\u001b[?25h\u001b[?2026l\u001b[?2026h\u001b[?25l\u001b[A\u001b[A\u001b[A\u001b[A\u001b[A\u001b[A\u001b[A\u001b[1G\u001b[?25h\u001b[?2026l\u001b[?2026h\u001b[?25l\u001b[A\u001b[A\u001b[A\u001b[A\u001b[A\u001b[A\u001b[A\u001b[1G\u001b[?25h\u001b[?2026l\u001b[?2026h\u001b[?25l\u001b[A\u001b[A\u001b[A\u001b[A\u001b[A\u001b[A\u001b[A\u001b[1G\u001b[?25h\u001b[?2026l\u001b[?2026h\u001b[?25l\u001b[A\u001b[A\u001b[A\u001b[A\u001b[A\u001b[A\u001b[A\u001b[1G\u001b[?25h\u001b[?2026l\u001b[?2026h\u001b[?25l\u001b[A\u001b[A\u001b[A\u001b[A\u001b[A\u001b[A\u001b[A\u001b[1G\u001b[?25h\u001b[?2026l\u001b[?2026h\u001b[?25l\u001b[A\u001b[A\u001b[A\u001b[A\u001b[A\u001b[A\u001b[A\u001b[1G\u001b[?25h\u001b[?2026l\u001b[?2026h\u001b[?25l\u001b[A\u001b[A\u001b[A\u001b[A\u001b[A\u001b[A\u001b[A\u001b[1G\u001b[?25h\u001b[?2026l\u001b[?2026h\u001b[?25l\u001b[A\u001b[A\u001b[A\u001b[A\u001b[A\u001b[A\u001b[A\u001b[1G\u001b[?25h\u001b[?2026l\u001b[?2026h\u001b[?25l\u001b[A\u001b[A\u001b[A\u001b[A\u001b[A\u001b[A\u001b[A\u001b[1G\u001b[?25h\u001b[?2026l\u001b[?2026h\u001b[?25l\u001b[A\u001b[A\u001b[A\u001b[A\u001b[A\u001b[A\u001b[A\u001b[1G\u001b[?25h\u001b[?2026l\u001b[?2026h\u001b[?25l\u001b[A\u001b[A\u001b[A\u001b[A\u001b[A\u001b[A\u001b[A\u001b[1G\u001b[?25h\u001b[?2026l\u001b[?2026h\u001b[?25l\u001b[A\u001b[A\u001b[A\u001b[A\u001b[A\u001b[A\u001b[A\u001b[1G\u001b[?25h\u001b[?2026l\u001b[?2026h\u001b[?25l\u001b[A\u001b[A\u001b[A\u001b[A\u001b[A\u001b[A\u001b[A\u001b[1G\u001b[?25h\u001b[?2026l\u001b[?2026h\u001b[?25l\u001b[A\u001b[A\u001b[A\u001b[A\u001b[A\u001b[A\u001b[A\u001b[1G\u001b[?25h\u001b[?2026l\u001b[?2026h\u001b[?25l\u001b[A\u001b[A\u001b[A\u001b[A\u001b[A\u001b[A\u001b[A\u001b[1G\u001b[?25h\u001b[?2026l\u001b[?2026h\u001b[?25l\u001b[A\u001b[A\u001b[A\u001b[A\u001b[A\u001b[A\u001b[A\u001b[1G\u001b[?25h\u001b[?2026l\u001b[?2026h\u001b[?25l\u001b[A\u001b[A\u001b[A\u001b[A\u001b[A\u001b[A\u001b[A\u001b[1G\u001b[?25h\u001b[?2026l\u001b[?2026h\u001b[?25l\u001b[A\u001b[A\u001b[A\u001b[A\u001b[A\u001b[A\u001b[A\u001b[1G\u001b[?25h\u001b[?2026l\u001b[?2026h\u001b[?25l\u001b[A\u001b[A\u001b[A\u001b[A\u001b[A\u001b[A\u001b[A\u001b[1G\u001b[?25h\u001b[?2026l\u001b[?2026h\u001b[?25l\u001b[A\u001b[A\u001b[A\u001b[A\u001b[A\u001b[A\u001b[A\u001b[1G\u001b[?25h\u001b[?2026l\u001b[?2026h\u001b[?25l\u001b[A\u001b[A\u001b[A\u001b[A\u001b[A\u001b[A\u001b[A\u001b[1G\u001b[?25h\u001b[?2026l\u001b[?2026h\u001b[?25l\u001b[A\u001b[A\u001b[A\u001b[A\u001b[A\u001b[A\u001b[A\u001b[1G\u001b[?25h\u001b[?2026l\u001b[?2026h\u001b[?25l\u001b[A\u001b[A\u001b[A\u001b[A\u001b[A\u001b[A\u001b[A\u001b[1G\u001b[?25h\u001b[?2026l\u001b[?2026h\u001b[?25l\u001b[A\u001b[A\u001b[A\u001b[A\u001b[A\u001b[A\u001b[A\u001b[1G\u001b[?25h\u001b[?2026l\u001b[?2026h\u001b[?25l\u001b[A\u001b[A\u001b[A\u001b[A\u001b[A\u001b[A\u001b[A\u001b[1G\u001b[?25h\u001b[?2026l\u001b[?2026h\u001b[?25l\u001b[A\u001b[A\u001b[A\u001b[A\u001b[A\u001b[A\u001b[A\u001b[1G\u001b[?25h\u001b[?2026l\u001b[?2026h\u001b[?25l\u001b[A\u001b[A\u001b[A\u001b[A\u001b[A\u001b[A\u001b[A\u001b[1G\u001b[?25h\u001b[?2026l\u001b[?2026h\u001b[?25l\u001b[A\u001b[A\u001b[A\u001b[A\u001b[A\u001b[A\u001b[A\u001b[1G\u001b[?25h\u001b[?2026l\u001b[?2026h\u001b[?25l\u001b[A\u001b[A\u001b[A\u001b[A\u001b[A\u001b[A\u001b[A\u001b[1G\u001b[?25h\u001b[?2026l\u001b[?2026h\u001b[?25l\u001b[A\u001b[A\u001b[A\u001b[A\u001b[A\u001b[A\u001b[A\u001b[1G\u001b[?25h\u001b[?2026l\u001b[?2026h\u001b[?25l\u001b[A\u001b[A\u001b[A\u001b[A\u001b[A\u001b[A\u001b[A\u001b[1G\u001b[?25h\u001b[?2026l\u001b[?2026h\u001b[?25l\u001b[A\u001b[A\u001b[A\u001b[A\u001b[A\u001b[A\u001b[A\u001b[1G\u001b[?25h\u001b[?2026l\u001b[?2026h\u001b[?25l\u001b[A\u001b[A\u001b[A\u001b[A\u001b[A\u001b[A\u001b[A\u001b[1G\u001b[?25h\u001b[?2026l\u001b[?2026h\u001b[?25l\u001b[A\u001b[A\u001b[A\u001b[A\u001b[A\u001b[A\u001b[A\u001b[1G\u001b[?25h\u001b[?2026l\u001b[?2026h\u001b[?25l\u001b[A\u001b[A\u001b[A\u001b[A\u001b[A\u001b[A\u001b[A\u001b[1G\u001b[?25h\u001b[?2026l\u001b[?2026h\u001b[?25l\u001b[A\u001b[A\u001b[A\u001b[A\u001b[A\u001b[A\u001b[A\u001b[1G\u001b[?25h\u001b[?2026l\u001b[?2026h\u001b[?25l\u001b[A\u001b[A\u001b[A\u001b[A\u001b[A\u001b[A\u001b[A\u001b[1G\u001b[?25h\u001b[?2026l\u001b[?2026h\u001b[?25l\u001b[A\u001b[A\u001b[A\u001b[A\u001b[A\u001b[A\u001b[A\u001b[1G\u001b[?25h\u001b[?2026l\u001b[?2026h\u001b[?25l\u001b[A\u001b[A\u001b[A\u001b[A\u001b[A\u001b[A\u001b[A\u001b[1G\u001b[?25h\u001b[?2026l\u001b[?2026h\u001b[?25l\u001b[A\u001b[A\u001b[A\u001b[A\u001b[A\u001b[A\u001b[A\u001b[1G\u001b[?25h\u001b[?2026l\u001b[?2026h\u001b[?25l\u001b[A\u001b[A\u001b[A\u001b[A\u001b[A\u001b[A\u001b[A\u001b[1G\u001b[?25h\u001b[?2026l\u001b[?2026h\u001b[?25l\u001b[A\u001b[A\u001b[A\u001b[A\u001b[A\u001b[A\u001b[A\u001b[1G\u001b[?25h\u001b[?2026l\u001b[?2026h\u001b[?25l\u001b[A\u001b[A\u001b[A\u001b[A\u001b[A\u001b[A\u001b[A\u001b[1G\u001b[?25h\u001b[?2026l\u001b[?2026h\u001b[?25l\u001b[A\u001b[A\u001b[A\u001b[A\u001b[A\u001b[A\u001b[A\u001b[1G\u001b[?25h\u001b[?2026l\u001b[?2026h\u001b[?25l\u001b[A\u001b[A\u001b[A\u001b[A\u001b[A\u001b[A\u001b[A\u001b[1G\u001b[?25h\u001b[?2026l\u001b[?2026h\u001b[?25l\u001b[A\u001b[A\u001b[A\u001b[A\u001b[A\u001b[A\u001b[A\u001b[1G\u001b[?25h\u001b[?2026l\u001b[?2026h\u001b[?25l\u001b[A\u001b[A\u001b[A\u001b[A\u001b[A\u001b[A\u001b[A\u001b[1G\u001b[?25h\u001b[?2026l\u001b[?2026h\u001b[?25l\u001b[A\u001b[A\u001b[A\u001b[A\u001b[A\u001b[A\u001b[A\u001b[1G\u001b[?25h\u001b[?2026l\u001b[?2026h\u001b[?25l\u001b[A\u001b[A\u001b[A\u001b[A\u001b[A\u001b[A\u001b[A\u001b[1G\u001b[?25h\u001b[?2026l\u001b[?2026h\u001b[?25l\u001b[A\u001b[A\u001b[A\u001b[A\u001b[A\u001b[A\u001b[A\u001b[1G\u001b[?25h\u001b[?2026l\u001b[?2026h\u001b[?25l\u001b[A\u001b[A\u001b[A\u001b[A\u001b[A\u001b[A\u001b[A\u001b[1G\u001b[?25h\u001b[?2026l\u001b[?2026h\u001b[?25l\u001b[A\u001b[A\u001b[A\u001b[A\u001b[A\u001b[A\u001b[A\u001b[1G\u001b[?25h\u001b[?2026l\u001b[?2026h\u001b[?25l\u001b[A\u001b[A\u001b[A\u001b[A\u001b[A\u001b[A\u001b[A\u001b[1G\u001b[?25h\u001b[?2026l\u001b[?2026h\u001b[?25l\u001b[A\u001b[A\u001b[A\u001b[A\u001b[A\u001b[A\u001b[A\u001b[1G\u001b[?25h\u001b[?2026l\u001b[?2026h\u001b[?25l\u001b[A\u001b[A\u001b[A\u001b[A\u001b[A\u001b[A\u001b[A\u001b[1G\u001b[?25h\u001b[?2026l\u001b[?2026h\u001b[?25l\u001b[A\u001b[A\u001b[A\u001b[A\u001b[A\u001b[A\u001b[A\u001b[1G\u001b[?25h\u001b[?2026l\u001b[?2026h\u001b[?25l\u001b[A\u001b[A\u001b[A\u001b[A\u001b[A\u001b[A\u001b[A\u001b[1G\u001b[?25h\u001b[?2026l\u001b[?2026h\u001b[?25l\u001b[A\u001b[A\u001b[A\u001b[A\u001b[A\u001b[A\u001b[A\u001b[1G\u001b[?25h\u001b[?2026l\u001b[?2026h\u001b[?25l\u001b[A\u001b[A\u001b[A\u001b[A\u001b[A\u001b[A\u001b[A\u001b[1G\u001b[?25h\u001b[?2026l\u001b[?2026h\u001b[?25l\u001b[A\u001b[A\u001b[A\u001b[A\u001b[A\u001b[A\u001b[A\u001b[1G\u001b[?25h\u001b[?2026l\u001b[?2026h\u001b[?25l\u001b[A\u001b[A\u001b[A\u001b[A\u001b[A\u001b[A\u001b[A\u001b[1G\u001b[?25h\u001b[?2026l\u001b[?2026h\u001b[?25l\u001b[A\u001b[A\u001b[A\u001b[A\u001b[A\u001b[A\u001b[A\u001b[1G\u001b[?25h\u001b[?2026l\u001b[?2026h\u001b[?25l\u001b[A\u001b[A\u001b[A\u001b[A\u001b[A\u001b[A\u001b[A\u001b[1G\u001b[?25h\u001b[?2026l\u001b[?2026h\u001b[?25l\u001b[A\u001b[A\u001b[A\u001b[A\u001b[A\u001b[A\u001b[A\u001b[1G\u001b[?25h\u001b[?2026l\u001b[?2026h\u001b[?25l\u001b[A\u001b[A\u001b[A\u001b[A\u001b[A\u001b[A\u001b[A\u001b[1G\u001b[?25h\u001b[?2026l\u001b[?2026h\u001b[?25l\u001b[A\u001b[A\u001b[A\u001b[A\u001b[A\u001b[A\u001b[A\u001b[1G\u001b[?25h\u001b[?2026l\u001b[?2026h\u001b[?25l\u001b[A\u001b[A\u001b[A\u001b[A\u001b[A\u001b[A\u001b[A\u001b[1G\u001b[?25h\u001b[?2026l\u001b[?2026h\u001b[?25l\u001b[A\u001b[A\u001b[A\u001b[A\u001b[A\u001b[A\u001b[A\u001b[1G\u001b[?25h\u001b[?2026l\u001b[?2026h\u001b[?25l\u001b[A\u001b[A\u001b[A\u001b[A\u001b[A\u001b[A\u001b[A\u001b[1G\u001b[?25h\u001b[?2026l\u001b[?2026h\u001b[?25l\u001b[A\u001b[A\u001b[A\u001b[A\u001b[A\u001b[A\u001b[A\u001b[1G\u001b[?25h\u001b[?2026l\u001b[?2026h\u001b[?25l\u001b[A\u001b[A\u001b[A\u001b[A\u001b[A\u001b[A\u001b[A\u001b[1G\u001b[?25h\u001b[?2026l\u001b[?2026h\u001b[?25l\u001b[A\u001b[A\u001b[A\u001b[A\u001b[A\u001b[A\u001b[A\u001b[1G\u001b[?25h\u001b[?2026l\u001b[?2026h\u001b[?25l\u001b[A\u001b[A\u001b[A\u001b[A\u001b[A\u001b[A\u001b[A\u001b[1G\u001b[?25h\u001b[?2026l\u001b[?2026h\u001b[?25l\u001b[A\u001b[A\u001b[A\u001b[A\u001b[A\u001b[A\u001b[A\u001b[1G\u001b[?25h\u001b[?2026l\u001b[?2026h\u001b[?25l\u001b[A\u001b[A\u001b[A\u001b[A\u001b[A\u001b[A\u001b[A\u001b[1G\u001b[?25h\u001b[?2026l\u001b[?2026h\u001b[?25l\u001b[A\u001b[A\u001b[A\u001b[A\u001b[A\u001b[A\u001b[A\u001b[1G\u001b[?25h\u001b[?2026l\u001b[?2026h\u001b[?25l\u001b[A\u001b[A\u001b[A\u001b[A\u001b[A\u001b[A\u001b[A\u001b[1G\u001b[?25h\u001b[?2026l\u001b[?2026h\u001b[?25l\u001b[A\u001b[A\u001b[A\u001b[A\u001b[A\u001b[A\u001b[A\u001b[1G\u001b[?25h\u001b[?2026l\u001b[?2026h\u001b[?25l\u001b[A\u001b[A\u001b[A\u001b[A\u001b[A\u001b[A\u001b[A\u001b[1G\u001b[?25h\u001b[?2026l\u001b[?2026h\u001b[?25l\u001b[A\u001b[A\u001b[A\u001b[A\u001b[A\u001b[A\u001b[A\u001b[1G\u001b[?25h\u001b[?2026l\u001b[?2026h\u001b[?25l\u001b[A\u001b[A\u001b[A\u001b[A\u001b[A\u001b[A\u001b[A\u001b[1G\u001b[?25h\u001b[?2026l\u001b[?2026h\u001b[?25l\u001b[A\u001b[A\u001b[A\u001b[A\u001b[A\u001b[A\u001b[A\u001b[1G\u001b[?25h\u001b[?2026l\u001b[?2026h\u001b[?25l\u001b[A\u001b[A\u001b[A\u001b[A\u001b[A\u001b[A\u001b[A\u001b[1G\u001b[?25h\u001b[?2026l\u001b[?2026h\u001b[?25l\u001b[A\u001b[A\u001b[A\u001b[A\u001b[A\u001b[A\u001b[A\u001b[1G\u001b[?25h\u001b[?2026l\u001b[?2026h\u001b[?25l\u001b[A\u001b[A\u001b[A\u001b[A\u001b[A\u001b[A\u001b[A\u001b[1G\u001b[?25h\u001b[?2026l\u001b[?2026h\u001b[?25l\u001b[A\u001b[A\u001b[A\u001b[A\u001b[A\u001b[A\u001b[A\u001b[1G\u001b[?25h\u001b[?2026l\u001b[?2026h\u001b[?25l\u001b[A\u001b[A\u001b[A\u001b[A\u001b[A\u001b[A\u001b[A\u001b[1G\u001b[?25h\u001b[?2026l\u001b[?2026h\u001b[?25l\u001b[A\u001b[A\u001b[A\u001b[A\u001b[A\u001b[A\u001b[A\u001b[1G\u001b[?25h\u001b[?2026l\u001b[?2026h\u001b[?25l\u001b[A\u001b[A\u001b[A\u001b[A\u001b[A\u001b[A\u001b[A\u001b[1G\u001b[?25h\u001b[?2026l\u001b[?2026h\u001b[?25l\u001b[A\u001b[A\u001b[A\u001b[A\u001b[A\u001b[A\u001b[A\u001b[1G\u001b[?25h\u001b[?2026l\u001b[?2026h\u001b[?25l\u001b[A\u001b[A\u001b[A\u001b[A\u001b[A\u001b[A\u001b[A\u001b[1G\u001b[?25h\u001b[?2026l\u001b[?2026h\u001b[?25l\u001b[A\u001b[A\u001b[A\u001b[A\u001b[A\u001b[A\u001b[A\u001b[1G\u001b[?25h\u001b[?2026l\u001b[?2026h\u001b[?25l\u001b[A\u001b[A\u001b[A\u001b[A\u001b[A\u001b[A\u001b[A\u001b[1G\u001b[?25h\u001b[?2026l\u001b[?2026h\u001b[?25l\u001b[A\u001b[A\u001b[A\u001b[A\u001b[A\u001b[A\u001b[A\u001b[1G\u001b[?25h\u001b[?2026l\u001b[?2026h\u001b[?25l\u001b[A\u001b[A\u001b[A\u001b[A\u001b[A\u001b[A\u001b[A\u001b[1G\u001b[?25h\u001b[?2026l\u001b[?2026h\u001b[?25l\u001b[A\u001b[A\u001b[A\u001b[A\u001b[A\u001b[A\u001b[A\u001b[1G\u001b[?25h\u001b[?2026l\u001b[?2026h\u001b[?25l\u001b[A\u001b[A\u001b[A\u001b[A\u001b[A\u001b[A\u001b[A\u001b[1G\u001b[?25h\u001b[?2026l\u001b[?2026h\u001b[?25l\u001b[A\u001b[A\u001b[A\u001b[A\u001b[A\u001b[A\u001b[A\u001b[1G\u001b[?25h\u001b[?2026l\u001b[?2026h\u001b[?25l\u001b[A\u001b[A\u001b[A\u001b[A\u001b[A\u001b[A\u001b[A\u001b[1G\u001b[?25h\u001b[?2026l\u001b[?2026h\u001b[?25l\u001b[A\u001b[A\u001b[A\u001b[A\u001b[A\u001b[A\u001b[A\u001b[1G\u001b[?25h\u001b[?2026l\u001b[?2026h\u001b[?25l\u001b[A\u001b[A\u001b[A\u001b[A\u001b[A\u001b[A\u001b[A\u001b[1G\u001b[?25h\u001b[?2026l\u001b[?2026h\u001b[?25l\u001b[A\u001b[A\u001b[A\u001b[A\u001b[A\u001b[A\u001b[A\u001b[1G\u001b[?25h\u001b[?2026l\u001b[?2026h\u001b[?25l\u001b[A\u001b[A\u001b[A\u001b[A\u001b[A\u001b[A\u001b[A\u001b[1G\u001b[?25h\u001b[?2026l\u001b[?2026h\u001b[?25l\u001b[A\u001b[A\u001b[A\u001b[A\u001b[A\u001b[A\u001b[A\u001b[1G\u001b[?25h\u001b[?2026l\u001b[?2026h\u001b[?25l\u001b[A\u001b[A\u001b[A\u001b[A\u001b[A\u001b[A\u001b[A\u001b[1G\u001b[?25h\u001b[?2026l\u001b[?2026h\u001b[?25l\u001b[A\u001b[A\u001b[A\u001b[A\u001b[A\u001b[A\u001b[A\u001b[1G\u001b[?25h\u001b[?2026l\u001b[?2026h\u001b[?25l\u001b[A\u001b[A\u001b[A\u001b[A\u001b[A\u001b[A\u001b[A\u001b[1G\u001b[?25h\u001b[?2026l\u001b[?2026h\u001b[?25l\u001b[A\u001b[A\u001b[A\u001b[A\u001b[A\u001b[A\u001b[A\u001b[1G\u001b[?25h\u001b[?2026l\u001b[?2026h\u001b[?25l\u001b[A\u001b[A\u001b[A\u001b[A\u001b[A\u001b[A\u001b[A\u001b[1G\u001b[?25h\u001b[?2026l\u001b[?2026h\u001b[?25l\u001b[A\u001b[A\u001b[A\u001b[A\u001b[A\u001b[A\u001b[A\u001b[1G\u001b[?25h\u001b[?2026l\u001b[?2026h\u001b[?25l\u001b[A\u001b[A\u001b[A\u001b[A\u001b[A\u001b[A\u001b[A\u001b[1G\u001b[?25h\u001b[?2026l\u001b[?2026h\u001b[?25l\u001b[A\u001b[A\u001b[A\u001b[A\u001b[A\u001b[A\u001b[A\u001b[1G\u001b[?25h\u001b[?2026l\u001b[?2026h\u001b[?25l\u001b[A\u001b[A\u001b[A\u001b[A\u001b[A\u001b[A\u001b[A\u001b[1G\u001b[?25h\u001b[?2026l\n"
          ]
        }
      ]
    },
    {
      "cell_type": "code",
      "source": [
        "!ollama list"
      ],
      "metadata": {
        "colab": {
          "base_uri": "https://localhost:8080/"
        },
        "id": "clAU3Ao_ZUW5",
        "outputId": "fb7b387c-1216-42cc-cbc4-e6db8e27ced3"
      },
      "execution_count": 53,
      "outputs": [
        {
          "output_type": "stream",
          "name": "stdout",
          "text": [
            "NAME                                  ID              SIZE      MODIFIED       \n",
            "scb10x/typhoon2.1-gemma3-4b:latest    8cfab9097c9d    2.6 GB    19 seconds ago    \n",
            "gemma3:270m                           e7d36fb2c3b3    291 MB    2 minutes ago     \n"
          ]
        }
      ]
    },
    {
      "cell_type": "code",
      "source": [
        "llm3 = OllamaLLM(model=\"scb10x/typhoon2.1-gemma3-4b:latest\")"
      ],
      "metadata": {
        "id": "NwoYpphKZnhd"
      },
      "execution_count": 54,
      "outputs": []
    },
    {
      "cell_type": "code",
      "source": [
        "keyword_extract = keyword_prompt | llm3 | StrOutputParser()"
      ],
      "metadata": {
        "id": "xWaZWGDkZo8S"
      },
      "execution_count": 55,
      "outputs": []
    },
    {
      "cell_type": "code",
      "source": [
        "%%time\n",
        "results = []\n",
        "for review in sample_reviews:\n",
        "    text = keyword_extract.invoke({\"review\": review})\n",
        "    cleaned = (text).replace(\"**\", \"\").strip()\n",
        "    results.append({\"review\": review, \"text\": cleaned})"
      ],
      "metadata": {
        "colab": {
          "base_uri": "https://localhost:8080/"
        },
        "id": "5rwk39RTZqe3",
        "outputId": "f99ad3c5-106a-4a2d-bae5-1f6382ea6514"
      },
      "execution_count": 56,
      "outputs": [
        {
          "output_type": "stream",
          "name": "stdout",
          "text": [
            "CPU times: user 165 ms, sys: 15.2 ms, total: 180 ms\n",
            "Wall time: 21.9 s\n"
          ]
        }
      ]
    },
    {
      "cell_type": "code",
      "source": [
        "for result in results:\n",
        "    print(f\"Review {result['review'][:100]}...\")\n",
        "    print(f\"text {result['text']}\\n\")"
      ],
      "metadata": {
        "colab": {
          "base_uri": "https://localhost:8080/"
        },
        "id": "Xsn0FSgyZrzi",
        "outputId": "85c9e6f6-f426-4607-eb47-7244876516a2"
      },
      "execution_count": 57,
      "outputs": [
        {
          "output_type": "stream",
          "name": "stdout",
          "text": [
            "Review ร้านอาหารใหญ่มากกกกกกก \n",
            "เลี้ยวเข้ามาเจอห้องน้ำก่อนเลย เออแปลกดี \n",
            "ห้องทานหลักๆอยู่ชั้น 2 มีกาแฟ น้ำผึ...\n",
            "text แน่นอนครับ ผมจะช่วยคุณวิเคราะห์และสกัดคำสำคัญจากรีวิวนี้ตามขั้นตอนที่คุณระบุมา\n",
            "\n",
            "ขั้นตอนที่ 1: อ่านรีวิวและเข้าใจความหมาย\n",
            "\n",
            "รีวิวนี้เป็นความคิดเห็นเกี่ยวกับร้านอาหารแห่งหนึ่ง โดยผู้รีวิวให้ความเห็นเกี่ยวกับขนาดของร้าน, อาหาร, ราคา, และประสบการณ์โดยรวม\n",
            "\n",
            "ขั้นตอนที่ 2: ระบุหัวข้อหลักที่กล่าวถึง\n",
            "\n",
            "*   ขนาดร้าน\n",
            "*   อาหาร (ลาบไข่ต้ม, ทอดมันหัวปลี, พะแนงห่อไข่, ขนมหวาน)\n",
            "*   ราคา\n",
            "\n",
            "ขั้นตอนที่ 3: เลือก 3 keywords ที่สำคัญที่สุด\n",
            "\n",
            "จากข้อมูลข้างต้น ผมเลือกคำเหล่านี้เป็น keywords ที่สำคัญที่สุด:\n",
            "\n",
            "1.  ราคา (แพง)\n",
            "2.  อาหาร (ลาบไข่ต้ม, ทอดมันหัวปลี, พะแนงห่อไข่)\n",
            "3.  ขนาด (ใหญ่)\n",
            "\n",
            "ขั้นตอนที่ 4: ตอบในรูปแบบ JSON\n",
            "\n",
            "```json\n",
            "{\n",
            "  \"keywords\": [\"ราคา\", \"อาหาร\", \"ขนาด\"]\n",
            "}\n",
            "```\n",
            "\n",
            "หวังว่าคำตอบนี้จะเป็นประโยชน์นะครับ หากคุณต้องการให้ผมช่วยอะไรเพิ่มเติม โปรดแจ้งให้ทราบได้เลย\n",
            "\n",
            "Review วันนี้ได้มีโอกาสไปนั่งซดกาแฟที่ร้านวาวี แถวๆอารีย์\n",
            "\n",
            "ก็ได้ยินมาบ่อยๆละ จากหลายที่ แต่ที่บ่อยสุดก็จาก ...\n",
            "text แน่นอนครับ ผมจะทำตามขั้นตอนที่คุณแนะนำมาเพื่อดึงคำสำคัญจากรีวิวนี้ครับ\n",
            "\n",
            "ขั้นตอนที่ 1: อ่านรีวิวและเข้าใจความหมาย\n",
            "\n",
            "รีวิวนี้พูดถึงประสบการณ์การไปดื่มกาแฟที่ร้าน \"วาวี\" ในย่านอารีย์ โดยเน้นไปที่รสชาติของกาแฟ บรรยากาศของร้าน การบริการ และราคา\n",
            "\n",
            "ขั้นตอนที่ 2: ระบุหัวข้อหลักที่กล่าวถึง\n",
            "\n",
            "หัวข้อหลักที่กล่าวถึงในรีวิวนี้ ได้แก่:\n",
            "*   รสชาติกาแฟ (ลาเต้, กลิ่นหอม, รสชาติ)\n",
            "*   บรรยากาศร้าน (สีเขียว, วิว)\n",
            "*   การบริการ (เสิร์ฟถึงที่)\n",
            "*   ราคา (ไม่แพง)\n",
            "\n",
            "ขั้นตอนที่ 3: เลือก 3 keywords ที่สำคัญที่สุด\n",
            "\n",
            "จากหัวข้อหลักที่กล่าวถึง ผมเลือกคำสำคัญ 3 คำ ได้แก่:\n",
            "*   กาแฟ\n",
            "*   บรรยากาศ\n",
            "*   รสชาติ\n",
            "\n",
            "ขั้นตอนที่ 4: ตอบในรูปแบบ JSON\n",
            "\n",
            "```json\n",
            "{\n",
            "  \"keywords\": [\"กาแฟ\", \"บรรยากาศ\", \"รสชาติ\"]\n",
            "}\n",
            "```\n",
            "\n",
            "หวังว่าการดึงคำสำคัญนี้จะเป็นประโยชน์นะครับ หากคุณมีคำถามเพิ่มเติมหรือต้องการให้ผมช่วยอะไรอีก สามารถแจ้งได้เลยครับ\n",
            "\n"
          ]
        }
      ]
    },
    {
      "cell_type": "code",
      "source": [
        "from pydantic import BaseModel, Field\n",
        "from langchain_core.output_parsers import JsonOutputParser\n",
        "\n",
        "class ReviewKeywords(BaseModel):\n",
        "    keywords: str = Field(\n",
        "        ...,  # Required field\n",
        "        description=\"3 keywords separated by comma\",\n",
        "        examples=[\"กาแฟ, บรรยากาศ, ราคา\"]\n",
        "    )\n",
        "\n",
        "class KeywordsExtraction(BaseModel):\n",
        "    extracted_qualities: ReviewKeywords"
      ],
      "metadata": {
        "id": "ZoAFWCDmZwTB"
      },
      "execution_count": 58,
      "outputs": []
    },
    {
      "cell_type": "code",
      "source": [
        "keywords_parser = JsonOutputParser(pydantic_object=KeywordsExtraction)"
      ],
      "metadata": {
        "id": "ka91SadlZ1fV"
      },
      "execution_count": 59,
      "outputs": []
    },
    {
      "cell_type": "code",
      "source": [
        "keyword_extract = keyword_prompt | llm3 | keywords_parser"
      ],
      "metadata": {
        "id": "2HWs7_06Z2_h"
      },
      "execution_count": 60,
      "outputs": []
    },
    {
      "cell_type": "code",
      "source": [
        "%%time\n",
        "results = []\n",
        "for review in sample_reviews:\n",
        "    text = keyword_extract.invoke({\"review\": review})\n",
        "    results.append({\"review\": review, \"text\": text})"
      ],
      "metadata": {
        "colab": {
          "base_uri": "https://localhost:8080/"
        },
        "id": "rBs0GnWmZ4jQ",
        "outputId": "2a256364-b851-47da-cbf1-99775b5bc590"
      },
      "execution_count": 61,
      "outputs": [
        {
          "output_type": "stream",
          "name": "stdout",
          "text": [
            "CPU times: user 168 ms, sys: 13.9 ms, total: 181 ms\n",
            "Wall time: 15.2 s\n"
          ]
        }
      ]
    },
    {
      "cell_type": "code",
      "source": [
        "results[0]['text']['keywords']"
      ],
      "metadata": {
        "colab": {
          "base_uri": "https://localhost:8080/"
        },
        "id": "rp_ru3JQZ55T",
        "outputId": "50b5b956-2e88-4642-b345-135a220fdccb"
      },
      "execution_count": 62,
      "outputs": [
        {
          "output_type": "execute_result",
          "data": {
            "text/plain": [
              "['ราคา', 'อาหาร', 'ขนาด']"
            ]
          },
          "metadata": {},
          "execution_count": 62
        }
      ]
    },
    {
      "cell_type": "code",
      "source": [
        "results[1]['text']['keywords']"
      ],
      "metadata": {
        "colab": {
          "base_uri": "https://localhost:8080/"
        },
        "id": "cVlaMaKoZ71v",
        "outputId": "20874c7d-c7c6-4ad7-e1eb-46562203c5e7"
      },
      "execution_count": 63,
      "outputs": [
        {
          "output_type": "execute_result",
          "data": {
            "text/plain": [
              "['วาวี', 'ลาเต้', 'บรรยากาศ']"
            ]
          },
          "metadata": {},
          "execution_count": 63
        }
      ]
    },
    {
      "cell_type": "code",
      "source": [
        "llm3 = OllamaLLM(\n",
        "    model=\"scb10x/typhoon2.1-gemma3-4b\",\n",
        "    temperature=0.05\n",
        ")\n",
        "\n",
        "keyword_extract = keyword_prompt | llm3 | keywords_parser"
      ],
      "metadata": {
        "id": "58li7PszZ9MP"
      },
      "execution_count": 64,
      "outputs": []
    },
    {
      "cell_type": "code",
      "source": [
        "%%time\n",
        "results = []\n",
        "for review in sample_reviews:\n",
        "    text = keyword_extract.invoke({\"review\": review})\n",
        "    results.append({\"review\": review, \"text\": text})"
      ],
      "metadata": {
        "colab": {
          "base_uri": "https://localhost:8080/"
        },
        "id": "OKzF-NHUZ_w_",
        "outputId": "c24fcfa4-d2a3-4970-d161-0185a0d79a74"
      },
      "execution_count": 65,
      "outputs": [
        {
          "output_type": "stream",
          "name": "stdout",
          "text": [
            "CPU times: user 186 ms, sys: 10.8 ms, total: 197 ms\n",
            "Wall time: 17.2 s\n"
          ]
        }
      ]
    },
    {
      "cell_type": "code",
      "source": [
        "results[0]['text']['keywords'], results[1]['text']['keywords']"
      ],
      "metadata": {
        "colab": {
          "base_uri": "https://localhost:8080/"
        },
        "id": "0Ao5G8NTaBGS",
        "outputId": "e7322bbe-454f-4bd8-fea9-defe0b89b1c6"
      },
      "execution_count": 66,
      "outputs": [
        {
          "output_type": "execute_result",
          "data": {
            "text/plain": [
              "(['ราคา', 'อาหาร', 'ขนาด'], ['กาแฟ', 'บรรยากาศ', 'รสชาติ'])"
            ]
          },
          "metadata": {},
          "execution_count": 66
        }
      ]
    },
    {
      "cell_type": "code",
      "source": [
        "keyword_prompt = PromptTemplate(\n",
        "    template=\"\"\"จาก Review ต่อไปนี้\n",
        "    Extract keywords 3 keywords เท่านั้น ที่เป็นตัวแทนของ Review นี้ได้ดีที่สุด\n",
        "\n",
        "    Review: {review}\n",
        "\n",
        "    ตอบในรูปแบบ JSON โดยมีคีย์เป็น 'keywords'\n",
        "    และค่าเป็นข้อความที่ดึงได้คั่นด้วย comma\n",
        "    เช่น {{\"keywords\": \"กาแฟ, บรรยากาศ, ราคา\"}}\n",
        "\n",
        "    หากไม่พบข้อมูลให้ตอบ 'ไม่ระบุ'\n",
        "    \"\"\"\n",
        ")"
      ],
      "metadata": {
        "id": "gtU0Nco6aDCv"
      },
      "execution_count": 67,
      "outputs": []
    },
    {
      "cell_type": "code",
      "source": [
        "keyword_extract = keyword_prompt | llm3 | keywords_parser"
      ],
      "metadata": {
        "id": "bArFqkd-aFd5"
      },
      "execution_count": 68,
      "outputs": []
    },
    {
      "cell_type": "code",
      "source": [
        "inputs = [{\"review\": r} for r in sample_reviews]"
      ],
      "metadata": {
        "id": "rZX5Kw3zaG81"
      },
      "execution_count": 69,
      "outputs": []
    },
    {
      "cell_type": "code",
      "source": [
        "%%time\n",
        "results = keyword_extract.batch(inputs)"
      ],
      "metadata": {
        "colab": {
          "base_uri": "https://localhost:8080/"
        },
        "id": "_k2VJtnhaIik",
        "outputId": "085f9d3f-ed51-4f76-f067-7f98aefc9a99"
      },
      "execution_count": 70,
      "outputs": [
        {
          "output_type": "stream",
          "name": "stdout",
          "text": [
            "CPU times: user 22.7 ms, sys: 2.48 ms, total: 25.1 ms\n",
            "Wall time: 4.58 s\n"
          ]
        }
      ]
    },
    {
      "cell_type": "code",
      "source": [
        "results"
      ],
      "metadata": {
        "colab": {
          "base_uri": "https://localhost:8080/"
        },
        "id": "7DTMCZ_5aJz2",
        "outputId": "b55b155a-7e4a-48d9-a150-020ece43c7bb"
      },
      "execution_count": 71,
      "outputs": [
        {
          "output_type": "execute_result",
          "data": {
            "text/plain": [
              "[{'keywords': 'ราคา, บรรยากาศ, ไข่ต้ม'},\n",
              " {'keywords': 'กาแฟ, บรรยากาศ, รสชาติ'}]"
            ]
          },
          "metadata": {},
          "execution_count": 71
        }
      ]
    },
    {
      "cell_type": "code",
      "source": [
        "sample_reviews_100 = coffee_reviews_df['column0'].head(100).tolist()\n",
        "inputs_100 = [{\"review\": r} for r in sample_reviews_100]\n",
        "\n",
        "BATCH_SIZE = 8\n",
        "\n",
        "results_100 = []"
      ],
      "metadata": {
        "id": "CI4g8OVQaLWn"
      },
      "execution_count": 72,
      "outputs": []
    },
    {
      "cell_type": "code",
      "source": [
        "from tqdm import tqdm"
      ],
      "metadata": {
        "id": "5yr0PhMTaM9J"
      },
      "execution_count": 73,
      "outputs": []
    },
    {
      "cell_type": "code",
      "source": [
        "for i in tqdm(range(0, len(inputs_100), BATCH_SIZE), desc=\"Extracting keywords\"):\n",
        "    batch = inputs_100[i:i+BATCH_SIZE]\n",
        "    outputs = keyword_extract.batch(batch)\n",
        "    for inp, out in zip(batch, outputs):\n",
        "        results_100.append({\"review\": inp[\"review\"], \"text\": out})"
      ],
      "metadata": {
        "colab": {
          "base_uri": "https://localhost:8080/"
        },
        "id": "cI9YQlFnaOTX",
        "outputId": "d4217565-d34e-4f6b-a71b-79631a288928"
      },
      "execution_count": 74,
      "outputs": [
        {
          "output_type": "stream",
          "name": "stderr",
          "text": [
            "Extracting keywords: 100%|██████████| 13/13 [03:01<00:00, 13.92s/it]\n"
          ]
        }
      ]
    },
    {
      "cell_type": "code",
      "source": [
        "for result in results_100[0:10]:\n",
        "    print(result['text']['keywords'])"
      ],
      "metadata": {
        "colab": {
          "base_uri": "https://localhost:8080/"
        },
        "id": "00oNpVtQaPlS",
        "outputId": "f20f24ec-103e-4b66-a02e-5127c03ade45"
      },
      "execution_count": 75,
      "outputs": [
        {
          "output_type": "stream",
          "name": "stdout",
          "text": [
            "ราคา, บรรยากาศ, ไข่ต้ม\n",
            "กาแฟ, บรรยากาศ, รสชาติ\n",
            "โดนัท, รสชาติ, ความหวาน\n",
            "วาซาบิ, ปลาซาบะ, ข้าวหน้าปลา\n",
            "โดนัท, Original Glazed, คิว\n",
            "วังพญาไท, นรสิงห์, คาเฟ่\n",
            "อาหารทะเล, ราคา, บรรยากาศ\n",
            "กาแฟ, เค้ก, พนักงาน\n",
            "ฮันนี่ โทสท์, ราคา, รสชาติ\n",
            "คาเฟ่, วานิลลา, คาโบนาร่า\n"
          ]
        }
      ]
    },
    {
      "cell_type": "code",
      "source": [
        "context_prompt = PromptTemplate(\n",
        "    template=\"\"\"จาก Review ต่อไปนี้\n",
        "    Extract context ใน Review ที่เป็นตัวแทนที่บรรยายคำว่า {keyword} ได้ดีที่สุด\n",
        "\n",
        "    Review: {review}\n",
        "\n",
        "    ตอบผลลัพธ์ในรูปแบบ JSON โดยมีคีย์เป็น 'context'\n",
        "    และค่าเป็นข้อความที่ดึงได้จาก Review\n",
        "\n",
        "    ตัวอย่าง\n",
        "    keyword คือ \"กาแฟ\"\n",
        "    context: \"กาแฟที่นี่อร่อยมาก หอมกลิ่นกาแฟคั่วสด\"\n",
        "\n",
        "    หากไม่พบข้อมูลให้ตอบ 'ไม่ระบุ'\n",
        "    \"\"\"\n",
        ")"
      ],
      "metadata": {
        "id": "MZQzDhtnaReO"
      },
      "execution_count": 76,
      "outputs": []
    },
    {
      "cell_type": "code",
      "source": [
        "sentiment_prompt = PromptTemplate(\n",
        "    template=\"\"\"จากข้อความต่อไปนี้ ให้วิเคราะห์ว่าเป็น sentiment แบบไหน\n",
        "    เลือกจากตัวเลือกเหล่านี้เท่านั้น: \"positive\", \"negative\", \"neutral\"\n",
        "\n",
        "    ข้อความ: {message}\n",
        "\n",
        "    ตอบในรูปแบบ JSON โดยมีคีย์เป็น 'sentiment'\n",
        "    และค่าเป็นหนึ่งใน list ต่อไปนี้ [positive, negative, neutral]\n",
        "\n",
        "    คำแนะนำ\n",
        "    - positive คือ ข้อความที่แสดงความพอใจ ชอบ ดี\n",
        "    - negative คือ ข้อความที่แสดงความไม่พอใจ ไม่ชอบ แย่\n",
        "    - neutral คือ ข้อความที่ไม่แสดงความรู้สึกชัดเจน เป็นกลาง\n",
        "\n",
        "    # ตัวอย่าง\n",
        "    # ข้อความ \"อร่อยมาก\" → {{\"sentiment\": \"positive\"}}\n",
        "    # ข้อความ \"แพงไป\" → {{\"sentiment\": \"negative\"}}\n",
        "    # ข้อความ \"ปกติ\" → {{\"sentiment\": \"neutral\"}}\n",
        "    \"\"\"\n",
        ")"
      ],
      "metadata": {
        "id": "1_dcf5X_aTAu"
      },
      "execution_count": 77,
      "outputs": []
    },
    {
      "cell_type": "code",
      "source": [
        "class ContextKeyword(BaseModel):\n",
        "    context: str = Field(..., description=\"context that best represent this keyword\")\n",
        "\n",
        "class ContexExtraction(BaseModel):\n",
        "    extracted: ContextKeyword\n",
        "\n",
        "context_parser = JsonOutputParser(pydantic_object=ContexExtraction)"
      ],
      "metadata": {
        "id": "tnQOTmZ1aWL5"
      },
      "execution_count": 78,
      "outputs": []
    },
    {
      "cell_type": "code",
      "source": [
        "context_extract = context_prompt | llm3 | context_parser"
      ],
      "metadata": {
        "id": "yN3rfjoaaX34"
      },
      "execution_count": 79,
      "outputs": []
    },
    {
      "cell_type": "code",
      "source": [
        "class Sentiment(BaseModel):\n",
        "    sentiment: str = Field(..., description=\"sentiment of review\")\n",
        "\n",
        "class SentimentExtraction(BaseModel):\n",
        "    extracted: Sentiment\n",
        "\n",
        "\n",
        "sentiment_parser = JsonOutputParser(pydantic_object=SentimentExtraction)"
      ],
      "metadata": {
        "id": "PQoQRINYaZTX"
      },
      "execution_count": 80,
      "outputs": []
    },
    {
      "cell_type": "code",
      "source": [
        "sentiment_extract = sentiment_prompt | llm3 | sentiment_parser"
      ],
      "metadata": {
        "id": "7e_0NMFqabF_"
      },
      "execution_count": 81,
      "outputs": []
    },
    {
      "cell_type": "code",
      "source": [
        "results_100[0]['text']['keywords'].split(',')"
      ],
      "metadata": {
        "colab": {
          "base_uri": "https://localhost:8080/"
        },
        "id": "ujwGISO5aca5",
        "outputId": "178f0ee3-df77-437a-f13b-6b3e5a1fb211"
      },
      "execution_count": 82,
      "outputs": [
        {
          "output_type": "execute_result",
          "data": {
            "text/plain": [
              "['ราคา', ' บรรยากาศ', ' ไข่ต้ม']"
            ]
          },
          "metadata": {},
          "execution_count": 82
        }
      ]
    },
    {
      "cell_type": "code",
      "source": [
        "context_inputs = []\n",
        "\n",
        "for review_data in tqdm(results_100, desc=\"Preparing context inputs\"):\n",
        "    review = review_data['review']\n",
        "    keywords = review_data['text']['keywords'].split(',')\n",
        "    for keyword in keywords:\n",
        "        context_inputs.append({\"review\": review, \"keyword\": keyword.strip()})"
      ],
      "metadata": {
        "colab": {
          "base_uri": "https://localhost:8080/"
        },
        "id": "xzgIsaUjadmh",
        "outputId": "607cbacf-cd1d-4d3d-d030-a90413f43717"
      },
      "execution_count": 83,
      "outputs": [
        {
          "output_type": "stream",
          "name": "stderr",
          "text": [
            "Preparing context inputs: 100%|██████████| 100/100 [00:00<00:00, 61239.66it/s]\n"
          ]
        }
      ]
    },
    {
      "cell_type": "code",
      "source": [
        "len(context_inputs)"
      ],
      "metadata": {
        "colab": {
          "base_uri": "https://localhost:8080/"
        },
        "id": "2zqMsdntagtv",
        "outputId": "4f428b38-279a-44fd-ae94-ce41e6b12f67"
      },
      "execution_count": 84,
      "outputs": [
        {
          "output_type": "execute_result",
          "data": {
            "text/plain": [
              "300"
            ]
          },
          "metadata": {},
          "execution_count": 84
        }
      ]
    },
    {
      "cell_type": "code",
      "source": [
        "context_results = []\n",
        "for i in tqdm(range(len(results_100)), desc=\"Extracting contexts\"):\n",
        "   result = context_extract.batch(context_inputs[i*3:(i*3)+3])\n",
        "   contexts_list = [d['context'] for d in result]\n",
        "   results_100[i]['contexts'] = contexts_list"
      ],
      "metadata": {
        "colab": {
          "base_uri": "https://localhost:8080/"
        },
        "id": "54KJh4DHaiOX",
        "outputId": "ea962f34-374d-4f5a-b68d-3a0166ff98b1"
      },
      "execution_count": 85,
      "outputs": [
        {
          "output_type": "stream",
          "name": "stderr",
          "text": [
            "Extracting contexts: 100%|██████████| 100/100 [09:32<00:00,  5.72s/it]\n"
          ]
        }
      ]
    },
    {
      "cell_type": "code",
      "source": [
        "results_100[:2]"
      ],
      "metadata": {
        "colab": {
          "base_uri": "https://localhost:8080/"
        },
        "id": "x17uRkYIajiz",
        "outputId": "d1c51fc2-0ff6-428c-b611-412da3ae386f"
      },
      "execution_count": 86,
      "outputs": [
        {
          "output_type": "execute_result",
          "data": {
            "text/plain": [
              "[{'review': 'ร้านอาหารใหญ่มากกกกกกก \\nเลี้ยวเข้ามาเจอห้องน้ำก่อนเลย เออแปลกดี \\nห้องทานหลักๆอยู่ชั้น 2 มีกาแฟ น้ำผึ้ง ซึ่งก็แค่เอาน้ำผึ้งมาราด แพงเวอร์ อย่าสั่งเลย \\nลาบไข่ต้ม ไข่มันคาวอะ เลยไม่ประทับใจเท่าไหร่\\nทอดมันหัวปลีกรอบอร่อยต้องเบิ้ล \\nพะแนงห่อไข่อร่อยดี เห้ยแต่ราคา 150บาทมันเกินไปนะ รับไม่ไหวว\\nเลิกกินแล้วมีขนมหวานให้กินฟรีเล็กน้อย )ขนมไทย) \\n\\nคงไม่ไปซ้ำ แพงเกิน ',\n",
              "  'text': {'keywords': 'ราคา, บรรยากาศ, ไข่ต้ม'},\n",
              "  'contexts': ['ราคา 150 บาทมันเกินไปนะ รับไม่ไหวว',\n",
              "   'บรรยากาศร้านใหญ่มากกกกกกก',\n",
              "   'ลาบไข่ต้ม ไข่มันคาวอะ เลยไม่ประทับใจเท่าไหร่']},\n",
              " {'review': 'วันนี้ได้มีโอกาสไปนั่งซดกาแฟที่ร้านวาวี แถวๆอารีย์\\n\\nก็ได้ยินมาบ่อยๆละ จากหลายที่ แต่ที่บ่อยสุดก็จาก Twitter ว่ากาแฟที่นี่อร่อยมากกกกกกก\\nเรียกว่าระดับแฟนๆ Starbuck ยังต้องเหลียวมามอง ก็ดองมานานจนถึงวันนี้โอกาสเหมาะ ไป\\npresent งานที่ตึก Software Park เสร็จก็เลยมาหาไรกินแถวนี้พอดี\\nจัดไป.....\\n\\n\\nบรรยากาศรอบๆร้านก็แต่งได้น่านั่ง อารมณ์ประมาณว่าอยู่ในสวนบ้านเราเอง ต้นไม้เยอะดี\\nอย่างน้อยก็เป็นสีเขียวเล็กๆ ในใจกลางเมืองได้ละ\\nเขียวชอุ่ม\\n\\nว่าแล้วไม่รอช้าขอ Test ไม่สิ Taste เลยดีกว่าเดินเข้าร้านทันใด ป้าบบ...\\n\\n\"พี่คับ เอา...ลาเต้ ร้อนแก้วนึงคับ\"\\nว่างๆ มานั่งจิบกาแฟ ฟังเพลง พักผ่อนได้ดีทีเดียว\\n\\nจ่ายตังเสร็จ ก็ถูกพนักงานอัญเชิญไปรอที่โต๊ะ 55+ เพราะที่นี่เขาเสริฟให้ถึงที่ หุๆ\\nก็เลือกที่นั่งริมกระจก จะได้เห็นสาวๆ เอ้ย วิวถนัดๆหน่อย\\nนั่งชมวิวรอกาแฟมา\\n\\nไม่นานเกินอึดใจ ไวไวยังไม่ทันสุก ลาเต้ร้อนๆก็มาวางอยู่ข้างหน้า\\nซู้ดดดดดดด อ่าห์\\n\\nชำเลืองตามองลงไป....โอ้วว ที่นี่มีเล่นลายฟองนมด้วยเว้ยยย\\nแต่พอดีด้วยความตะกละไปนิดดันฉีกน้ำตาลเทใส่แล้วเผลอคน ก็เลยไม่ได้\\nถ่ายรูปมาให้ดู 55+ เหลือแต่ซากอารยธรรมลาเต้เมพๆ\\n\\n\\nหน้าตาผ่าน ที่นี่ก็รสชาติ 1...2.....ชู้ดดดดดดด\\nเฮ้ยยย นี่มัน....เมพพพพ ถึงเราจะไม่ค่อยรู้เรื่องกาแฟมากนัก แต่เท่าที่เคยลองชิมๆ\\nมา รสชาติและกลิ่นมันไม่ธรรมดาเลย หอมๆ ถือว่าเป็นมวยรุ่นเดียวกะ Starbuck ได้\\n\\n\\nเมนูอื่นๆ ลองชิม Coco ปั่น ของเพื่อนก็แหล่มไม่แพ้กัน วิปครีมหวานมัน โกโก้ก็หอม\\nส่วนเพื่อนอีกคนสั่งน้ำส้มกะเค้กช็อกโกแลตมันก็บอกว่าแจ่ม ......\\n\\n\\nสรุปก็คือ บรรยากาศก็ดี บริการก็ดี กาแฟอร่อย ราคาไม่แพง(แต่กินบ่อยก็จุกได้)\\nถ้าครายผ่านแถวอารีย์มากินเหอะ ซอยไรจำไม่ได้รู้แต่อยู่ตรงข้าม Villa ตรง BS อารีย์เลยอะ 55+\\n\\nถ่ายโดย : Tan\\nกล้อง : ซัมซวย Omnia i900 (สีภาพถึงได้ไม่ค่อยสวยเท่าไหร) ',\n",
              "  'text': {'keywords': 'กาแฟ, บรรยากาศ, รสชาติ'},\n",
              "  'contexts': ['กาแฟที่นี่อร่อยมากกกกกกก เรียกว่าระดับแฟนๆ Starbuck ยังต้องเหลียวมามอง',\n",
              "   'บรรยากาศรอบๆร้านก็แต่งได้น่านั่ง อารมณ์ประมาณว่าอยู่ในสวนบ้านเราเอง ต้นไม้เยอะดี อย่างน้อยก็เป็นสีเขียวเล็กๆ ในใจกลางเมืองได้ละ เขียวชอุ่ม',\n",
              "   'รสชาติและกลิ่นมันไม่ธรรมดาเลย หอมๆ ถือว่าเป็นมวยรุ่นเดียวกะ Starbuck ได้']}]"
            ]
          },
          "metadata": {},
          "execution_count": 86
        }
      ]
    },
    {
      "cell_type": "code",
      "source": [
        "sentiment_inputs = []\n",
        "\n",
        "for review_data in tqdm(results_100, desc=\"Preparing sentiment inputs\"):\n",
        "    contexts = review_data['contexts']\n",
        "    for context in contexts:\n",
        "        sentiment_inputs.append({\"message\": context})"
      ],
      "metadata": {
        "colab": {
          "base_uri": "https://localhost:8080/"
        },
        "id": "Zk153G0Lakzg",
        "outputId": "d6f3a4d0-91d3-4a85-9109-65ef93aab392"
      },
      "execution_count": 87,
      "outputs": [
        {
          "output_type": "stream",
          "name": "stderr",
          "text": [
            "Preparing sentiment inputs: 100%|██████████| 100/100 [00:00<00:00, 273244.56it/s]\n"
          ]
        }
      ]
    },
    {
      "cell_type": "code",
      "source": [
        "len(sentiment_inputs)"
      ],
      "metadata": {
        "colab": {
          "base_uri": "https://localhost:8080/"
        },
        "id": "bF1_FgB2amSv",
        "outputId": "a60a304f-4f4a-41c7-d0e6-9e1666676d2f"
      },
      "execution_count": 88,
      "outputs": [
        {
          "output_type": "execute_result",
          "data": {
            "text/plain": [
              "300"
            ]
          },
          "metadata": {},
          "execution_count": 88
        }
      ]
    },
    {
      "cell_type": "code",
      "source": [
        "sentiment_inputs[:6]"
      ],
      "metadata": {
        "colab": {
          "base_uri": "https://localhost:8080/"
        },
        "id": "w3MaWHYZannQ",
        "outputId": "cce844bc-5803-4c2b-842f-0cf6c48d67a7"
      },
      "execution_count": 89,
      "outputs": [
        {
          "output_type": "execute_result",
          "data": {
            "text/plain": [
              "[{'message': 'ราคา 150 บาทมันเกินไปนะ รับไม่ไหวว'},\n",
              " {'message': 'บรรยากาศร้านใหญ่มากกกกกกก'},\n",
              " {'message': 'ลาบไข่ต้ม ไข่มันคาวอะ เลยไม่ประทับใจเท่าไหร่'},\n",
              " {'message': 'กาแฟที่นี่อร่อยมากกกกกกก เรียกว่าระดับแฟนๆ Starbuck ยังต้องเหลียวมามอง'},\n",
              " {'message': 'บรรยากาศรอบๆร้านก็แต่งได้น่านั่ง อารมณ์ประมาณว่าอยู่ในสวนบ้านเราเอง ต้นไม้เยอะดี อย่างน้อยก็เป็นสีเขียวเล็กๆ ในใจกลางเมืองได้ละ เขียวชอุ่ม'},\n",
              " {'message': 'รสชาติและกลิ่นมันไม่ธรรมดาเลย หอมๆ ถือว่าเป็นมวยรุ่นเดียวกะ Starbuck ได้'}]"
            ]
          },
          "metadata": {},
          "execution_count": 89
        }
      ]
    },
    {
      "cell_type": "code",
      "source": [
        "for i in tqdm(range(len(results_100)), desc=\"Extracting sentiment\"):\n",
        "   result = sentiment_extract.batch(sentiment_inputs[i*3:(i*3)+3])\n",
        "   sentiment_list = [d['sentiment'] for d in result]\n",
        "   results_100[i]['sentiment'] = sentiment_list"
      ],
      "metadata": {
        "colab": {
          "base_uri": "https://localhost:8080/"
        },
        "id": "8QMTvXqAapAA",
        "outputId": "5b3e2635-b33d-4c1e-d801-62d8a69aaefb"
      },
      "execution_count": 90,
      "outputs": [
        {
          "output_type": "stream",
          "name": "stderr",
          "text": [
            "Extracting sentiment: 100%|██████████| 100/100 [04:23<00:00,  2.64s/it]\n"
          ]
        }
      ]
    },
    {
      "cell_type": "code",
      "source": [
        "results_100[0:2]"
      ],
      "metadata": {
        "colab": {
          "base_uri": "https://localhost:8080/"
        },
        "id": "Ybzisd1xaqnv",
        "outputId": "ab60b161-ebc9-4b4d-d186-da60248a01c3"
      },
      "execution_count": 91,
      "outputs": [
        {
          "output_type": "execute_result",
          "data": {
            "text/plain": [
              "[{'review': 'ร้านอาหารใหญ่มากกกกกกก \\nเลี้ยวเข้ามาเจอห้องน้ำก่อนเลย เออแปลกดี \\nห้องทานหลักๆอยู่ชั้น 2 มีกาแฟ น้ำผึ้ง ซึ่งก็แค่เอาน้ำผึ้งมาราด แพงเวอร์ อย่าสั่งเลย \\nลาบไข่ต้ม ไข่มันคาวอะ เลยไม่ประทับใจเท่าไหร่\\nทอดมันหัวปลีกรอบอร่อยต้องเบิ้ล \\nพะแนงห่อไข่อร่อยดี เห้ยแต่ราคา 150บาทมันเกินไปนะ รับไม่ไหวว\\nเลิกกินแล้วมีขนมหวานให้กินฟรีเล็กน้อย )ขนมไทย) \\n\\nคงไม่ไปซ้ำ แพงเกิน ',\n",
              "  'text': {'keywords': 'ราคา, บรรยากาศ, ไข่ต้ม'},\n",
              "  'contexts': ['ราคา 150 บาทมันเกินไปนะ รับไม่ไหวว',\n",
              "   'บรรยากาศร้านใหญ่มากกกกกกก',\n",
              "   'ลาบไข่ต้ม ไข่มันคาวอะ เลยไม่ประทับใจเท่าไหร่'],\n",
              "  'sentiment': ['negative', 'positive', 'negative']},\n",
              " {'review': 'วันนี้ได้มีโอกาสไปนั่งซดกาแฟที่ร้านวาวี แถวๆอารีย์\\n\\nก็ได้ยินมาบ่อยๆละ จากหลายที่ แต่ที่บ่อยสุดก็จาก Twitter ว่ากาแฟที่นี่อร่อยมากกกกกกก\\nเรียกว่าระดับแฟนๆ Starbuck ยังต้องเหลียวมามอง ก็ดองมานานจนถึงวันนี้โอกาสเหมาะ ไป\\npresent งานที่ตึก Software Park เสร็จก็เลยมาหาไรกินแถวนี้พอดี\\nจัดไป.....\\n\\n\\nบรรยากาศรอบๆร้านก็แต่งได้น่านั่ง อารมณ์ประมาณว่าอยู่ในสวนบ้านเราเอง ต้นไม้เยอะดี\\nอย่างน้อยก็เป็นสีเขียวเล็กๆ ในใจกลางเมืองได้ละ\\nเขียวชอุ่ม\\n\\nว่าแล้วไม่รอช้าขอ Test ไม่สิ Taste เลยดีกว่าเดินเข้าร้านทันใด ป้าบบ...\\n\\n\"พี่คับ เอา...ลาเต้ ร้อนแก้วนึงคับ\"\\nว่างๆ มานั่งจิบกาแฟ ฟังเพลง พักผ่อนได้ดีทีเดียว\\n\\nจ่ายตังเสร็จ ก็ถูกพนักงานอัญเชิญไปรอที่โต๊ะ 55+ เพราะที่นี่เขาเสริฟให้ถึงที่ หุๆ\\nก็เลือกที่นั่งริมกระจก จะได้เห็นสาวๆ เอ้ย วิวถนัดๆหน่อย\\nนั่งชมวิวรอกาแฟมา\\n\\nไม่นานเกินอึดใจ ไวไวยังไม่ทันสุก ลาเต้ร้อนๆก็มาวางอยู่ข้างหน้า\\nซู้ดดดดดดด อ่าห์\\n\\nชำเลืองตามองลงไป....โอ้วว ที่นี่มีเล่นลายฟองนมด้วยเว้ยยย\\nแต่พอดีด้วยความตะกละไปนิดดันฉีกน้ำตาลเทใส่แล้วเผลอคน ก็เลยไม่ได้\\nถ่ายรูปมาให้ดู 55+ เหลือแต่ซากอารยธรรมลาเต้เมพๆ\\n\\n\\nหน้าตาผ่าน ที่นี่ก็รสชาติ 1...2.....ชู้ดดดดดดด\\nเฮ้ยยย นี่มัน....เมพพพพ ถึงเราจะไม่ค่อยรู้เรื่องกาแฟมากนัก แต่เท่าที่เคยลองชิมๆ\\nมา รสชาติและกลิ่นมันไม่ธรรมดาเลย หอมๆ ถือว่าเป็นมวยรุ่นเดียวกะ Starbuck ได้\\n\\n\\nเมนูอื่นๆ ลองชิม Coco ปั่น ของเพื่อนก็แหล่มไม่แพ้กัน วิปครีมหวานมัน โกโก้ก็หอม\\nส่วนเพื่อนอีกคนสั่งน้ำส้มกะเค้กช็อกโกแลตมันก็บอกว่าแจ่ม ......\\n\\n\\nสรุปก็คือ บรรยากาศก็ดี บริการก็ดี กาแฟอร่อย ราคาไม่แพง(แต่กินบ่อยก็จุกได้)\\nถ้าครายผ่านแถวอารีย์มากินเหอะ ซอยไรจำไม่ได้รู้แต่อยู่ตรงข้าม Villa ตรง BS อารีย์เลยอะ 55+\\n\\nถ่ายโดย : Tan\\nกล้อง : ซัมซวย Omnia i900 (สีภาพถึงได้ไม่ค่อยสวยเท่าไหร) ',\n",
              "  'text': {'keywords': 'กาแฟ, บรรยากาศ, รสชาติ'},\n",
              "  'contexts': ['กาแฟที่นี่อร่อยมากกกกกกก เรียกว่าระดับแฟนๆ Starbuck ยังต้องเหลียวมามอง',\n",
              "   'บรรยากาศรอบๆร้านก็แต่งได้น่านั่ง อารมณ์ประมาณว่าอยู่ในสวนบ้านเราเอง ต้นไม้เยอะดี อย่างน้อยก็เป็นสีเขียวเล็กๆ ในใจกลางเมืองได้ละ เขียวชอุ่ม',\n",
              "   'รสชาติและกลิ่นมันไม่ธรรมดาเลย หอมๆ ถือว่าเป็นมวยรุ่นเดียวกะ Starbuck ได้'],\n",
              "  'sentiment': ['positive', 'positive', 'positive']}]"
            ]
          },
          "metadata": {},
          "execution_count": 91
        }
      ]
    },
    {
      "cell_type": "code",
      "source": [
        "import pandas as pd\n",
        "\n",
        "df = pd.DataFrame([\n",
        "    {\n",
        "        'review': r['review'],\n",
        "        **{f'keyword{i+1}': k.strip() for i, k in enumerate(r['text']['keywords'])},\n",
        "        **{f'context{i+1}_keyword': c for i, c in enumerate(r['contexts'])},\n",
        "        **{f'sentiment{i+1}': s for i, s in enumerate(r['sentiment'])}\n",
        "    }\n",
        "    for r in results_100\n",
        "])"
      ],
      "metadata": {
        "id": "Bhk5QzJtarzw"
      },
      "execution_count": 92,
      "outputs": []
    },
    {
      "cell_type": "code",
      "source": [
        "df.to_csv('results.csv', index=False, encoding='utf-8-sig')"
      ],
      "metadata": {
        "id": "zksVmqjxatQ5"
      },
      "execution_count": 93,
      "outputs": []
    },
    {
      "cell_type": "markdown",
      "source": [
        "# Sample_reviews_1,000\n"
      ],
      "metadata": {
        "id": "6mZibnXKex1X"
      }
    },
    {
      "cell_type": "code",
      "source": [
        "sample_reviews_1000 = coffee_reviews_df['column0'].head(1000)\n",
        "inputs_1000 = [{\"review\": r} for r in sample_reviews_1000]\n",
        "\n",
        "BATCH_SIZE = 8\n",
        "\n",
        "results_1000 = []\n"
      ],
      "metadata": {
        "id": "XBcnvLThe-1x"
      },
      "execution_count": 94,
      "outputs": []
    },
    {
      "cell_type": "code",
      "source": [
        "from tqdm import tqdm"
      ],
      "metadata": {
        "id": "r-zL5IAGfDYi"
      },
      "execution_count": 95,
      "outputs": []
    },
    {
      "cell_type": "code",
      "source": [
        "for i in tqdm(range(0, len(inputs_1000), BATCH_SIZE), desc=\"Extracting keywords\"):\n",
        "    batch = inputs_1000[i:i+BATCH_SIZE]\n",
        "    outputs = keyword_extract.batch(batch)\n",
        "    for inp, out in zip(batch, outputs):\n",
        "        results_1000.append({\"review\": inp[\"review\"], \"text\": out})"
      ],
      "metadata": {
        "colab": {
          "base_uri": "https://localhost:8080/"
        },
        "id": "qcTtaRvAfFEO",
        "outputId": "65ea61ac-2cf2-4e98-8961-3dea8dd65355"
      },
      "execution_count": 96,
      "outputs": [
        {
          "output_type": "stream",
          "name": "stderr",
          "text": [
            "Extracting keywords: 100%|██████████| 125/125 [19:42<00:00,  9.46s/it]\n"
          ]
        }
      ]
    },
    {
      "cell_type": "code",
      "source": [
        "for result in results_1000[0:10]:\n",
        "    print(result['text']['keywords'])"
      ],
      "metadata": {
        "id": "zrfglZEKf0bR",
        "colab": {
          "base_uri": "https://localhost:8080/"
        },
        "outputId": "6bdf4877-8345-4206-824e-0e1ff4ee369d"
      },
      "execution_count": 97,
      "outputs": [
        {
          "output_type": "stream",
          "name": "stdout",
          "text": [
            "ราคา, บรรยากาศ, ไข่ต้ม\n",
            "กาแฟ, บรรยากาศ, รสชาติ\n",
            "โดนัท, รสชาติ, ความอุ่น\n",
            "วาซาบิ, ปลาซาบะ, ไข่ตุ๋น\n",
            "โดนัท, Original Glazed, คิว\n",
            "วังพญาไท, นรสิงห์, บรรยากาศคลาสสิก\n",
            "อาหารทะเล, ราคา, บรรยากาศ\n",
            "กาแฟ, เค้ก, พนักงาน\n",
            "Shibuya Honey Toast, ฮันนี่ โทสท์, ราคา\n",
            "คาเฟ่, วานิลลา, คาโบนาร่า\n"
          ]
        }
      ]
    },
    {
      "cell_type": "code",
      "source": [
        "context_prompt = PromptTemplate(\n",
        "    template=\"\"\"จาก Review ต่อไปนี้\n",
        "    Extract context ใน Review ที่เป็นตัวแทนที่บรรยายคำว่า {keyword} ได้ดีที่สุด\n",
        "\n",
        "    Review: {review}\n",
        "\n",
        "    ตอบผลลัพธ์ในรูปแบบ JSON โดยมีคีย์เป็น 'context'\n",
        "    และค่าเป็นข้อความที่ดึงได้จาก Review\n",
        "\n",
        "    ตัวอย่าง\n",
        "    keyword คือ \"กาแฟ\"\n",
        "    context: \"กาแฟที่นี่อร่อยมาก หอมกลิ่นกาแฟคั่วสด\"\n",
        "\n",
        "    หากไม่พบข้อมูลให้ตอบ 'ไม่ระบุ'\n",
        "    \"\"\"\n",
        ")"
      ],
      "metadata": {
        "id": "k0MQE6rif3hl"
      },
      "execution_count": 98,
      "outputs": []
    },
    {
      "cell_type": "code",
      "source": [
        "sentiment_prompt = PromptTemplate(\n",
        "    template=\"\"\"จากข้อความต่อไปนี้ ให้วิเคราะห์ว่าเป็น sentiment แบบไหน\n",
        "    เลือกจากตัวเลือกเหล่านี้เท่านั้น: \"positive\", \"negative\", \"neutral\"\n",
        "\n",
        "    ข้อความ: {message}\n",
        "\n",
        "    ตอบในรูปแบบ JSON โดยมีคีย์เป็น 'sentiment'\n",
        "    และค่าเป็นหนึ่งใน list ต่อไปนี้ [positive, negative, neutral]\n",
        "\n",
        "    คำแนะนำ\n",
        "    - positive คือ ข้อความที่แสดงความพอใจ ชอบ ดี\n",
        "    - negative คือ ข้อความที่แสดงความไม่พอใจ ไม่ชอบ แย่\n",
        "    - neutral คือ ข้อความที่ไม่แสดงความรู้สึกชัดเจน เป็นกลาง\n",
        "\n",
        "    # ตัวอย่าง\n",
        "    # ข้อความ \"อร่อยมาก\" → {{\"sentiment\": \"positive\"}}\n",
        "    # ข้อความ \"แพงไป\" → {{\"sentiment\": \"negative\"}}\n",
        "    # ข้อความ \"ปกติ\" → {{\"sentiment\": \"neutral\"}}\n",
        "    \"\"\"\n",
        ")"
      ],
      "metadata": {
        "id": "QJUab227f5WN"
      },
      "execution_count": 99,
      "outputs": []
    },
    {
      "cell_type": "code",
      "source": [
        "class ContextKeyword(BaseModel):\n",
        "    context: str = Field(..., description=\"context that best represent this keyword\")\n",
        "\n",
        "class ContexExtraction(BaseModel):\n",
        "    extracted: ContextKeyword\n",
        "\n",
        "context_parser = JsonOutputParser(pydantic_object=ContexExtraction)"
      ],
      "metadata": {
        "id": "peObysNhf7M-"
      },
      "execution_count": 100,
      "outputs": []
    },
    {
      "cell_type": "code",
      "source": [
        "context_extract = context_prompt | llm3 | context_parser"
      ],
      "metadata": {
        "id": "r1pnRREuf9S2"
      },
      "execution_count": 101,
      "outputs": []
    },
    {
      "cell_type": "code",
      "source": [
        "class Sentiment(BaseModel):\n",
        "    sentiment: str = Field(..., description=\"sentiment of review\")\n",
        "\n",
        "class SentimentExtraction(BaseModel):\n",
        "    extracted: Sentiment\n",
        "\n",
        "\n",
        "sentiment_parser = JsonOutputParser(pydantic_object=SentimentExtraction)"
      ],
      "metadata": {
        "id": "3b542aM0f_i3"
      },
      "execution_count": 102,
      "outputs": []
    },
    {
      "cell_type": "code",
      "source": [
        "sentiment_extract = sentiment_prompt | llm3 | sentiment_parser"
      ],
      "metadata": {
        "id": "dBxWaZsogBiv"
      },
      "execution_count": 103,
      "outputs": []
    },
    {
      "cell_type": "code",
      "source": [
        "results_1000[0]['text']['keywords'].split(',')"
      ],
      "metadata": {
        "id": "QFdBJ5GogCem",
        "colab": {
          "base_uri": "https://localhost:8080/"
        },
        "outputId": "c7290276-a641-405e-e5bd-ef7530f56ccc"
      },
      "execution_count": 104,
      "outputs": [
        {
          "output_type": "execute_result",
          "data": {
            "text/plain": [
              "['ราคา', ' บรรยากาศ', ' ไข่ต้ม']"
            ]
          },
          "metadata": {},
          "execution_count": 104
        }
      ]
    },
    {
      "cell_type": "code",
      "source": [
        "context_inputs = []\n",
        "\n",
        "for review_data in tqdm(results_1000, desc=\"Preparing context inputs\"):\n",
        "    review = review_data['review']\n",
        "    keywords = review_data['text']['keywords'].split(',')\n",
        "    for keyword in keywords:\n",
        "        context_inputs.append({\"review\": review, \"keyword\": keyword.strip()})"
      ],
      "metadata": {
        "id": "OwibLTPEgFGH",
        "colab": {
          "base_uri": "https://localhost:8080/"
        },
        "outputId": "dad537cb-bb66-4d01-920d-7a160de48aef"
      },
      "execution_count": 105,
      "outputs": [
        {
          "output_type": "stream",
          "name": "stderr",
          "text": [
            "Preparing context inputs: 100%|██████████| 1000/1000 [00:00<00:00, 268487.01it/s]\n"
          ]
        }
      ]
    },
    {
      "cell_type": "code",
      "source": [
        "len(context_inputs)"
      ],
      "metadata": {
        "id": "wUlloABGgIwM",
        "colab": {
          "base_uri": "https://localhost:8080/"
        },
        "outputId": "4bfbd2f2-174b-4e69-b248-a861f2fe977e"
      },
      "execution_count": 106,
      "outputs": [
        {
          "output_type": "execute_result",
          "data": {
            "text/plain": [
              "3000"
            ]
          },
          "metadata": {},
          "execution_count": 106
        }
      ]
    },
    {
      "cell_type": "code",
      "source": [
        "context_results = []\n",
        "for i in tqdm(range(len(results_1000)), desc=\"Extracting contexts\"):\n",
        "   result = context_extract.batch(context_inputs[i*3:(i*3)+3])\n",
        "   contexts_list = [d['context'] for d in result]\n",
        "   results_1000[i]['contexts'] = contexts_list"
      ],
      "metadata": {
        "id": "hGnunN5pgKPQ",
        "colab": {
          "base_uri": "https://localhost:8080/"
        },
        "outputId": "01246150-fcfe-4c50-f948-b64bd04cc5bf"
      },
      "execution_count": 107,
      "outputs": [
        {
          "output_type": "stream",
          "name": "stderr",
          "text": [
            "Extracting contexts: 100%|██████████| 1000/1000 [1:13:35<00:00,  4.42s/it]\n"
          ]
        }
      ]
    },
    {
      "cell_type": "code",
      "source": [
        "results_1000[:2]"
      ],
      "metadata": {
        "id": "ctPMy131gNbZ",
        "colab": {
          "base_uri": "https://localhost:8080/"
        },
        "outputId": "eaafd2d6-2fa2-40b2-e720-eea00cbf188c"
      },
      "execution_count": 108,
      "outputs": [
        {
          "output_type": "execute_result",
          "data": {
            "text/plain": [
              "[{'review': 'ร้านอาหารใหญ่มากกกกกกก \\nเลี้ยวเข้ามาเจอห้องน้ำก่อนเลย เออแปลกดี \\nห้องทานหลักๆอยู่ชั้น 2 มีกาแฟ น้ำผึ้ง ซึ่งก็แค่เอาน้ำผึ้งมาราด แพงเวอร์ อย่าสั่งเลย \\nลาบไข่ต้ม ไข่มันคาวอะ เลยไม่ประทับใจเท่าไหร่\\nทอดมันหัวปลีกรอบอร่อยต้องเบิ้ล \\nพะแนงห่อไข่อร่อยดี เห้ยแต่ราคา 150บาทมันเกินไปนะ รับไม่ไหวว\\nเลิกกินแล้วมีขนมหวานให้กินฟรีเล็กน้อย )ขนมไทย) \\n\\nคงไม่ไปซ้ำ แพงเกิน ',\n",
              "  'text': {'keywords': 'ราคา, บรรยากาศ, ไข่ต้ม'},\n",
              "  'contexts': ['ราคา 150 บาทมันเกินไปนะ รับไม่ไหวว',\n",
              "   'บรรยากาศร้านใหญ่มากกกกกกก',\n",
              "   'ไข่ต้ม']},\n",
              " {'review': 'วันนี้ได้มีโอกาสไปนั่งซดกาแฟที่ร้านวาวี แถวๆอารีย์\\n\\nก็ได้ยินมาบ่อยๆละ จากหลายที่ แต่ที่บ่อยสุดก็จาก Twitter ว่ากาแฟที่นี่อร่อยมากกกกกกก\\nเรียกว่าระดับแฟนๆ Starbuck ยังต้องเหลียวมามอง ก็ดองมานานจนถึงวันนี้โอกาสเหมาะ ไป\\npresent งานที่ตึก Software Park เสร็จก็เลยมาหาไรกินแถวนี้พอดี\\nจัดไป.....\\n\\n\\nบรรยากาศรอบๆร้านก็แต่งได้น่านั่ง อารมณ์ประมาณว่าอยู่ในสวนบ้านเราเอง ต้นไม้เยอะดี\\nอย่างน้อยก็เป็นสีเขียวเล็กๆ ในใจกลางเมืองได้ละ\\nเขียวชอุ่ม\\n\\nว่าแล้วไม่รอช้าขอ Test ไม่สิ Taste เลยดีกว่าเดินเข้าร้านทันใด ป้าบบ...\\n\\n\"พี่คับ เอา...ลาเต้ ร้อนแก้วนึงคับ\"\\nว่างๆ มานั่งจิบกาแฟ ฟังเพลง พักผ่อนได้ดีทีเดียว\\n\\nจ่ายตังเสร็จ ก็ถูกพนักงานอัญเชิญไปรอที่โต๊ะ 55+ เพราะที่นี่เขาเสริฟให้ถึงที่ หุๆ\\nก็เลือกที่นั่งริมกระจก จะได้เห็นสาวๆ เอ้ย วิวถนัดๆหน่อย\\nนั่งชมวิวรอกาแฟมา\\n\\nไม่นานเกินอึดใจ ไวไวยังไม่ทันสุก ลาเต้ร้อนๆก็มาวางอยู่ข้างหน้า\\nซู้ดดดดดดด อ่าห์\\n\\nชำเลืองตามองลงไป....โอ้วว ที่นี่มีเล่นลายฟองนมด้วยเว้ยยย\\nแต่พอดีด้วยความตะกละไปนิดดันฉีกน้ำตาลเทใส่แล้วเผลอคน ก็เลยไม่ได้\\nถ่ายรูปมาให้ดู 55+ เหลือแต่ซากอารยธรรมลาเต้เมพๆ\\n\\n\\nหน้าตาผ่าน ที่นี่ก็รสชาติ 1...2.....ชู้ดดดดดดด\\nเฮ้ยยย นี่มัน....เมพพพพ ถึงเราจะไม่ค่อยรู้เรื่องกาแฟมากนัก แต่เท่าที่เคยลองชิมๆ\\nมา รสชาติและกลิ่นมันไม่ธรรมดาเลย หอมๆ ถือว่าเป็นมวยรุ่นเดียวกะ Starbuck ได้\\n\\n\\nเมนูอื่นๆ ลองชิม Coco ปั่น ของเพื่อนก็แหล่มไม่แพ้กัน วิปครีมหวานมัน โกโก้ก็หอม\\nส่วนเพื่อนอีกคนสั่งน้ำส้มกะเค้กช็อกโกแลตมันก็บอกว่าแจ่ม ......\\n\\n\\nสรุปก็คือ บรรยากาศก็ดี บริการก็ดี กาแฟอร่อย ราคาไม่แพง(แต่กินบ่อยก็จุกได้)\\nถ้าครายผ่านแถวอารีย์มากินเหอะ ซอยไรจำไม่ได้รู้แต่อยู่ตรงข้าม Villa ตรง BS อารีย์เลยอะ 55+\\n\\nถ่ายโดย : Tan\\nกล้อง : ซัมซวย Omnia i900 (สีภาพถึงได้ไม่ค่อยสวยเท่าไหร) ',\n",
              "  'text': {'keywords': 'กาแฟ, บรรยากาศ, รสชาติ'},\n",
              "  'contexts': ['กาแฟที่นี่อร่อยมากกกกกกก เรียกว่าระดับแฟนๆ Starbuck ยังต้องเหลียวมามอง',\n",
              "   'บรรยากาศรอบๆร้านก็แต่งได้น่านั่ง อารมณ์ประมาณว่าอยู่ในสวนบ้านเราเอง ต้นไม้เยอะดี อย่างน้อยก็เป็นสีเขียวเล็กๆ ในใจกลางเมืองได้ละ เขียวชอุ่ม',\n",
              "   'รสชาติและกลิ่นมันไม่ธรรมดาเลย หอมๆ ถือว่าเป็นมวยรุ่นเดียวกะ Starbuck ได้']}]"
            ]
          },
          "metadata": {},
          "execution_count": 108
        }
      ]
    },
    {
      "cell_type": "code",
      "source": [
        "sentiment_inputs = []\n",
        "\n",
        "for review_data in tqdm(results_1000, desc=\"Preparing sentiment inputs\"):\n",
        "    contexts = review_data['contexts']\n",
        "    for context in contexts:\n",
        "        sentiment_inputs.append({\"message\": context})"
      ],
      "metadata": {
        "id": "xake-HAzgOlZ",
        "colab": {
          "base_uri": "https://localhost:8080/"
        },
        "outputId": "559a6335-6e2d-4107-8c4a-47b4517b4b23"
      },
      "execution_count": 109,
      "outputs": [
        {
          "output_type": "stream",
          "name": "stderr",
          "text": [
            "Preparing sentiment inputs: 100%|██████████| 1000/1000 [00:00<00:00, 494903.13it/s]\n"
          ]
        }
      ]
    },
    {
      "cell_type": "code",
      "source": [
        "len(sentiment_inputs)"
      ],
      "metadata": {
        "id": "BF2nHCoDgRs6",
        "colab": {
          "base_uri": "https://localhost:8080/"
        },
        "outputId": "5161616a-d172-47a6-f433-db7a0d35caf5"
      },
      "execution_count": 110,
      "outputs": [
        {
          "output_type": "execute_result",
          "data": {
            "text/plain": [
              "3000"
            ]
          },
          "metadata": {},
          "execution_count": 110
        }
      ]
    },
    {
      "cell_type": "code",
      "source": [
        "sentiment_inputs[:6]"
      ],
      "metadata": {
        "id": "nisOYcTQgS6a",
        "colab": {
          "base_uri": "https://localhost:8080/"
        },
        "outputId": "ff8dc3d1-cb8f-4dd9-d08f-8acf1ca9b4a1"
      },
      "execution_count": 111,
      "outputs": [
        {
          "output_type": "execute_result",
          "data": {
            "text/plain": [
              "[{'message': 'ราคา 150 บาทมันเกินไปนะ รับไม่ไหวว'},\n",
              " {'message': 'บรรยากาศร้านใหญ่มากกกกกกก'},\n",
              " {'message': 'ไข่ต้ม'},\n",
              " {'message': 'กาแฟที่นี่อร่อยมากกกกกกก เรียกว่าระดับแฟนๆ Starbuck ยังต้องเหลียวมามอง'},\n",
              " {'message': 'บรรยากาศรอบๆร้านก็แต่งได้น่านั่ง อารมณ์ประมาณว่าอยู่ในสวนบ้านเราเอง ต้นไม้เยอะดี อย่างน้อยก็เป็นสีเขียวเล็กๆ ในใจกลางเมืองได้ละ เขียวชอุ่ม'},\n",
              " {'message': 'รสชาติและกลิ่นมันไม่ธรรมดาเลย หอมๆ ถือว่าเป็นมวยรุ่นเดียวกะ Starbuck ได้'}]"
            ]
          },
          "metadata": {},
          "execution_count": 111
        }
      ]
    },
    {
      "cell_type": "code",
      "source": [
        "for i in tqdm(range(len(results_1000)), desc=\"Extracting sentiment\"):\n",
        "   result = sentiment_extract.batch(sentiment_inputs[i*3:(i*3)+3])\n",
        "   sentiment_list = [d['sentiment'] for d in result]\n",
        "   results_1000[i]['sentiment'] = sentiment_list"
      ],
      "metadata": {
        "id": "t3UCAOTWgUPq",
        "colab": {
          "base_uri": "https://localhost:8080/"
        },
        "outputId": "464d9b99-92d8-4f0b-b36e-59dbb38a102e"
      },
      "execution_count": 112,
      "outputs": [
        {
          "output_type": "stream",
          "name": "stderr",
          "text": [
            "Extracting sentiment: 100%|██████████| 1000/1000 [43:12<00:00,  2.59s/it]\n"
          ]
        }
      ]
    },
    {
      "cell_type": "code",
      "source": [
        "results_1000[0:2]"
      ],
      "metadata": {
        "id": "K2zDn4ymgW70",
        "colab": {
          "base_uri": "https://localhost:8080/"
        },
        "outputId": "267b7117-11be-4cf5-d3a9-5782978d3d3d"
      },
      "execution_count": 113,
      "outputs": [
        {
          "output_type": "execute_result",
          "data": {
            "text/plain": [
              "[{'review': 'ร้านอาหารใหญ่มากกกกกกก \\nเลี้ยวเข้ามาเจอห้องน้ำก่อนเลย เออแปลกดี \\nห้องทานหลักๆอยู่ชั้น 2 มีกาแฟ น้ำผึ้ง ซึ่งก็แค่เอาน้ำผึ้งมาราด แพงเวอร์ อย่าสั่งเลย \\nลาบไข่ต้ม ไข่มันคาวอะ เลยไม่ประทับใจเท่าไหร่\\nทอดมันหัวปลีกรอบอร่อยต้องเบิ้ล \\nพะแนงห่อไข่อร่อยดี เห้ยแต่ราคา 150บาทมันเกินไปนะ รับไม่ไหวว\\nเลิกกินแล้วมีขนมหวานให้กินฟรีเล็กน้อย )ขนมไทย) \\n\\nคงไม่ไปซ้ำ แพงเกิน ',\n",
              "  'text': {'keywords': 'ราคา, บรรยากาศ, ไข่ต้ม'},\n",
              "  'contexts': ['ราคา 150 บาทมันเกินไปนะ รับไม่ไหวว',\n",
              "   'บรรยากาศร้านใหญ่มากกกกกกก',\n",
              "   'ไข่ต้ม'],\n",
              "  'sentiment': ['negative', 'positive', 'neutral']},\n",
              " {'review': 'วันนี้ได้มีโอกาสไปนั่งซดกาแฟที่ร้านวาวี แถวๆอารีย์\\n\\nก็ได้ยินมาบ่อยๆละ จากหลายที่ แต่ที่บ่อยสุดก็จาก Twitter ว่ากาแฟที่นี่อร่อยมากกกกกกก\\nเรียกว่าระดับแฟนๆ Starbuck ยังต้องเหลียวมามอง ก็ดองมานานจนถึงวันนี้โอกาสเหมาะ ไป\\npresent งานที่ตึก Software Park เสร็จก็เลยมาหาไรกินแถวนี้พอดี\\nจัดไป.....\\n\\n\\nบรรยากาศรอบๆร้านก็แต่งได้น่านั่ง อารมณ์ประมาณว่าอยู่ในสวนบ้านเราเอง ต้นไม้เยอะดี\\nอย่างน้อยก็เป็นสีเขียวเล็กๆ ในใจกลางเมืองได้ละ\\nเขียวชอุ่ม\\n\\nว่าแล้วไม่รอช้าขอ Test ไม่สิ Taste เลยดีกว่าเดินเข้าร้านทันใด ป้าบบ...\\n\\n\"พี่คับ เอา...ลาเต้ ร้อนแก้วนึงคับ\"\\nว่างๆ มานั่งจิบกาแฟ ฟังเพลง พักผ่อนได้ดีทีเดียว\\n\\nจ่ายตังเสร็จ ก็ถูกพนักงานอัญเชิญไปรอที่โต๊ะ 55+ เพราะที่นี่เขาเสริฟให้ถึงที่ หุๆ\\nก็เลือกที่นั่งริมกระจก จะได้เห็นสาวๆ เอ้ย วิวถนัดๆหน่อย\\nนั่งชมวิวรอกาแฟมา\\n\\nไม่นานเกินอึดใจ ไวไวยังไม่ทันสุก ลาเต้ร้อนๆก็มาวางอยู่ข้างหน้า\\nซู้ดดดดดดด อ่าห์\\n\\nชำเลืองตามองลงไป....โอ้วว ที่นี่มีเล่นลายฟองนมด้วยเว้ยยย\\nแต่พอดีด้วยความตะกละไปนิดดันฉีกน้ำตาลเทใส่แล้วเผลอคน ก็เลยไม่ได้\\nถ่ายรูปมาให้ดู 55+ เหลือแต่ซากอารยธรรมลาเต้เมพๆ\\n\\n\\nหน้าตาผ่าน ที่นี่ก็รสชาติ 1...2.....ชู้ดดดดดดด\\nเฮ้ยยย นี่มัน....เมพพพพ ถึงเราจะไม่ค่อยรู้เรื่องกาแฟมากนัก แต่เท่าที่เคยลองชิมๆ\\nมา รสชาติและกลิ่นมันไม่ธรรมดาเลย หอมๆ ถือว่าเป็นมวยรุ่นเดียวกะ Starbuck ได้\\n\\n\\nเมนูอื่นๆ ลองชิม Coco ปั่น ของเพื่อนก็แหล่มไม่แพ้กัน วิปครีมหวานมัน โกโก้ก็หอม\\nส่วนเพื่อนอีกคนสั่งน้ำส้มกะเค้กช็อกโกแลตมันก็บอกว่าแจ่ม ......\\n\\n\\nสรุปก็คือ บรรยากาศก็ดี บริการก็ดี กาแฟอร่อย ราคาไม่แพง(แต่กินบ่อยก็จุกได้)\\nถ้าครายผ่านแถวอารีย์มากินเหอะ ซอยไรจำไม่ได้รู้แต่อยู่ตรงข้าม Villa ตรง BS อารีย์เลยอะ 55+\\n\\nถ่ายโดย : Tan\\nกล้อง : ซัมซวย Omnia i900 (สีภาพถึงได้ไม่ค่อยสวยเท่าไหร) ',\n",
              "  'text': {'keywords': 'กาแฟ, บรรยากาศ, รสชาติ'},\n",
              "  'contexts': ['กาแฟที่นี่อร่อยมากกกกกกก เรียกว่าระดับแฟนๆ Starbuck ยังต้องเหลียวมามอง',\n",
              "   'บรรยากาศรอบๆร้านก็แต่งได้น่านั่ง อารมณ์ประมาณว่าอยู่ในสวนบ้านเราเอง ต้นไม้เยอะดี อย่างน้อยก็เป็นสีเขียวเล็กๆ ในใจกลางเมืองได้ละ เขียวชอุ่ม',\n",
              "   'รสชาติและกลิ่นมันไม่ธรรมดาเลย หอมๆ ถือว่าเป็นมวยรุ่นเดียวกะ Starbuck ได้'],\n",
              "  'sentiment': ['positive', 'positive', 'positive']}]"
            ]
          },
          "metadata": {},
          "execution_count": 113
        }
      ]
    },
    {
      "cell_type": "code",
      "source": [
        "import pandas as pd\n",
        "\n",
        "df = pd.DataFrame([\n",
        "    {\n",
        "        'review': r['review'],\n",
        "        **{f'keyword{i+1}': k.strip() for i, k in enumerate(r['text']['keywords'])},\n",
        "        **{f'context{i+1}_keyword': c for i, c in enumerate(r['contexts'])},\n",
        "        **{f'sentiment{i+1}': s for i, s in enumerate(r['sentiment'])}\n",
        "    }\n",
        "    for r in results_1000\n",
        "])"
      ],
      "metadata": {
        "id": "4f-2qdDEgY-e"
      },
      "execution_count": 114,
      "outputs": []
    },
    {
      "cell_type": "code",
      "source": [
        "df.to_csv('results.csv', index=False, encoding='utf-8-sig')"
      ],
      "metadata": {
        "id": "1ny06LZqgbub"
      },
      "execution_count": 115,
      "outputs": []
    },
    {
      "cell_type": "code",
      "source": [],
      "metadata": {
        "id": "udnlRy7agdYE"
      },
      "execution_count": null,
      "outputs": []
    }
  ],
  "metadata": {
    "accelerator": "GPU",
    "colab": {
      "gpuType": "T4",
      "provenance": []
    },
    "kernelspec": {
      "display_name": "Python 3",
      "name": "python3"
    },
    "language_info": {
      "name": "python"
    },
    "widgets": {
      "application/vnd.jupyter.widget-state+json": {
        "624f3cf234404a44838f04034a09a90a": {
          "model_module": "@jupyter-widgets/controls",
          "model_name": "FloatProgressModel",
          "model_module_version": "1.5.0",
          "state": {
            "_dom_classes": [],
            "_model_module": "@jupyter-widgets/controls",
            "_model_module_version": "1.5.0",
            "_model_name": "FloatProgressModel",
            "_view_count": null,
            "_view_module": "@jupyter-widgets/controls",
            "_view_module_version": "1.5.0",
            "_view_name": "ProgressView",
            "bar_style": "",
            "description": "",
            "description_tooltip": null,
            "layout": "IPY_MODEL_b78c1bb79934464ba454d3ca6b086e6d",
            "max": 100,
            "min": 0,
            "orientation": "horizontal",
            "style": "IPY_MODEL_295c5f37ffc44ed6888f6ca82fae21ca",
            "value": 100
          }
        },
        "b78c1bb79934464ba454d3ca6b086e6d": {
          "model_module": "@jupyter-widgets/base",
          "model_name": "LayoutModel",
          "model_module_version": "1.2.0",
          "state": {
            "_model_module": "@jupyter-widgets/base",
            "_model_module_version": "1.2.0",
            "_model_name": "LayoutModel",
            "_view_count": null,
            "_view_module": "@jupyter-widgets/base",
            "_view_module_version": "1.2.0",
            "_view_name": "LayoutView",
            "align_content": null,
            "align_items": null,
            "align_self": null,
            "border": null,
            "bottom": null,
            "display": null,
            "flex": null,
            "flex_flow": null,
            "grid_area": null,
            "grid_auto_columns": null,
            "grid_auto_flow": null,
            "grid_auto_rows": null,
            "grid_column": null,
            "grid_gap": null,
            "grid_row": null,
            "grid_template_areas": null,
            "grid_template_columns": null,
            "grid_template_rows": null,
            "height": null,
            "justify_content": null,
            "justify_items": null,
            "left": null,
            "margin": null,
            "max_height": null,
            "max_width": null,
            "min_height": null,
            "min_width": null,
            "object_fit": null,
            "object_position": null,
            "order": null,
            "overflow": null,
            "overflow_x": null,
            "overflow_y": null,
            "padding": null,
            "right": null,
            "top": null,
            "visibility": null,
            "width": "auto"
          }
        },
        "295c5f37ffc44ed6888f6ca82fae21ca": {
          "model_module": "@jupyter-widgets/controls",
          "model_name": "ProgressStyleModel",
          "model_module_version": "1.5.0",
          "state": {
            "_model_module": "@jupyter-widgets/controls",
            "_model_module_version": "1.5.0",
            "_model_name": "ProgressStyleModel",
            "_view_count": null,
            "_view_module": "@jupyter-widgets/base",
            "_view_module_version": "1.2.0",
            "_view_name": "StyleView",
            "bar_color": "black",
            "description_width": ""
          }
        },
        "b7c6d6b65ccf4a3a8d6f707f520baecc": {
          "model_module": "@jupyter-widgets/controls",
          "model_name": "FloatProgressModel",
          "model_module_version": "1.5.0",
          "state": {
            "_dom_classes": [],
            "_model_module": "@jupyter-widgets/controls",
            "_model_module_version": "1.5.0",
            "_model_name": "FloatProgressModel",
            "_view_count": null,
            "_view_module": "@jupyter-widgets/controls",
            "_view_module_version": "1.5.0",
            "_view_name": "ProgressView",
            "bar_style": "",
            "description": "",
            "description_tooltip": null,
            "layout": "IPY_MODEL_aa132323c9ea442d9874b1bcff3eedb8",
            "max": 100,
            "min": 0,
            "orientation": "horizontal",
            "style": "IPY_MODEL_cbcff50d8fdf43d8b79d273131ac4810",
            "value": 100
          }
        },
        "aa132323c9ea442d9874b1bcff3eedb8": {
          "model_module": "@jupyter-widgets/base",
          "model_name": "LayoutModel",
          "model_module_version": "1.2.0",
          "state": {
            "_model_module": "@jupyter-widgets/base",
            "_model_module_version": "1.2.0",
            "_model_name": "LayoutModel",
            "_view_count": null,
            "_view_module": "@jupyter-widgets/base",
            "_view_module_version": "1.2.0",
            "_view_name": "LayoutView",
            "align_content": null,
            "align_items": null,
            "align_self": null,
            "border": null,
            "bottom": null,
            "display": null,
            "flex": null,
            "flex_flow": null,
            "grid_area": null,
            "grid_auto_columns": null,
            "grid_auto_flow": null,
            "grid_auto_rows": null,
            "grid_column": null,
            "grid_gap": null,
            "grid_row": null,
            "grid_template_areas": null,
            "grid_template_columns": null,
            "grid_template_rows": null,
            "height": null,
            "justify_content": null,
            "justify_items": null,
            "left": null,
            "margin": null,
            "max_height": null,
            "max_width": null,
            "min_height": null,
            "min_width": null,
            "object_fit": null,
            "object_position": null,
            "order": null,
            "overflow": null,
            "overflow_x": null,
            "overflow_y": null,
            "padding": null,
            "right": null,
            "top": null,
            "visibility": null,
            "width": "auto"
          }
        },
        "cbcff50d8fdf43d8b79d273131ac4810": {
          "model_module": "@jupyter-widgets/controls",
          "model_name": "ProgressStyleModel",
          "model_module_version": "1.5.0",
          "state": {
            "_model_module": "@jupyter-widgets/controls",
            "_model_module_version": "1.5.0",
            "_model_name": "ProgressStyleModel",
            "_view_count": null,
            "_view_module": "@jupyter-widgets/base",
            "_view_module_version": "1.2.0",
            "_view_name": "StyleView",
            "bar_color": "black",
            "description_width": ""
          }
        }
      }
    }
  },
  "nbformat": 4,
  "nbformat_minor": 0
}